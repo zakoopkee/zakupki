{
 "cells": [
  {
   "cell_type": "code",
   "execution_count": 12,
   "metadata": {},
   "outputs": [],
   "source": [
    "import numpy as np\n",
    "import matplotlib.pyplot as plt\n",
    "\n",
    "from xgboost import XGBRegressor\n",
    "from catboost import CatBoostRegressor\n",
    "\n",
    "from sklearn.ensemble import RandomForestRegressor\n",
    "from sklearn.metrics import r2_score, mean_absolute_error, make_scorer\n",
    "from sklearn.model_selection import train_test_split, cross_val_score, GridSearchCV\n",
    "\n",
    "from data_reader import read_data\n",
    "from data_preprocessing import preprocess_data\n",
    "from feature_extractor import extract_features\n",
    "\n",
    "%matplotlib inline"
   ]
  },
  {
   "cell_type": "code",
   "execution_count": 2,
   "metadata": {},
   "outputs": [],
   "source": [
    "import warnings\n",
    "warnings.filterwarnings('ignore')"
   ]
  },
  {
   "cell_type": "code",
   "execution_count": 3,
   "metadata": {},
   "outputs": [
    {
     "data": {
      "text/html": [
       "<div>\n",
       "<style scoped>\n",
       "    .dataframe tbody tr th:only-of-type {\n",
       "        vertical-align: middle;\n",
       "    }\n",
       "\n",
       "    .dataframe tbody tr th {\n",
       "        vertical-align: top;\n",
       "    }\n",
       "\n",
       "    .dataframe thead th {\n",
       "        text-align: right;\n",
       "    }\n",
       "</style>\n",
       "<table border=\"1\" class=\"dataframe\">\n",
       "  <thead>\n",
       "    <tr style=\"text-align: right;\">\n",
       "      <th></th>\n",
       "      <th>id</th>\n",
       "      <th>Title</th>\n",
       "      <th>Uri</th>\n",
       "      <th>PublicationDateTimeUTC</th>\n",
       "      <th>ProcedureDisplayName</th>\n",
       "      <th>Amount</th>\n",
       "      <th>RubPrice</th>\n",
       "      <th>CurrencyCode</th>\n",
       "      <th>StatusDisplayName</th>\n",
       "      <th>StatusCode</th>\n",
       "      <th>SuppliersCount</th>\n",
       "      <th>IsWinner</th>\n",
       "      <th>Inn</th>\n",
       "      <th>Kpp</th>\n",
       "      <th>Name</th>\n",
       "      <th>Ogrn</th>\n",
       "      <th>ResultClass</th>\n",
       "      <th>Ogrn1</th>\n",
       "    </tr>\n",
       "  </thead>\n",
       "  <tbody>\n",
       "    <tr>\n",
       "      <th>0</th>\n",
       "      <td>0100600000117000001</td>\n",
       "      <td>Закупки товаров, работ, услуг в соответствии с...</td>\n",
       "      <td>https://zakupki.kontur.ru/0100600000117000001</td>\n",
       "      <td>2017-04-13</td>\n",
       "      <td>Закупка у единственного поставщика (подрядчика...</td>\n",
       "      <td>1310000.0</td>\n",
       "      <td>1310000.0</td>\n",
       "      <td>RUB</td>\n",
       "      <td>Размещение завершено</td>\n",
       "      <td>2.0</td>\n",
       "      <td>0.0</td>\n",
       "      <td>0.0</td>\n",
       "      <td>4720008346</td>\n",
       "      <td>NaN</td>\n",
       "      <td>МЕСТНАЯ АДМИНИСТРАЦИЯ МУНИЦИПАЛЬНОГО ОБРАЗОВАН...</td>\n",
       "      <td>1024702184451</td>\n",
       "      <td>0.0</td>\n",
       "      <td>47</td>\n",
       "    </tr>\n",
       "    <tr>\n",
       "      <th>1</th>\n",
       "      <td>0100600000117000002</td>\n",
       "      <td>Закупки товаров, работ, услуг в соответствии с...</td>\n",
       "      <td>https://zakupki.kontur.ru/0100600000117000002</td>\n",
       "      <td>2017-04-13</td>\n",
       "      <td>Закупка у единственного поставщика (подрядчика...</td>\n",
       "      <td>249000.0</td>\n",
       "      <td>249000.0</td>\n",
       "      <td>RUB</td>\n",
       "      <td>Размещение завершено</td>\n",
       "      <td>2.0</td>\n",
       "      <td>0.0</td>\n",
       "      <td>0.0</td>\n",
       "      <td>4720008346</td>\n",
       "      <td>NaN</td>\n",
       "      <td>МЕСТНАЯ АДМИНИСТРАЦИЯ МУНИЦИПАЛЬНОГО ОБРАЗОВАН...</td>\n",
       "      <td>1024702184451</td>\n",
       "      <td>0.0</td>\n",
       "      <td>47</td>\n",
       "    </tr>\n",
       "    <tr>\n",
       "      <th>2</th>\n",
       "      <td>0100600000117000003</td>\n",
       "      <td>Закупки товаров, работ, услуг в соответствии с...</td>\n",
       "      <td>https://zakupki.kontur.ru/0100600000117000003</td>\n",
       "      <td>2017-07-06</td>\n",
       "      <td>Закупка у единственного поставщика (подрядчика...</td>\n",
       "      <td>250000.0</td>\n",
       "      <td>250000.0</td>\n",
       "      <td>RUB</td>\n",
       "      <td>Размещение завершено</td>\n",
       "      <td>2.0</td>\n",
       "      <td>0.0</td>\n",
       "      <td>0.0</td>\n",
       "      <td>4720008346</td>\n",
       "      <td>NaN</td>\n",
       "      <td>МЕСТНАЯ АДМИНИСТРАЦИЯ МУНИЦИПАЛЬНОГО ОБРАЗОВАН...</td>\n",
       "      <td>1024702184451</td>\n",
       "      <td>0.0</td>\n",
       "      <td>47</td>\n",
       "    </tr>\n",
       "    <tr>\n",
       "      <th>3</th>\n",
       "      <td>0100600000117000004</td>\n",
       "      <td>Выполнение работ по ремонту автомобильной доро...</td>\n",
       "      <td>https://zakupki.kontur.ru/0100600000117000004</td>\n",
       "      <td>2017-07-06</td>\n",
       "      <td>Запрос котировок</td>\n",
       "      <td>400300.0</td>\n",
       "      <td>400300.0</td>\n",
       "      <td>RUB</td>\n",
       "      <td>Размещение завершено</td>\n",
       "      <td>2.0</td>\n",
       "      <td>2.0</td>\n",
       "      <td>1.0</td>\n",
       "      <td>4720008346</td>\n",
       "      <td>NaN</td>\n",
       "      <td>МЕСТНАЯ АДМИНИСТРАЦИЯ МУНИЦИПАЛЬНОГО ОБРАЗОВАН...</td>\n",
       "      <td>1024702184451</td>\n",
       "      <td>1.0</td>\n",
       "      <td>47</td>\n",
       "    </tr>\n",
       "    <tr>\n",
       "      <th>4</th>\n",
       "      <td>0100600000117000005</td>\n",
       "      <td>Приобретение и установка спортивного оборудования</td>\n",
       "      <td>https://zakupki.kontur.ru/0100600000117000005</td>\n",
       "      <td>2017-07-10</td>\n",
       "      <td>Запрос котировок</td>\n",
       "      <td>451000.0</td>\n",
       "      <td>451000.0</td>\n",
       "      <td>RUB</td>\n",
       "      <td>Размещение завершено</td>\n",
       "      <td>2.0</td>\n",
       "      <td>1.0</td>\n",
       "      <td>0.0</td>\n",
       "      <td>4720008346</td>\n",
       "      <td>NaN</td>\n",
       "      <td>МЕСТНАЯ АДМИНИСТРАЦИЯ МУНИЦИПАЛЬНОГО ОБРАЗОВАН...</td>\n",
       "      <td>1024702184451</td>\n",
       "      <td>0.0</td>\n",
       "      <td>47</td>\n",
       "    </tr>\n",
       "  </tbody>\n",
       "</table>\n",
       "</div>"
      ],
      "text/plain": [
       "                    id                                              Title  \\\n",
       "0  0100600000117000001  Закупки товаров, работ, услуг в соответствии с...   \n",
       "1  0100600000117000002  Закупки товаров, работ, услуг в соответствии с...   \n",
       "2  0100600000117000003  Закупки товаров, работ, услуг в соответствии с...   \n",
       "3  0100600000117000004  Выполнение работ по ремонту автомобильной доро...   \n",
       "4  0100600000117000005  Приобретение и установка спортивного оборудования   \n",
       "\n",
       "                                             Uri PublicationDateTimeUTC  \\\n",
       "0  https://zakupki.kontur.ru/0100600000117000001             2017-04-13   \n",
       "1  https://zakupki.kontur.ru/0100600000117000002             2017-04-13   \n",
       "2  https://zakupki.kontur.ru/0100600000117000003             2017-07-06   \n",
       "3  https://zakupki.kontur.ru/0100600000117000004             2017-07-06   \n",
       "4  https://zakupki.kontur.ru/0100600000117000005             2017-07-10   \n",
       "\n",
       "                                ProcedureDisplayName     Amount   RubPrice  \\\n",
       "0  Закупка у единственного поставщика (подрядчика...  1310000.0  1310000.0   \n",
       "1  Закупка у единственного поставщика (подрядчика...   249000.0   249000.0   \n",
       "2  Закупка у единственного поставщика (подрядчика...   250000.0   250000.0   \n",
       "3                                   Запрос котировок   400300.0   400300.0   \n",
       "4                                   Запрос котировок   451000.0   451000.0   \n",
       "\n",
       "  CurrencyCode     StatusDisplayName  StatusCode  SuppliersCount  IsWinner  \\\n",
       "0          RUB  Размещение завершено         2.0             0.0       0.0   \n",
       "1          RUB  Размещение завершено         2.0             0.0       0.0   \n",
       "2          RUB  Размещение завершено         2.0             0.0       0.0   \n",
       "3          RUB  Размещение завершено         2.0             2.0       1.0   \n",
       "4          RUB  Размещение завершено         2.0             1.0       0.0   \n",
       "\n",
       "          Inn  Kpp                                               Name  \\\n",
       "0  4720008346  NaN  МЕСТНАЯ АДМИНИСТРАЦИЯ МУНИЦИПАЛЬНОГО ОБРАЗОВАН...   \n",
       "1  4720008346  NaN  МЕСТНАЯ АДМИНИСТРАЦИЯ МУНИЦИПАЛЬНОГО ОБРАЗОВАН...   \n",
       "2  4720008346  NaN  МЕСТНАЯ АДМИНИСТРАЦИЯ МУНИЦИПАЛЬНОГО ОБРАЗОВАН...   \n",
       "3  4720008346  NaN  МЕСТНАЯ АДМИНИСТРАЦИЯ МУНИЦИПАЛЬНОГО ОБРАЗОВАН...   \n",
       "4  4720008346  NaN  МЕСТНАЯ АДМИНИСТРАЦИЯ МУНИЦИПАЛЬНОГО ОБРАЗОВАН...   \n",
       "\n",
       "            Ogrn  ResultClass  Ogrn1  \n",
       "0  1024702184451          0.0     47  \n",
       "1  1024702184451          0.0     47  \n",
       "2  1024702184451          0.0     47  \n",
       "3  1024702184451          1.0     47  \n",
       "4  1024702184451          0.0     47  "
      ]
     },
     "execution_count": 3,
     "metadata": {},
     "output_type": "execute_result"
    }
   ],
   "source": [
    "data = read_data()\n",
    "data = preprocess_data(data)\n",
    "data.head()"
   ]
  },
  {
   "cell_type": "code",
   "execution_count": 4,
   "metadata": {
    "scrolled": false
   },
   "outputs": [
    {
     "data": {
      "text/html": [
       "<div>\n",
       "<style scoped>\n",
       "    .dataframe tbody tr th:only-of-type {\n",
       "        vertical-align: middle;\n",
       "    }\n",
       "\n",
       "    .dataframe tbody tr th {\n",
       "        vertical-align: top;\n",
       "    }\n",
       "\n",
       "    .dataframe thead th {\n",
       "        text-align: right;\n",
       "    }\n",
       "</style>\n",
       "<table border=\"1\" class=\"dataframe\">\n",
       "  <thead>\n",
       "    <tr style=\"text-align: right;\">\n",
       "      <th></th>\n",
       "      <th>id</th>\n",
       "      <th>Title</th>\n",
       "      <th>Uri</th>\n",
       "      <th>PublicationDateTimeUTC</th>\n",
       "      <th>ProcedureDisplayName</th>\n",
       "      <th>Amount</th>\n",
       "      <th>RubPrice</th>\n",
       "      <th>CurrencyCode</th>\n",
       "      <th>StatusDisplayName</th>\n",
       "      <th>StatusCode</th>\n",
       "      <th>SuppliersCount</th>\n",
       "      <th>IsWinner</th>\n",
       "      <th>Inn</th>\n",
       "      <th>Kpp</th>\n",
       "      <th>Name</th>\n",
       "      <th>Ogrn</th>\n",
       "      <th>ResultClass</th>\n",
       "      <th>Ogrn1</th>\n",
       "    </tr>\n",
       "  </thead>\n",
       "  <tbody>\n",
       "    <tr>\n",
       "      <th>0</th>\n",
       "      <td>0101200009716000032</td>\n",
       "      <td>Оказание услуг по обслуживанию пассажиров в ВИ...</td>\n",
       "      <td>https://zakupki.kontur.ru/0101200009716000032</td>\n",
       "      <td>2016-12-12</td>\n",
       "      <td>Запрос котировок</td>\n",
       "      <td>499000.00</td>\n",
       "      <td>499000.00</td>\n",
       "      <td>RUB</td>\n",
       "      <td>Размещение завершено</td>\n",
       "      <td>2.0</td>\n",
       "      <td>1.0</td>\n",
       "      <td>0.0</td>\n",
       "      <td>0274151354</td>\n",
       "      <td>NaN</td>\n",
       "      <td>УПРАВЛЕНИЕ ДЕЛАМИ ГЛАВЫ РЕСПУБЛИКИ БАШКОРТОСТАН</td>\n",
       "      <td>1100280037813</td>\n",
       "      <td>0.0</td>\n",
       "      <td>2</td>\n",
       "    </tr>\n",
       "    <tr>\n",
       "      <th>1</th>\n",
       "      <td>0111300063217000348</td>\n",
       "      <td>Поставка сухофруктов для пришкольных лагерей</td>\n",
       "      <td>https://zakupki.kontur.ru/0111300063217000348</td>\n",
       "      <td>2017-05-19</td>\n",
       "      <td>Электронный аукцион</td>\n",
       "      <td>89080.00</td>\n",
       "      <td>89080.00</td>\n",
       "      <td>RUB</td>\n",
       "      <td>Размещение завершено</td>\n",
       "      <td>2.0</td>\n",
       "      <td>7.0</td>\n",
       "      <td>1.0</td>\n",
       "      <td>1644068560</td>\n",
       "      <td>NaN</td>\n",
       "      <td>МУНИЦИПАЛЬНОЕ БЮДЖЕТНОЕ ОБЩЕОБРАЗОВАТЕЛЬНОЕ УЧ...</td>\n",
       "      <td>1131644001818</td>\n",
       "      <td>1.0</td>\n",
       "      <td>16</td>\n",
       "    </tr>\n",
       "    <tr>\n",
       "      <th>2</th>\n",
       "      <td>0101200009516005909</td>\n",
       "      <td>Электронный аукцион [g000946245/7386g] на прав...</td>\n",
       "      <td>https://zakupki.kontur.ru/0101200009516005909</td>\n",
       "      <td>2016-12-15</td>\n",
       "      <td>Электронный аукцион</td>\n",
       "      <td>2478906.69</td>\n",
       "      <td>2478906.69</td>\n",
       "      <td>RUB</td>\n",
       "      <td>Размещение завершено</td>\n",
       "      <td>2.0</td>\n",
       "      <td>1.0</td>\n",
       "      <td>0.0</td>\n",
       "      <td>0276006472</td>\n",
       "      <td>NaN</td>\n",
       "      <td>ГОСУДАРСТВЕННОЕ БЮДЖЕТНОЕ УЧРЕЖДЕНИЕ ЗДРАВООХР...</td>\n",
       "      <td>1030204207440</td>\n",
       "      <td>0.0</td>\n",
       "      <td>2</td>\n",
       "    </tr>\n",
       "    <tr>\n",
       "      <th>3</th>\n",
       "      <td>0111200000916000574</td>\n",
       "      <td>Право заключения государственного контракта, г...</td>\n",
       "      <td>https://zakupki.kontur.ru/0111200000916000574</td>\n",
       "      <td>2016-07-06</td>\n",
       "      <td>Электронный аукцион</td>\n",
       "      <td>1548791.00</td>\n",
       "      <td>1548791.00</td>\n",
       "      <td>RUB</td>\n",
       "      <td>Размещение завершено</td>\n",
       "      <td>2.0</td>\n",
       "      <td>7.0</td>\n",
       "      <td>1.0</td>\n",
       "      <td>1656012756</td>\n",
       "      <td>NaN</td>\n",
       "      <td>ГОСУДАРСТВЕННОЕ АВТОНОМНОЕ УЧРЕЖДЕНИЕ ЗДРАВООХ...</td>\n",
       "      <td>1021603063767</td>\n",
       "      <td>1.0</td>\n",
       "      <td>16</td>\n",
       "    </tr>\n",
       "    <tr>\n",
       "      <th>4</th>\n",
       "      <td>0101300006016000004</td>\n",
       "      <td>Текущий ремонт объездной дороги в с. Буруновка...</td>\n",
       "      <td>https://zakupki.kontur.ru/0101300006016000004</td>\n",
       "      <td>2016-06-01</td>\n",
       "      <td>Запрос котировок</td>\n",
       "      <td>499996.00</td>\n",
       "      <td>499996.00</td>\n",
       "      <td>RUB</td>\n",
       "      <td>Размещение завершено</td>\n",
       "      <td>2.0</td>\n",
       "      <td>1.0</td>\n",
       "      <td>0.0</td>\n",
       "      <td>0219001252</td>\n",
       "      <td>NaN</td>\n",
       "      <td>АДМИНИСТРАЦИЯ СЕЛЬСКОГО ПОСЕЛЕНИЯ БУРУНОВСКИЙ ...</td>\n",
       "      <td>1020201253555</td>\n",
       "      <td>0.0</td>\n",
       "      <td>2</td>\n",
       "    </tr>\n",
       "  </tbody>\n",
       "</table>\n",
       "</div>"
      ],
      "text/plain": [
       "                    id                                              Title  \\\n",
       "0  0101200009716000032  Оказание услуг по обслуживанию пассажиров в ВИ...   \n",
       "1  0111300063217000348       Поставка сухофруктов для пришкольных лагерей   \n",
       "2  0101200009516005909  Электронный аукцион [g000946245/7386g] на прав...   \n",
       "3  0111200000916000574  Право заключения государственного контракта, г...   \n",
       "4  0101300006016000004  Текущий ремонт объездной дороги в с. Буруновка...   \n",
       "\n",
       "                                             Uri PublicationDateTimeUTC  \\\n",
       "0  https://zakupki.kontur.ru/0101200009716000032             2016-12-12   \n",
       "1  https://zakupki.kontur.ru/0111300063217000348             2017-05-19   \n",
       "2  https://zakupki.kontur.ru/0101200009516005909             2016-12-15   \n",
       "3  https://zakupki.kontur.ru/0111200000916000574             2016-07-06   \n",
       "4  https://zakupki.kontur.ru/0101300006016000004             2016-06-01   \n",
       "\n",
       "  ProcedureDisplayName      Amount    RubPrice CurrencyCode  \\\n",
       "0     Запрос котировок   499000.00   499000.00          RUB   \n",
       "1  Электронный аукцион    89080.00    89080.00          RUB   \n",
       "2  Электронный аукцион  2478906.69  2478906.69          RUB   \n",
       "3  Электронный аукцион  1548791.00  1548791.00          RUB   \n",
       "4     Запрос котировок   499996.00   499996.00          RUB   \n",
       "\n",
       "      StatusDisplayName  StatusCode  SuppliersCount  IsWinner         Inn  \\\n",
       "0  Размещение завершено         2.0             1.0       0.0  0274151354   \n",
       "1  Размещение завершено         2.0             7.0       1.0  1644068560   \n",
       "2  Размещение завершено         2.0             1.0       0.0  0276006472   \n",
       "3  Размещение завершено         2.0             7.0       1.0  1656012756   \n",
       "4  Размещение завершено         2.0             1.0       0.0  0219001252   \n",
       "\n",
       "   Kpp                                               Name           Ogrn  \\\n",
       "0  NaN    УПРАВЛЕНИЕ ДЕЛАМИ ГЛАВЫ РЕСПУБЛИКИ БАШКОРТОСТАН  1100280037813   \n",
       "1  NaN  МУНИЦИПАЛЬНОЕ БЮДЖЕТНОЕ ОБЩЕОБРАЗОВАТЕЛЬНОЕ УЧ...  1131644001818   \n",
       "2  NaN  ГОСУДАРСТВЕННОЕ БЮДЖЕТНОЕ УЧРЕЖДЕНИЕ ЗДРАВООХР...  1030204207440   \n",
       "3  NaN  ГОСУДАРСТВЕННОЕ АВТОНОМНОЕ УЧРЕЖДЕНИЕ ЗДРАВООХ...  1021603063767   \n",
       "4  NaN  АДМИНИСТРАЦИЯ СЕЛЬСКОГО ПОСЕЛЕНИЯ БУРУНОВСКИЙ ...  1020201253555   \n",
       "\n",
       "   ResultClass  Ogrn1  \n",
       "0          0.0      2  \n",
       "1          1.0     16  \n",
       "2          0.0      2  \n",
       "3          1.0     16  \n",
       "4          0.0      2  "
      ]
     },
     "execution_count": 4,
     "metadata": {},
     "output_type": "execute_result"
    }
   ],
   "source": [
    "g = data.groupby('SuppliersCount')\n",
    "data_balanced = g.apply(lambda x: x.head(5000)).sample(frac=1, random_state=42).reset_index(drop=True)\n",
    "data_balanced.head()"
   ]
  },
  {
   "cell_type": "code",
   "execution_count": 5,
   "metadata": {
    "scrolled": false
   },
   "outputs": [
    {
     "data": {
      "text/plain": [
       "SuppliersCount\n",
       "0.0     5000\n",
       "1.0     5000\n",
       "2.0     5000\n",
       "3.0     5000\n",
       "4.0     5000\n",
       "5.0     5000\n",
       "6.0     5000\n",
       "7.0     3402\n",
       "8.0     1746\n",
       "9.0     1101\n",
       "10.0     448\n",
       "11.0     148\n",
       "12.0      73\n",
       "13.0      58\n",
       "14.0      75\n",
       "15.0      12\n",
       "16.0      27\n",
       "17.0       3\n",
       "18.0       4\n",
       "19.0       2\n",
       "20.0       1\n",
       "dtype: int64"
      ]
     },
     "execution_count": 5,
     "metadata": {},
     "output_type": "execute_result"
    }
   ],
   "source": [
    "data_balanced.groupby('SuppliersCount').size()"
   ]
  },
  {
   "cell_type": "code",
   "execution_count": 6,
   "metadata": {
    "scrolled": false
   },
   "outputs": [
    {
     "name": "stdout",
     "output_type": "stream",
     "text": [
      "oh CurrencyCode\n",
      "oh ProcedureDisplayName\n",
      "oh Ogrn\n",
      "ng Title\n",
      "ng ProcedureDisplayName\n",
      "ng OrgName\n"
     ]
    },
    {
     "data": {
      "text/html": [
       "<div>\n",
       "<style scoped>\n",
       "    .dataframe tbody tr th:only-of-type {\n",
       "        vertical-align: middle;\n",
       "    }\n",
       "\n",
       "    .dataframe tbody tr th {\n",
       "        vertical-align: top;\n",
       "    }\n",
       "\n",
       "    .dataframe thead th {\n",
       "        text-align: right;\n",
       "    }\n",
       "</style>\n",
       "<table border=\"1\" class=\"dataframe\">\n",
       "  <thead>\n",
       "    <tr style=\"text-align: right;\">\n",
       "      <th></th>\n",
       "      <th>RubPrice</th>\n",
       "      <th>SuppliersCount</th>\n",
       "      <th>Amount</th>\n",
       "      <th>OneHot_CurrencyCode_RUB</th>\n",
       "      <th>OneHot_ProcedureDisplayName_Закрытый аукцион</th>\n",
       "      <th>OneHot_ProcedureDisplayName_Закупка у единственного поставщика (подрядчика, исполнителя)</th>\n",
       "      <th>OneHot_ProcedureDisplayName_Запрос котировок</th>\n",
       "      <th>OneHot_ProcedureDisplayName_Запрос котировок на выполнение работ по строительству, реконструкции, капитальному ремонту, а также проектных, изыскательских работ в отношении олимпийских объектов и строительству домов взамен земельных участков и объектов недвижимого имущества, изымаемых</th>\n",
       "      <th>OneHot_ProcedureDisplayName_Запрос предложений</th>\n",
       "      <th>OneHot_ProcedureDisplayName_Конкурс для заключения энергосервисного контракта</th>\n",
       "      <th>...</th>\n",
       "      <th>Ngrams_Name_290</th>\n",
       "      <th>Ngrams_Name_291</th>\n",
       "      <th>Ngrams_Name_292</th>\n",
       "      <th>Ngrams_Name_293</th>\n",
       "      <th>Ngrams_Name_294</th>\n",
       "      <th>Ngrams_Name_295</th>\n",
       "      <th>Ngrams_Name_296</th>\n",
       "      <th>Ngrams_Name_297</th>\n",
       "      <th>Ngrams_Name_298</th>\n",
       "      <th>Ngrams_Name_299</th>\n",
       "    </tr>\n",
       "  </thead>\n",
       "  <tbody>\n",
       "    <tr>\n",
       "      <th>0</th>\n",
       "      <td>499000.00</td>\n",
       "      <td>1.0</td>\n",
       "      <td>499000.00</td>\n",
       "      <td>1.0</td>\n",
       "      <td>0.0</td>\n",
       "      <td>0.0</td>\n",
       "      <td>1.0</td>\n",
       "      <td>0.0</td>\n",
       "      <td>0.0</td>\n",
       "      <td>0.0</td>\n",
       "      <td>...</td>\n",
       "      <td>0.0</td>\n",
       "      <td>0.0</td>\n",
       "      <td>0.0</td>\n",
       "      <td>0.0</td>\n",
       "      <td>0.0</td>\n",
       "      <td>0.0</td>\n",
       "      <td>0.0</td>\n",
       "      <td>0.0</td>\n",
       "      <td>0.0</td>\n",
       "      <td>0.0</td>\n",
       "    </tr>\n",
       "    <tr>\n",
       "      <th>1</th>\n",
       "      <td>89080.00</td>\n",
       "      <td>7.0</td>\n",
       "      <td>89080.00</td>\n",
       "      <td>1.0</td>\n",
       "      <td>0.0</td>\n",
       "      <td>0.0</td>\n",
       "      <td>0.0</td>\n",
       "      <td>0.0</td>\n",
       "      <td>0.0</td>\n",
       "      <td>0.0</td>\n",
       "      <td>...</td>\n",
       "      <td>0.0</td>\n",
       "      <td>0.0</td>\n",
       "      <td>0.0</td>\n",
       "      <td>0.0</td>\n",
       "      <td>0.0</td>\n",
       "      <td>0.0</td>\n",
       "      <td>1.0</td>\n",
       "      <td>0.0</td>\n",
       "      <td>1.0</td>\n",
       "      <td>0.0</td>\n",
       "    </tr>\n",
       "    <tr>\n",
       "      <th>2</th>\n",
       "      <td>2478906.69</td>\n",
       "      <td>1.0</td>\n",
       "      <td>2478906.69</td>\n",
       "      <td>1.0</td>\n",
       "      <td>0.0</td>\n",
       "      <td>0.0</td>\n",
       "      <td>0.0</td>\n",
       "      <td>0.0</td>\n",
       "      <td>0.0</td>\n",
       "      <td>0.0</td>\n",
       "      <td>...</td>\n",
       "      <td>0.0</td>\n",
       "      <td>0.0</td>\n",
       "      <td>0.0</td>\n",
       "      <td>1.0</td>\n",
       "      <td>0.0</td>\n",
       "      <td>0.0</td>\n",
       "      <td>0.0</td>\n",
       "      <td>0.0</td>\n",
       "      <td>0.0</td>\n",
       "      <td>0.0</td>\n",
       "    </tr>\n",
       "    <tr>\n",
       "      <th>3</th>\n",
       "      <td>1548791.00</td>\n",
       "      <td>7.0</td>\n",
       "      <td>1548791.00</td>\n",
       "      <td>1.0</td>\n",
       "      <td>0.0</td>\n",
       "      <td>0.0</td>\n",
       "      <td>0.0</td>\n",
       "      <td>0.0</td>\n",
       "      <td>0.0</td>\n",
       "      <td>0.0</td>\n",
       "      <td>...</td>\n",
       "      <td>0.0</td>\n",
       "      <td>0.0</td>\n",
       "      <td>0.0</td>\n",
       "      <td>0.0</td>\n",
       "      <td>0.0</td>\n",
       "      <td>0.0</td>\n",
       "      <td>0.0</td>\n",
       "      <td>0.0</td>\n",
       "      <td>0.0</td>\n",
       "      <td>0.0</td>\n",
       "    </tr>\n",
       "    <tr>\n",
       "      <th>4</th>\n",
       "      <td>499996.00</td>\n",
       "      <td>1.0</td>\n",
       "      <td>499996.00</td>\n",
       "      <td>1.0</td>\n",
       "      <td>0.0</td>\n",
       "      <td>0.0</td>\n",
       "      <td>1.0</td>\n",
       "      <td>0.0</td>\n",
       "      <td>0.0</td>\n",
       "      <td>0.0</td>\n",
       "      <td>...</td>\n",
       "      <td>0.0</td>\n",
       "      <td>0.0</td>\n",
       "      <td>0.0</td>\n",
       "      <td>0.0</td>\n",
       "      <td>0.0</td>\n",
       "      <td>0.0</td>\n",
       "      <td>0.0</td>\n",
       "      <td>0.0</td>\n",
       "      <td>0.0</td>\n",
       "      <td>0.0</td>\n",
       "    </tr>\n",
       "  </tbody>\n",
       "</table>\n",
       "<p>5 rows × 933 columns</p>\n",
       "</div>"
      ],
      "text/plain": [
       "     RubPrice  SuppliersCount      Amount  OneHot_CurrencyCode_RUB  \\\n",
       "0   499000.00             1.0   499000.00                      1.0   \n",
       "1    89080.00             7.0    89080.00                      1.0   \n",
       "2  2478906.69             1.0  2478906.69                      1.0   \n",
       "3  1548791.00             7.0  1548791.00                      1.0   \n",
       "4   499996.00             1.0   499996.00                      1.0   \n",
       "\n",
       "   OneHot_ProcedureDisplayName_Закрытый аукцион  \\\n",
       "0                                           0.0   \n",
       "1                                           0.0   \n",
       "2                                           0.0   \n",
       "3                                           0.0   \n",
       "4                                           0.0   \n",
       "\n",
       "   OneHot_ProcedureDisplayName_Закупка у единственного поставщика (подрядчика, исполнителя)  \\\n",
       "0                                                0.0                                          \n",
       "1                                                0.0                                          \n",
       "2                                                0.0                                          \n",
       "3                                                0.0                                          \n",
       "4                                                0.0                                          \n",
       "\n",
       "   OneHot_ProcedureDisplayName_Запрос котировок  \\\n",
       "0                                           1.0   \n",
       "1                                           0.0   \n",
       "2                                           0.0   \n",
       "3                                           0.0   \n",
       "4                                           1.0   \n",
       "\n",
       "   OneHot_ProcedureDisplayName_Запрос котировок на выполнение работ по строительству, реконструкции, капитальному ремонту, а также проектных, изыскательских работ в отношении олимпийских объектов и строительству домов взамен земельных участков и объектов недвижимого имущества, изымаемых  \\\n",
       "0                                                0.0                                                                                                                                                                                                                                              \n",
       "1                                                0.0                                                                                                                                                                                                                                              \n",
       "2                                                0.0                                                                                                                                                                                                                                              \n",
       "3                                                0.0                                                                                                                                                                                                                                              \n",
       "4                                                0.0                                                                                                                                                                                                                                              \n",
       "\n",
       "   OneHot_ProcedureDisplayName_Запрос предложений  \\\n",
       "0                                             0.0   \n",
       "1                                             0.0   \n",
       "2                                             0.0   \n",
       "3                                             0.0   \n",
       "4                                             0.0   \n",
       "\n",
       "   OneHot_ProcedureDisplayName_Конкурс для заключения энергосервисного контракта  \\\n",
       "0                                                0.0                               \n",
       "1                                                0.0                               \n",
       "2                                                0.0                               \n",
       "3                                                0.0                               \n",
       "4                                                0.0                               \n",
       "\n",
       "   ...  Ngrams_Name_290  Ngrams_Name_291  Ngrams_Name_292  Ngrams_Name_293  \\\n",
       "0  ...              0.0              0.0              0.0              0.0   \n",
       "1  ...              0.0              0.0              0.0              0.0   \n",
       "2  ...              0.0              0.0              0.0              1.0   \n",
       "3  ...              0.0              0.0              0.0              0.0   \n",
       "4  ...              0.0              0.0              0.0              0.0   \n",
       "\n",
       "   Ngrams_Name_294  Ngrams_Name_295  Ngrams_Name_296  Ngrams_Name_297  \\\n",
       "0              0.0              0.0              0.0              0.0   \n",
       "1              0.0              0.0              1.0              0.0   \n",
       "2              0.0              0.0              0.0              0.0   \n",
       "3              0.0              0.0              0.0              0.0   \n",
       "4              0.0              0.0              0.0              0.0   \n",
       "\n",
       "   Ngrams_Name_298  Ngrams_Name_299  \n",
       "0              0.0              0.0  \n",
       "1              1.0              0.0  \n",
       "2              0.0              0.0  \n",
       "3              0.0              0.0  \n",
       "4              0.0              0.0  \n",
       "\n",
       "[5 rows x 933 columns]"
      ]
     },
     "execution_count": 6,
     "metadata": {},
     "output_type": "execute_result"
    }
   ],
   "source": [
    "features, _ = extract_features(data_balanced)\n",
    "features.fillna(0, inplace=True)\n",
    "features.drop('ResultClass', axis=1, inplace=True)\n",
    "features.head()"
   ]
  },
  {
   "cell_type": "code",
   "execution_count": 7,
   "metadata": {},
   "outputs": [],
   "source": [
    "X = features.drop('SuppliersCount', axis=1)\n",
    "y = features.SuppliersCount\n",
    "X_train, X_test, y_train, y_test = train_test_split(X, y, test_size=0.3, random_state=42)"
   ]
  },
  {
   "cell_type": "code",
   "execution_count": 30,
   "metadata": {},
   "outputs": [
    {
     "data": {
      "text/plain": [
       "0.6589810829995763"
      ]
     },
     "execution_count": 30,
     "metadata": {},
     "output_type": "execute_result"
    }
   ],
   "source": [
    "np.mean(cross_val_score(XGBRegressor(), X_train, y_train, cv=5, scoring=make_scorer(r2_score), n_jobs=-1))"
   ]
  },
  {
   "cell_type": "code",
   "execution_count": 31,
   "metadata": {},
   "outputs": [
    {
     "data": {
      "text/plain": [
       "0.7129832634483728"
      ]
     },
     "execution_count": 31,
     "metadata": {},
     "output_type": "execute_result"
    }
   ],
   "source": [
    "cat = CatBoostRegressor(verbose=0)\n",
    "np.mean(cross_val_score(cat, X_train, y_train, cv=5, scoring=make_scorer(r2_score)))"
   ]
  },
  {
   "cell_type": "code",
   "execution_count": 32,
   "metadata": {},
   "outputs": [
    {
     "data": {
      "text/plain": [
       "-2.1168486461452214"
      ]
     },
     "execution_count": 32,
     "metadata": {},
     "output_type": "execute_result"
    }
   ],
   "source": [
    "cat = CatBoostRegressor(verbose=0)\n",
    "np.mean(cross_val_score(cat, X_train, y_train, cv=5, scoring='neg_mean_squared_error'))"
   ]
  },
  {
   "cell_type": "code",
   "execution_count": 33,
   "metadata": {},
   "outputs": [
    {
     "data": {
      "text/plain": [
       "-0.9813254845723941"
      ]
     },
     "execution_count": 33,
     "metadata": {},
     "output_type": "execute_result"
    }
   ],
   "source": [
    "cat = CatBoostRegressor(verbose=0)\n",
    "np.mean(cross_val_score(cat, X_train, y_train, cv=5, scoring='neg_mean_absolute_error'))"
   ]
  },
  {
   "cell_type": "code",
   "execution_count": 35,
   "metadata": {
    "scrolled": false
   },
   "outputs": [
    {
     "name": "stdout",
     "output_type": "stream",
     "text": [
      "Fitting 5 folds for each of 192 candidates, totalling 960 fits\n"
     ]
    },
    {
     "name": "stderr",
     "output_type": "stream",
     "text": [
      "[Parallel(n_jobs=-1)]: Using backend LokyBackend with 12 concurrent workers.\n",
      "[Parallel(n_jobs=-1)]: Done   1 tasks      | elapsed:  2.1min\n",
      "[Parallel(n_jobs=-1)]: Done   8 tasks      | elapsed:  2.1min\n",
      "[Parallel(n_jobs=-1)]: Done  17 tasks      | elapsed:  4.2min\n",
      "[Parallel(n_jobs=-1)]: Done  26 tasks      | elapsed:  6.2min\n",
      "[Parallel(n_jobs=-1)]: Done  37 tasks      | elapsed:  8.2min\n",
      "[Parallel(n_jobs=-1)]: Done  48 tasks      | elapsed:  8.8min\n",
      "[Parallel(n_jobs=-1)]: Done  61 tasks      | elapsed: 12.9min\n",
      "[Parallel(n_jobs=-1)]: Done  74 tasks      | elapsed: 15.3min\n",
      "[Parallel(n_jobs=-1)]: Done  89 tasks      | elapsed: 18.4min\n",
      "[Parallel(n_jobs=-1)]: Done 104 tasks      | elapsed: 21.3min\n",
      "[Parallel(n_jobs=-1)]: Done 121 tasks      | elapsed: 26.7min\n",
      "[Parallel(n_jobs=-1)]: Done 138 tasks      | elapsed: 30.2min\n",
      "[Parallel(n_jobs=-1)]: Done 157 tasks      | elapsed: 35.3min\n",
      "[Parallel(n_jobs=-1)]: Done 176 tasks      | elapsed: 38.1min\n",
      "[Parallel(n_jobs=-1)]: Done 197 tasks      | elapsed: 41.9min\n",
      "[Parallel(n_jobs=-1)]: Done 218 tasks      | elapsed: 46.1min\n",
      "[Parallel(n_jobs=-1)]: Done 241 tasks      | elapsed: 51.2min\n",
      "[Parallel(n_jobs=-1)]: Done 264 tasks      | elapsed: 55.3min\n",
      "[Parallel(n_jobs=-1)]: Done 289 tasks      | elapsed: 62.4min\n",
      "[Parallel(n_jobs=-1)]: Done 314 tasks      | elapsed: 68.8min\n",
      "[Parallel(n_jobs=-1)]: Done 341 tasks      | elapsed: 73.8min\n",
      "[Parallel(n_jobs=-1)]: Done 368 tasks      | elapsed: 78.4min\n",
      "[Parallel(n_jobs=-1)]: Done 397 tasks      | elapsed: 84.6min\n",
      "[Parallel(n_jobs=-1)]: Done 426 tasks      | elapsed: 91.5min\n",
      "[Parallel(n_jobs=-1)]: Done 457 tasks      | elapsed: 99.1min\n",
      "[Parallel(n_jobs=-1)]: Done 488 tasks      | elapsed: 105.8min\n",
      "[Parallel(n_jobs=-1)]: Done 521 tasks      | elapsed: 112.8min\n",
      "[Parallel(n_jobs=-1)]: Done 554 tasks      | elapsed: 119.0min\n",
      "[Parallel(n_jobs=-1)]: Done 589 tasks      | elapsed: 127.6min\n",
      "[Parallel(n_jobs=-1)]: Done 624 tasks      | elapsed: 137.2min\n",
      "[Parallel(n_jobs=-1)]: Done 661 tasks      | elapsed: 145.2min\n",
      "[Parallel(n_jobs=-1)]: Done 698 tasks      | elapsed: 152.4min\n",
      "[Parallel(n_jobs=-1)]: Done 737 tasks      | elapsed: 161.1min\n",
      "[Parallel(n_jobs=-1)]: Done 776 tasks      | elapsed: 170.8min\n",
      "[Parallel(n_jobs=-1)]: Done 817 tasks      | elapsed: 180.4min\n",
      "[Parallel(n_jobs=-1)]: Done 858 tasks      | elapsed: 189.0min\n",
      "[Parallel(n_jobs=-1)]: Done 901 tasks      | elapsed: 199.2min\n",
      "[Parallel(n_jobs=-1)]: Done 960 out of 960 | elapsed: 213.8min finished\n"
     ]
    },
    {
     "name": "stdout",
     "output_type": "stream",
     "text": [
      "{'colsample_bytree': 1.0, 'gamma': 0.2, 'max_depth': 7, 'min_child_weight': 5, 'subsample': 0.9}\n",
      "0.735739244684597\n"
     ]
    }
   ],
   "source": [
    "param_grid = {\n",
    "    'min_child_weight':[2, 3, 4, 5], \n",
    "    'gamma':[i / 10.0 for i in range(1, 4)],  \n",
    "    'subsample':[i / 10.0 for i in range(9, 11)],\n",
    "    'colsample_bytree':[i / 10.0 for i in range(9, 11)], \n",
    "    'max_depth': [4, 5, 6, 7]\n",
    "}\n",
    "\n",
    "xgb_reg= XGBRegressor(n_estimators=100, random_state=42) \n",
    "\n",
    "grid = GridSearchCV(xgb_reg, param_grid, cv=5, verbose=10, scoring=\"r2\", n_jobs=-1)\n",
    "grid.fit(X_train, y_train)\n",
    "print(grid.best_params_)\n",
    "print(grid.best_score_)"
   ]
  },
  {
   "cell_type": "code",
   "execution_count": null,
   "metadata": {},
   "outputs": [],
   "source": [
    "param_grid = {\n",
    "    'min_samples_leaf': [2, 3, 5, 7, 9, 11, 12],\n",
    "    'max_features': [200, 300, 400, 'sqrt', 'log2']\n",
    "}\n",
    "clf = RandomForestRegressor(n_estimators=200, n_jobs=-1, random_state=42)\n",
    "optimizer = GridSearchCV(clf, param_grid, scoring='r2', cv=5)\n",
    "optimizer.fit(X_train, y_train)\n",
    "optimizer.best_estimator_, optimizer.best_score_"
   ]
  },
  {
   "cell_type": "code",
   "execution_count": null,
   "metadata": {},
   "outputs": [],
   "source": [
    "rf = RandomForestRegressor(n_estimators=200, n_jobs=-1, random_state=42, max_features=300, min_samples_leaf=2)\n",
    "rf.fit(X_train, y_train)\n",
    "y_pred = rf.predict(X_test)"
   ]
  },
  {
   "cell_type": "code",
   "execution_count": null,
   "metadata": {},
   "outputs": [],
   "source": [
    "r2_score(y_test, y_pred)"
   ]
  },
  {
   "cell_type": "code",
   "execution_count": null,
   "metadata": {},
   "outputs": [],
   "source": [
    "mean_absolute_error(y_test, y_pred)"
   ]
  },
  {
   "cell_type": "code",
   "execution_count": 9,
   "metadata": {},
   "outputs": [],
   "source": [
    "xgb = XGBRegressor(n_estimators=100, random_state=42, colsample_bytree=1.0,\n",
    "                   max_depth=7, gamma=0.2, min_child_weight=5, subsample=0.9)\n",
    "xgb.fit(X_train, y_train)\n",
    "y_pred = xgb.predict(X_test)"
   ]
  },
  {
   "cell_type": "code",
   "execution_count": 10,
   "metadata": {},
   "outputs": [
    {
     "data": {
      "text/plain": [
       "0.752212177030305"
      ]
     },
     "execution_count": 10,
     "metadata": {},
     "output_type": "execute_result"
    }
   ],
   "source": [
    "r2_score(y_test, y_pred)"
   ]
  },
  {
   "cell_type": "code",
   "execution_count": 11,
   "metadata": {},
   "outputs": [
    {
     "data": {
      "text/plain": [
       "0.8874952825212516"
      ]
     },
     "execution_count": 11,
     "metadata": {},
     "output_type": "execute_result"
    }
   ],
   "source": [
    "mean_absolute_error(y_test, y_pred)"
   ]
  },
  {
   "cell_type": "code",
   "execution_count": 8,
   "metadata": {},
   "outputs": [],
   "source": [
    "cat = CatBoostRegressor(verbose=0)\n",
    "cat.fit(X_train, y_train)\n",
    "y_pred = cat.predict(X_test)"
   ]
  },
  {
   "cell_type": "code",
   "execution_count": 9,
   "metadata": {},
   "outputs": [
    {
     "data": {
      "text/plain": [
       "0.7297346785490764"
      ]
     },
     "execution_count": 9,
     "metadata": {},
     "output_type": "execute_result"
    }
   ],
   "source": [
    "r2_score(y_test, y_pred)"
   ]
  },
  {
   "cell_type": "code",
   "execution_count": 10,
   "metadata": {},
   "outputs": [
    {
     "data": {
      "text/plain": [
       "0.9525586949475416"
      ]
     },
     "execution_count": 10,
     "metadata": {},
     "output_type": "execute_result"
    }
   ],
   "source": [
    "mean_absolute_error(y_test, y_pred)"
   ]
  },
  {
   "cell_type": "code",
   "execution_count": 17,
   "metadata": {},
   "outputs": [
    {
     "data": {
      "text/plain": [
       "-2.680949062462968"
      ]
     },
     "execution_count": 17,
     "metadata": {},
     "output_type": "execute_result"
    }
   ],
   "source": [
    "xgb = XGBRegressor(n_estimators=100, random_state=42, colsample_bytree=1.0, gamma=0.2,\n",
    "                      max_depth=7, min_child_weight=3, subsample=0.9)\n",
    "np.mean(cross_val_score(xgb, X_train, y_train, cv=5, scoring='neg_mean_squared_error', n_jobs=-1))"
   ]
  },
  {
   "cell_type": "code",
   "execution_count": 18,
   "metadata": {},
   "outputs": [
    {
     "data": {
      "text/plain": [
       "-1.0976418305083062"
      ]
     },
     "execution_count": 18,
     "metadata": {},
     "output_type": "execute_result"
    }
   ],
   "source": [
    "xgb = XGBRegressor(n_estimators=100, random_state=42, colsample_bytree=1.0, gamma=0.2,\n",
    "                      max_depth=7, min_child_weight=3, subsample=0.9)\n",
    "np.mean(cross_val_score(xgb, X_train, y_train, cv=5, scoring='neg_mean_absolute_error', n_jobs=-1))"
   ]
  },
  {
   "cell_type": "code",
   "execution_count": 9,
   "metadata": {},
   "outputs": [],
   "source": [
    "data = {\n",
    "    #'tree': 0.3764,\n",
    "    'rf': 0.5998,\n",
    "    'xgb': 0.7841,\n",
    "    'gbm': 0.6670,\n",
    "    'cb': 0.7670\n",
    "}"
   ]
  },
  {
   "cell_type": "code",
   "execution_count": 10,
   "metadata": {},
   "outputs": [
    {
     "data": {
      "text/plain": [
       "Text(0, 0.5, '$R^2$')"
      ]
     },
     "execution_count": 10,
     "metadata": {},
     "output_type": "execute_result"
    },
    {
     "data": {
      "image/png": "[encoded data removed]",
      "text/plain": [
       "<Figure size 432x288 with 1 Axes>"
      ]
     },
     "metadata": {
      "needs_background": "light"
     },
     "output_type": "display_data"
    }
   ],
   "source": [
    "x = sorted(data, key=lambda key: data[key])\n",
    "y = list(map(lambda key: data[key], x))\n",
    "\n",
    "#x = ['tree', 'rf', 'xgb', 'lGBM', 'cb']\n",
    "#y = [0.908333333333, 0.918, 0.918666666667, 0.920333333333]\n",
    "plt.plot(x, y, 'go-')\n",
    "plt.ylabel('$R^2$')"
   ]
  },
  {
   "cell_type": "code",
   "execution_count": null,
   "metadata": {},
   "outputs": [],
   "source": []
  }
 ],
 "metadata": {
  "kernelspec": {
   "display_name": "Python 3",
   "language": "python",
   "name": "python3"
  },
  "language_info": {
   "codemirror_mode": {
    "name": "ipython",
    "version": 3
   },
   "file_extension": ".py",
   "mimetype": "text/x-python",
   "name": "python",
   "nbconvert_exporter": "python",
   "pygments_lexer": "ipython3",
   "version": "3.7.3"
  }
 },
 "nbformat": 4,
 "nbformat_minor": 2
}
