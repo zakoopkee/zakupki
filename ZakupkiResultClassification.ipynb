{
 "cells": [
  {
   "cell_type": "code",
   "execution_count": 1,
   "metadata": {
    "collapsed": true
   },
   "outputs": [],
   "source": [
    "import numpy as np\n",
    "import pandas as pd\n",
    "import seaborn as sns\n",
    "import matplotlib.pyplot as plt\n",
    "import lightgbm as lgb\n",
    "\n",
    "from sklearn.model_selection import train_test_split\n",
    "from sklearn.ensemble import RandomForestClassifier as RF\n",
    "from sklearn.model_selection import cross_val_score\n",
    "\n",
    "from data_reader import read_data\n",
    "from data_preprocessing import preprocess_data\n",
    "from feature_extractor import extract_features\n",
    "\n",
    "%matplotlib inline"
   ]
  },
  {
   "cell_type": "code",
   "execution_count": 2,
   "metadata": {},
   "outputs": [
    {
     "data": {
      "text/html": [
       "<div>\n",
       "<style scoped>\n",
       "    .dataframe tbody tr th:only-of-type {\n",
       "        vertical-align: middle;\n",
       "    }\n",
       "\n",
       "    .dataframe tbody tr th {\n",
       "        vertical-align: top;\n",
       "    }\n",
       "\n",
       "    .dataframe thead th {\n",
       "        text-align: right;\n",
       "    }\n",
       "</style>\n",
       "<table border=\"1\" class=\"dataframe\">\n",
       "  <thead>\n",
       "    <tr style=\"text-align: right;\">\n",
       "      <th></th>\n",
       "      <th>id</th>\n",
       "      <th>Title</th>\n",
       "      <th>Uri</th>\n",
       "      <th>PublicationDateTimeUTC</th>\n",
       "      <th>ProcedureDisplayName</th>\n",
       "      <th>Amount</th>\n",
       "      <th>RubPrice</th>\n",
       "      <th>CurrencyCode</th>\n",
       "      <th>StatusDisplayName</th>\n",
       "      <th>StatusCode</th>\n",
       "      <th>SuppliersCount</th>\n",
       "      <th>IsWinner</th>\n",
       "      <th>Inn</th>\n",
       "      <th>Kpp</th>\n",
       "      <th>Name</th>\n",
       "      <th>Ogrn</th>\n",
       "      <th>ResultClass</th>\n",
       "      <th>Ogrn1</th>\n",
       "    </tr>\n",
       "  </thead>\n",
       "  <tbody>\n",
       "    <tr>\n",
       "      <th>0</th>\n",
       "      <td>0100600000117000008</td>\n",
       "      <td>услуги по капитальному ремонту</td>\n",
       "      <td>https://zakupki.kontur.ru/0100600000117000008</td>\n",
       "      <td>2017-07-27</td>\n",
       "      <td>Закупка у единственного поставщика (подрядчика...</td>\n",
       "      <td>352000.00</td>\n",
       "      <td>352000.00</td>\n",
       "      <td>RUB</td>\n",
       "      <td>Размещение отменено</td>\n",
       "      <td>3.0</td>\n",
       "      <td>0.0</td>\n",
       "      <td>0.0</td>\n",
       "      <td>4720008346</td>\n",
       "      <td>NaN</td>\n",
       "      <td>МЕСТНАЯ АДМИНИСТРАЦИЯ МУНИЦИПАЛЬНОГО ОБРАЗОВАН...</td>\n",
       "      <td>1024702184451</td>\n",
       "      <td>2.0</td>\n",
       "      <td>47</td>\n",
       "    </tr>\n",
       "    <tr>\n",
       "      <th>1</th>\n",
       "      <td>0101100000116000162</td>\n",
       "      <td>Масло сладко-сливочное несоленое Крестьянское</td>\n",
       "      <td>https://zakupki.kontur.ru/0101100000116000162</td>\n",
       "      <td>2016-10-24</td>\n",
       "      <td>Электронный аукцион</td>\n",
       "      <td>3855260.00</td>\n",
       "      <td>3855260.00</td>\n",
       "      <td>RUB</td>\n",
       "      <td>Размещение отменено</td>\n",
       "      <td>3.0</td>\n",
       "      <td>0.0</td>\n",
       "      <td>0.0</td>\n",
       "      <td>0275006455</td>\n",
       "      <td>NaN</td>\n",
       "      <td>УПРАВЛЕНИЕ ФЕДЕРАЛЬНОЙ СЛУЖБЫ ИСПОЛНЕНИЯ НАКАЗ...</td>\n",
       "      <td>1020202776714</td>\n",
       "      <td>2.0</td>\n",
       "      <td>2</td>\n",
       "    </tr>\n",
       "    <tr>\n",
       "      <th>2</th>\n",
       "      <td>0101100000117000153</td>\n",
       "      <td>Индивидуальный рацион питания для повседневной...</td>\n",
       "      <td>https://zakupki.kontur.ru/0101100000117000153</td>\n",
       "      <td>2017-09-25</td>\n",
       "      <td>Электронный аукцион</td>\n",
       "      <td>3600000.00</td>\n",
       "      <td>3600000.00</td>\n",
       "      <td>RUB</td>\n",
       "      <td>Размещение отменено</td>\n",
       "      <td>3.0</td>\n",
       "      <td>0.0</td>\n",
       "      <td>0.0</td>\n",
       "      <td>0275006455</td>\n",
       "      <td>NaN</td>\n",
       "      <td>УПРАВЛЕНИЕ ФЕДЕРАЛЬНОЙ СЛУЖБЫ ИСПОЛНЕНИЯ НАКАЗ...</td>\n",
       "      <td>1020202776714</td>\n",
       "      <td>2.0</td>\n",
       "      <td>2</td>\n",
       "    </tr>\n",
       "    <tr>\n",
       "      <th>3</th>\n",
       "      <td>0101100000117000154</td>\n",
       "      <td>Консервы мясные</td>\n",
       "      <td>https://zakupki.kontur.ru/0101100000117000154</td>\n",
       "      <td>2017-09-25</td>\n",
       "      <td>Электронный аукцион</td>\n",
       "      <td>15400000.00</td>\n",
       "      <td>15400000.00</td>\n",
       "      <td>RUB</td>\n",
       "      <td>Размещение отменено</td>\n",
       "      <td>3.0</td>\n",
       "      <td>0.0</td>\n",
       "      <td>0.0</td>\n",
       "      <td>0275006455</td>\n",
       "      <td>NaN</td>\n",
       "      <td>УПРАВЛЕНИЕ ФЕДЕРАЛЬНОЙ СЛУЖБЫ ИСПОЛНЕНИЯ НАКАЗ...</td>\n",
       "      <td>1020202776714</td>\n",
       "      <td>2.0</td>\n",
       "      <td>2</td>\n",
       "    </tr>\n",
       "    <tr>\n",
       "      <th>4</th>\n",
       "      <td>0101100000416000025</td>\n",
       "      <td>Право заключения государственного контракта на...</td>\n",
       "      <td>https://zakupki.kontur.ru/0101100000416000025</td>\n",
       "      <td>2016-05-30</td>\n",
       "      <td>Открытый конкурс</td>\n",
       "      <td>79196.94</td>\n",
       "      <td>79196.94</td>\n",
       "      <td>RUB</td>\n",
       "      <td>Размещение отменено</td>\n",
       "      <td>3.0</td>\n",
       "      <td>0.0</td>\n",
       "      <td>0.0</td>\n",
       "      <td>0278103383</td>\n",
       "      <td>NaN</td>\n",
       "      <td>УПРАВЛЕНИЕ ФЕДЕРАЛЬНОЙ СЛУЖБЫ ПО НАДЗОРУ В СФЕ...</td>\n",
       "      <td>1040204605154</td>\n",
       "      <td>2.0</td>\n",
       "      <td>2</td>\n",
       "    </tr>\n",
       "  </tbody>\n",
       "</table>\n",
       "</div>"
      ],
      "text/plain": [
       "                    id                                              Title  \\\n",
       "0  0100600000117000008                     услуги по капитальному ремонту   \n",
       "1  0101100000116000162      Масло сладко-сливочное несоленое Крестьянское   \n",
       "2  0101100000117000153  Индивидуальный рацион питания для повседневной...   \n",
       "3  0101100000117000154                                    Консервы мясные   \n",
       "4  0101100000416000025  Право заключения государственного контракта на...   \n",
       "\n",
       "                                             Uri PublicationDateTimeUTC  \\\n",
       "0  https://zakupki.kontur.ru/0100600000117000008             2017-07-27   \n",
       "1  https://zakupki.kontur.ru/0101100000116000162             2016-10-24   \n",
       "2  https://zakupki.kontur.ru/0101100000117000153             2017-09-25   \n",
       "3  https://zakupki.kontur.ru/0101100000117000154             2017-09-25   \n",
       "4  https://zakupki.kontur.ru/0101100000416000025             2016-05-30   \n",
       "\n",
       "                                ProcedureDisplayName       Amount  \\\n",
       "0  Закупка у единственного поставщика (подрядчика...    352000.00   \n",
       "1                                Электронный аукцион   3855260.00   \n",
       "2                                Электронный аукцион   3600000.00   \n",
       "3                                Электронный аукцион  15400000.00   \n",
       "4                                   Открытый конкурс     79196.94   \n",
       "\n",
       "      RubPrice CurrencyCode    StatusDisplayName  StatusCode  SuppliersCount  \\\n",
       "0    352000.00          RUB  Размещение отменено         3.0             0.0   \n",
       "1   3855260.00          RUB  Размещение отменено         3.0             0.0   \n",
       "2   3600000.00          RUB  Размещение отменено         3.0             0.0   \n",
       "3  15400000.00          RUB  Размещение отменено         3.0             0.0   \n",
       "4     79196.94          RUB  Размещение отменено         3.0             0.0   \n",
       "\n",
       "   IsWinner         Inn  Kpp  \\\n",
       "0       0.0  4720008346  NaN   \n",
       "1       0.0  0275006455  NaN   \n",
       "2       0.0  0275006455  NaN   \n",
       "3       0.0  0275006455  NaN   \n",
       "4       0.0  0278103383  NaN   \n",
       "\n",
       "                                                Name           Ogrn  \\\n",
       "0  МЕСТНАЯ АДМИНИСТРАЦИЯ МУНИЦИПАЛЬНОГО ОБРАЗОВАН...  1024702184451   \n",
       "1  УПРАВЛЕНИЕ ФЕДЕРАЛЬНОЙ СЛУЖБЫ ИСПОЛНЕНИЯ НАКАЗ...  1020202776714   \n",
       "2  УПРАВЛЕНИЕ ФЕДЕРАЛЬНОЙ СЛУЖБЫ ИСПОЛНЕНИЯ НАКАЗ...  1020202776714   \n",
       "3  УПРАВЛЕНИЕ ФЕДЕРАЛЬНОЙ СЛУЖБЫ ИСПОЛНЕНИЯ НАКАЗ...  1020202776714   \n",
       "4  УПРАВЛЕНИЕ ФЕДЕРАЛЬНОЙ СЛУЖБЫ ПО НАДЗОРУ В СФЕ...  1040204605154   \n",
       "\n",
       "   ResultClass  Ogrn1  \n",
       "0          2.0     47  \n",
       "1          2.0      2  \n",
       "2          2.0      2  \n",
       "3          2.0      2  \n",
       "4          2.0      2  "
      ]
     },
     "execution_count": 2,
     "metadata": {},
     "output_type": "execute_result"
    }
   ],
   "source": [
    "data = read_data()\n",
    "data = preprocess_data(data, limit=10000)\n",
    "data.head()"
   ]
  },
  {
   "cell_type": "code",
   "execution_count": 3,
   "metadata": {
    "collapsed": true
   },
   "outputs": [],
   "source": [
    "# def GetBalancedSample(data, count):\n",
    "#     cancel_count = min(count // 3, data[data.ResultClass == 2].shape[0])\n",
    "#     success_count = min((count - cancel_count) // 2, data[data.ResultClass == 1].shape[0])\n",
    "#     unsuccess_count = count - cancel_count - success_count\n",
    "#     balanced_sample = pd.concat([data[data.ResultClass == 2][:cancel_count],\n",
    "#                                  data[data.ResultClass == 1][:success_count],\n",
    "#                                  data[data.ResultClass == 0][:unsuccess_count]])\n",
    "#     print(balanced_sample.groupby('ResultClass').size())\n",
    "#     return balanced_sample\n",
    "\n",
    "# GetBalancedSample(data, 10000)"
   ]
  },
  {
   "cell_type": "code",
   "execution_count": 4,
   "metadata": {},
   "outputs": [
    {
     "data": {
      "text/plain": [
       "ResultClass\n",
       "0.0    3334\n",
       "1.0    3333\n",
       "2.0    3333\n",
       "dtype: int64"
      ]
     },
     "execution_count": 4,
     "metadata": {},
     "output_type": "execute_result"
    }
   ],
   "source": [
    "data.groupby('ResultClass').size()"
   ]
  },
  {
   "cell_type": "code",
   "execution_count": 5,
   "metadata": {},
   "outputs": [
    {
     "data": {
      "text/html": [
       "<div>\n",
       "<style scoped>\n",
       "    .dataframe tbody tr th:only-of-type {\n",
       "        vertical-align: middle;\n",
       "    }\n",
       "\n",
       "    .dataframe tbody tr th {\n",
       "        vertical-align: top;\n",
       "    }\n",
       "\n",
       "    .dataframe thead th {\n",
       "        text-align: right;\n",
       "    }\n",
       "</style>\n",
       "<table border=\"1\" class=\"dataframe\">\n",
       "  <thead>\n",
       "    <tr style=\"text-align: right;\">\n",
       "      <th></th>\n",
       "      <th>Amount</th>\n",
       "      <th>RubPrice</th>\n",
       "      <th>StatusCode</th>\n",
       "      <th>SuppliersCount</th>\n",
       "      <th>IsWinner</th>\n",
       "      <th>ResultClass</th>\n",
       "      <th>Ogrn1</th>\n",
       "    </tr>\n",
       "  </thead>\n",
       "  <tbody>\n",
       "    <tr>\n",
       "      <th>Amount</th>\n",
       "      <td>1.000000</td>\n",
       "      <td>1.000000</td>\n",
       "      <td>0.049623</td>\n",
       "      <td>-0.007320</td>\n",
       "      <td>-0.008976</td>\n",
       "      <td>0.049587</td>\n",
       "      <td>0.002860</td>\n",
       "    </tr>\n",
       "    <tr>\n",
       "      <th>RubPrice</th>\n",
       "      <td>1.000000</td>\n",
       "      <td>1.000000</td>\n",
       "      <td>0.049623</td>\n",
       "      <td>-0.007320</td>\n",
       "      <td>-0.008976</td>\n",
       "      <td>0.049587</td>\n",
       "      <td>0.002860</td>\n",
       "    </tr>\n",
       "    <tr>\n",
       "      <th>StatusCode</th>\n",
       "      <td>0.049623</td>\n",
       "      <td>0.049623</td>\n",
       "      <td>1.000000</td>\n",
       "      <td>-0.397528</td>\n",
       "      <td>-0.456661</td>\n",
       "      <td>0.866025</td>\n",
       "      <td>0.476021</td>\n",
       "    </tr>\n",
       "    <tr>\n",
       "      <th>SuppliersCount</th>\n",
       "      <td>-0.007320</td>\n",
       "      <td>-0.007320</td>\n",
       "      <td>-0.397528</td>\n",
       "      <td>1.000000</td>\n",
       "      <td>0.811654</td>\n",
       "      <td>-0.006131</td>\n",
       "      <td>-0.152609</td>\n",
       "    </tr>\n",
       "    <tr>\n",
       "      <th>IsWinner</th>\n",
       "      <td>-0.008976</td>\n",
       "      <td>-0.008976</td>\n",
       "      <td>-0.456661</td>\n",
       "      <td>0.811654</td>\n",
       "      <td>1.000000</td>\n",
       "      <td>0.033552</td>\n",
       "      <td>-0.164021</td>\n",
       "    </tr>\n",
       "    <tr>\n",
       "      <th>ResultClass</th>\n",
       "      <td>0.049587</td>\n",
       "      <td>0.049587</td>\n",
       "      <td>0.866025</td>\n",
       "      <td>-0.006131</td>\n",
       "      <td>0.033552</td>\n",
       "      <td>1.000000</td>\n",
       "      <td>0.438440</td>\n",
       "    </tr>\n",
       "    <tr>\n",
       "      <th>Ogrn1</th>\n",
       "      <td>0.002860</td>\n",
       "      <td>0.002860</td>\n",
       "      <td>0.476021</td>\n",
       "      <td>-0.152609</td>\n",
       "      <td>-0.164021</td>\n",
       "      <td>0.438440</td>\n",
       "      <td>1.000000</td>\n",
       "    </tr>\n",
       "  </tbody>\n",
       "</table>\n",
       "</div>"
      ],
      "text/plain": [
       "                  Amount  RubPrice  StatusCode  SuppliersCount  IsWinner  \\\n",
       "Amount          1.000000  1.000000    0.049623       -0.007320 -0.008976   \n",
       "RubPrice        1.000000  1.000000    0.049623       -0.007320 -0.008976   \n",
       "StatusCode      0.049623  0.049623    1.000000       -0.397528 -0.456661   \n",
       "SuppliersCount -0.007320 -0.007320   -0.397528        1.000000  0.811654   \n",
       "IsWinner       -0.008976 -0.008976   -0.456661        0.811654  1.000000   \n",
       "ResultClass     0.049587  0.049587    0.866025       -0.006131  0.033552   \n",
       "Ogrn1           0.002860  0.002860    0.476021       -0.152609 -0.164021   \n",
       "\n",
       "                ResultClass     Ogrn1  \n",
       "Amount             0.049587  0.002860  \n",
       "RubPrice           0.049587  0.002860  \n",
       "StatusCode         0.866025  0.476021  \n",
       "SuppliersCount    -0.006131 -0.152609  \n",
       "IsWinner           0.033552 -0.164021  \n",
       "ResultClass        1.000000  0.438440  \n",
       "Ogrn1              0.438440  1.000000  "
      ]
     },
     "execution_count": 5,
     "metadata": {},
     "output_type": "execute_result"
    }
   ],
   "source": [
    "data.corr()"
   ]
  },
  {
   "cell_type": "code",
   "execution_count": 6,
   "metadata": {},
   "outputs": [
    {
     "name": "stdout",
     "output_type": "stream",
     "text": [
      "oh CurrencyCode\n",
      "oh ProcedureDisplayName\n",
      "oh Ogrn\n",
      "ng Title\n",
      "ng ProcedureDisplayName\n",
      "ng OrgName\n"
     ]
    }
   ],
   "source": [
    "data_head = data\n",
    "features = extract_features(data_head)[0]"
   ]
  },
  {
   "cell_type": "code",
   "execution_count": 10,
   "metadata": {
    "collapsed": true
   },
   "outputs": [],
   "source": [
    "features = pd.DataFrame(features)"
   ]
  },
  {
   "cell_type": "code",
   "execution_count": 11,
   "metadata": {},
   "outputs": [],
   "source": [
    "features.fillna(0, inplace=True)\n",
    "X_train, X_test, y_train, y_test = train_test_split(features.drop('ResultClass', axis=1).values,\n",
    "                            features.ResultClass.values,\n",
    "                            test_size=0.3,\n",
    "                            random_state=123456)"
   ]
  },
  {
   "cell_type": "code",
   "execution_count": 12,
   "metadata": {
    "collapsed": true
   },
   "outputs": [],
   "source": [
    "# features = pd.DataFrame(features)\n",
    "# X_train = features.drop(['ResultClass'], 1)\n",
    "# y_train = features.ResultClass"
   ]
  },
  {
   "cell_type": "code",
   "execution_count": 13,
   "metadata": {
    "collapsed": true
   },
   "outputs": [],
   "source": [
    "# rf = RF(n_estimators=10, n_jobs=-1)\n",
    "# rf = rf.fit(x_train, y_train)\n",
    "# np.mean(cross_val_score(rf, x_train, y_train))"
   ]
  },
  {
   "cell_type": "code",
   "execution_count": 14,
   "metadata": {
    "collapsed": true
   },
   "outputs": [],
   "source": [
    "# create dataset for lightgbm\n",
    "lgb_train = lgb.Dataset(X_train, label=y_train, free_raw_data=False)\n",
    "lgb_eval = lgb.Dataset(X_test, label=y_test, reference=lgb_train, free_raw_data=False)"
   ]
  },
  {
   "cell_type": "code",
   "execution_count": 15,
   "metadata": {
    "collapsed": true
   },
   "outputs": [],
   "source": [
    "params = {\n",
    "        'objective': 'multiclass',\n",
    "        'metric': 'multi_error',\n",
    "        'num_classes': 3,\n",
    "        'feature_fraction': 0.9,\n",
    "        'feature_fraction_seed': 123456,\n",
    "        'bagging_fraction': 0.9,\n",
    "        'bagging_freq': 1,\n",
    "        'bagging_seed': 123456,\n",
    "        'max_depth': 8,\n",
    "        'learning_rate': 0.1,\n",
    "        'min_data_in_leaf': 11,\n",
    "        'num_iteration': 100,\n",
    "        'num_threads': 2\n",
    "    }"
   ]
  },
  {
   "cell_type": "code",
   "execution_count": 16,
   "metadata": {
    "scrolled": true
   },
   "outputs": [
    {
     "name": "stderr",
     "output_type": "stream",
     "text": [
      "C:\\Users\\chikurova\\AppData\\Local\\Continuum\\Anaconda3\\lib\\site-packages\\lightgbm\\engine.py:99: UserWarning: Found `num_iteration` in params. Will use it instead of argument\n",
      "  warnings.warn(\"Found `{}` in params. Will use it instead of argument\".format(alias))\n"
     ]
    },
    {
     "name": "stdout",
     "output_type": "stream",
     "text": [
      "[1]\ttraining's multi_error: 0.0791429\tvalid_1's multi_error: 0.105667\n",
      "[2]\ttraining's multi_error: 0.073\tvalid_1's multi_error: 0.102667\n",
      "[3]\ttraining's multi_error: 0.0688571\tvalid_1's multi_error: 0.1\n",
      "[4]\ttraining's multi_error: 0.0714286\tvalid_1's multi_error: 0.0976667\n",
      "[5]\ttraining's multi_error: 0.0698571\tvalid_1's multi_error: 0.102\n",
      "[6]\ttraining's multi_error: 0.064\tvalid_1's multi_error: 0.098\n",
      "[7]\ttraining's multi_error: 0.0612857\tvalid_1's multi_error: 0.0943333\n",
      "[8]\ttraining's multi_error: 0.0622857\tvalid_1's multi_error: 0.0966667\n",
      "[9]\ttraining's multi_error: 0.0591429\tvalid_1's multi_error: 0.0926667\n",
      "[10]\ttraining's multi_error: 0.0574286\tvalid_1's multi_error: 0.094\n",
      "[11]\ttraining's multi_error: 0.0555714\tvalid_1's multi_error: 0.0916667\n",
      "[12]\ttraining's multi_error: 0.0555714\tvalid_1's multi_error: 0.0906667\n",
      "[13]\ttraining's multi_error: 0.0545714\tvalid_1's multi_error: 0.0936667\n",
      "[14]\ttraining's multi_error: 0.0541429\tvalid_1's multi_error: 0.091\n",
      "[15]\ttraining's multi_error: 0.0537143\tvalid_1's multi_error: 0.0913333\n",
      "[16]\ttraining's multi_error: 0.0514286\tvalid_1's multi_error: 0.0923333\n",
      "[17]\ttraining's multi_error: 0.0514286\tvalid_1's multi_error: 0.0893333\n",
      "[18]\ttraining's multi_error: 0.0508571\tvalid_1's multi_error: 0.0896667\n",
      "[19]\ttraining's multi_error: 0.0504286\tvalid_1's multi_error: 0.0876667\n",
      "[20]\ttraining's multi_error: 0.0485714\tvalid_1's multi_error: 0.089\n",
      "[21]\ttraining's multi_error: 0.0481429\tvalid_1's multi_error: 0.088\n",
      "[22]\ttraining's multi_error: 0.0465714\tvalid_1's multi_error: 0.0886667\n",
      "[23]\ttraining's multi_error: 0.0455714\tvalid_1's multi_error: 0.0893333\n",
      "[24]\ttraining's multi_error: 0.0444286\tvalid_1's multi_error: 0.088\n",
      "[25]\ttraining's multi_error: 0.0442857\tvalid_1's multi_error: 0.0866667\n",
      "[26]\ttraining's multi_error: 0.0422857\tvalid_1's multi_error: 0.086\n",
      "[27]\ttraining's multi_error: 0.0417143\tvalid_1's multi_error: 0.0853333\n",
      "[28]\ttraining's multi_error: 0.041\tvalid_1's multi_error: 0.0853333\n",
      "[29]\ttraining's multi_error: 0.0397143\tvalid_1's multi_error: 0.086\n",
      "[30]\ttraining's multi_error: 0.0385714\tvalid_1's multi_error: 0.085\n",
      "[31]\ttraining's multi_error: 0.0382857\tvalid_1's multi_error: 0.0846667\n",
      "[32]\ttraining's multi_error: 0.0372857\tvalid_1's multi_error: 0.0826667\n",
      "[33]\ttraining's multi_error: 0.036\tvalid_1's multi_error: 0.083\n",
      "[34]\ttraining's multi_error: 0.0357143\tvalid_1's multi_error: 0.0833333\n",
      "[35]\ttraining's multi_error: 0.0344286\tvalid_1's multi_error: 0.0836667\n",
      "[36]\ttraining's multi_error: 0.0331429\tvalid_1's multi_error: 0.083\n",
      "[37]\ttraining's multi_error: 0.0318571\tvalid_1's multi_error: 0.0826667\n",
      "[38]\ttraining's multi_error: 0.0315714\tvalid_1's multi_error: 0.0826667\n",
      "[39]\ttraining's multi_error: 0.0311429\tvalid_1's multi_error: 0.084\n",
      "[40]\ttraining's multi_error: 0.0311429\tvalid_1's multi_error: 0.0836667\n",
      "[41]\ttraining's multi_error: 0.0304286\tvalid_1's multi_error: 0.083\n",
      "[42]\ttraining's multi_error: 0.03\tvalid_1's multi_error: 0.083\n",
      "[43]\ttraining's multi_error: 0.0297143\tvalid_1's multi_error: 0.0813333\n",
      "[44]\ttraining's multi_error: 0.0288571\tvalid_1's multi_error: 0.0813333\n",
      "[45]\ttraining's multi_error: 0.0284286\tvalid_1's multi_error: 0.0803333\n",
      "[46]\ttraining's multi_error: 0.0284286\tvalid_1's multi_error: 0.0806667\n",
      "[47]\ttraining's multi_error: 0.028\tvalid_1's multi_error: 0.0806667\n",
      "[48]\ttraining's multi_error: 0.0277143\tvalid_1's multi_error: 0.0806667\n",
      "[49]\ttraining's multi_error: 0.0275714\tvalid_1's multi_error: 0.08\n",
      "[50]\ttraining's multi_error: 0.0268571\tvalid_1's multi_error: 0.0803333\n",
      "[51]\ttraining's multi_error: 0.0268571\tvalid_1's multi_error: 0.0796667\n",
      "[52]\ttraining's multi_error: 0.0265714\tvalid_1's multi_error: 0.0803333\n",
      "[53]\ttraining's multi_error: 0.026\tvalid_1's multi_error: 0.0803333\n",
      "[54]\ttraining's multi_error: 0.0251429\tvalid_1's multi_error: 0.0806667\n",
      "[55]\ttraining's multi_error: 0.0248571\tvalid_1's multi_error: 0.0803333\n",
      "[56]\ttraining's multi_error: 0.0245714\tvalid_1's multi_error: 0.0806667\n",
      "[57]\ttraining's multi_error: 0.0238571\tvalid_1's multi_error: 0.0816667\n",
      "[58]\ttraining's multi_error: 0.0235714\tvalid_1's multi_error: 0.0816667\n",
      "[59]\ttraining's multi_error: 0.0232857\tvalid_1's multi_error: 0.082\n",
      "[60]\ttraining's multi_error: 0.0225714\tvalid_1's multi_error: 0.0813333\n",
      "[61]\ttraining's multi_error: 0.022\tvalid_1's multi_error: 0.0816667\n",
      "[62]\ttraining's multi_error: 0.0214286\tvalid_1's multi_error: 0.0816667\n",
      "[63]\ttraining's multi_error: 0.0212857\tvalid_1's multi_error: 0.0816667\n",
      "[64]\ttraining's multi_error: 0.021\tvalid_1's multi_error: 0.083\n",
      "[65]\ttraining's multi_error: 0.02\tvalid_1's multi_error: 0.082\n",
      "[66]\ttraining's multi_error: 0.0188571\tvalid_1's multi_error: 0.0816667\n",
      "[67]\ttraining's multi_error: 0.0187143\tvalid_1's multi_error: 0.0813333\n",
      "[68]\ttraining's multi_error: 0.0184286\tvalid_1's multi_error: 0.0803333\n",
      "[69]\ttraining's multi_error: 0.0175714\tvalid_1's multi_error: 0.0813333\n",
      "[70]\ttraining's multi_error: 0.0175714\tvalid_1's multi_error: 0.0816667\n",
      "[71]\ttraining's multi_error: 0.0174286\tvalid_1's multi_error: 0.0813333\n",
      "[72]\ttraining's multi_error: 0.017\tvalid_1's multi_error: 0.0813333\n",
      "[73]\ttraining's multi_error: 0.0167143\tvalid_1's multi_error: 0.0813333\n",
      "[74]\ttraining's multi_error: 0.016\tvalid_1's multi_error: 0.0816667\n",
      "[75]\ttraining's multi_error: 0.0155714\tvalid_1's multi_error: 0.0816667\n",
      "[76]\ttraining's multi_error: 0.0148571\tvalid_1's multi_error: 0.081\n",
      "[77]\ttraining's multi_error: 0.0145714\tvalid_1's multi_error: 0.08\n",
      "[78]\ttraining's multi_error: 0.0135714\tvalid_1's multi_error: 0.0813333\n",
      "[79]\ttraining's multi_error: 0.0131429\tvalid_1's multi_error: 0.0813333\n",
      "[80]\ttraining's multi_error: 0.0127143\tvalid_1's multi_error: 0.0806667\n",
      "[81]\ttraining's multi_error: 0.0122857\tvalid_1's multi_error: 0.0803333\n",
      "[82]\ttraining's multi_error: 0.0128571\tvalid_1's multi_error: 0.0803333\n",
      "[83]\ttraining's multi_error: 0.0127143\tvalid_1's multi_error: 0.0806667\n",
      "[84]\ttraining's multi_error: 0.0121429\tvalid_1's multi_error: 0.081\n",
      "[85]\ttraining's multi_error: 0.012\tvalid_1's multi_error: 0.082\n",
      "[86]\ttraining's multi_error: 0.0114286\tvalid_1's multi_error: 0.0813333\n",
      "[87]\ttraining's multi_error: 0.0114286\tvalid_1's multi_error: 0.0816667\n",
      "[88]\ttraining's multi_error: 0.011\tvalid_1's multi_error: 0.081\n",
      "[89]\ttraining's multi_error: 0.0107143\tvalid_1's multi_error: 0.0803333\n",
      "[90]\ttraining's multi_error: 0.0105714\tvalid_1's multi_error: 0.081\n",
      "[91]\ttraining's multi_error: 0.0101429\tvalid_1's multi_error: 0.0813333\n",
      "[92]\ttraining's multi_error: 0.01\tvalid_1's multi_error: 0.0816667\n",
      "[93]\ttraining's multi_error: 0.01\tvalid_1's multi_error: 0.0823333\n",
      "[94]\ttraining's multi_error: 0.01\tvalid_1's multi_error: 0.082\n",
      "[95]\ttraining's multi_error: 0.01\tvalid_1's multi_error: 0.0823333\n",
      "[96]\ttraining's multi_error: 0.01\tvalid_1's multi_error: 0.0823333\n",
      "[97]\ttraining's multi_error: 0.00957143\tvalid_1's multi_error: 0.082\n",
      "[98]\ttraining's multi_error: 0.00942857\tvalid_1's multi_error: 0.0816667\n",
      "[99]\ttraining's multi_error: 0.00957143\tvalid_1's multi_error: 0.082\n",
      "[100]\ttraining's multi_error: 0.00914286\tvalid_1's multi_error: 0.0813333\n"
     ]
    }
   ],
   "source": [
    "gbm = lgb.train(params,\n",
    "                    lgb_train,\n",
    "                    valid_sets=[lgb_train, lgb_eval])  # eval training data\n",
    "#                     feature_name=features.drop('ResultClass', axis=1).columns.values)\n",
    "\n",
    "gbm.save_model(f'result.txt')"
   ]
  },
  {
   "cell_type": "code",
   "execution_count": 17,
   "metadata": {
    "scrolled": true
   },
   "outputs": [
    {
     "data": {
      "text/plain": [
       "{'multi_error-mean': [0.094571897770293,\n",
       "  0.09314220265341354,\n",
       "  0.09228546650326525,\n",
       "  0.08642658596426775,\n",
       "  0.08785668778814179,\n",
       "  0.08771250447749149,\n",
       "  0.0881425037506047,\n",
       "  0.08671291162149214,\n",
       "  0.08557046162263562,\n",
       "  0.08442780783327578,\n",
       "  0.08428413552840516,\n",
       "  0.08399974609946578],\n",
       " 'multi_error-stdv': [0.007852546247737732,\n",
       "  0.0055321708320201935,\n",
       "  0.0037566893193274587,\n",
       "  0.005463710803654207,\n",
       "  0.002948385473230661,\n",
       "  0.0033749924479041992,\n",
       "  0.002179960694221576,\n",
       "  0.0030103491501607006,\n",
       "  0.0031491924351767786,\n",
       "  0.003122618610625163,\n",
       "  0.0044866421646252855,\n",
       "  0.004051300436048929]}"
      ]
     },
     "execution_count": 17,
     "metadata": {},
     "output_type": "execute_result"
    }
   ],
   "source": [
    "num_round = 12\n",
    "lgb.cv(params, lgb_train, num_round, nfold=5)"
   ]
  },
  {
   "cell_type": "code",
   "execution_count": 36,
   "metadata": {},
   "outputs": [
    {
     "name": "stderr",
     "output_type": "stream",
     "text": [
      "C:\\Users\\chikurova\\AppData\\Local\\Continuum\\Anaconda3\\lib\\site-packages\\sklearn\\preprocessing\\label.py:151: DeprecationWarning: The truth value of an empty array is ambiguous. Returning False, but in future this will result in an error. Use `array.size > 0` to check that an array is not empty.\n",
      "  if diff:\n",
      "C:\\Users\\chikurova\\AppData\\Local\\Continuum\\Anaconda3\\lib\\site-packages\\sklearn\\preprocessing\\label.py:151: DeprecationWarning: The truth value of an empty array is ambiguous. Returning False, but in future this will result in an error. Use `array.size > 0` to check that an array is not empty.\n",
      "  if diff:\n",
      "C:\\Users\\chikurova\\AppData\\Local\\Continuum\\Anaconda3\\lib\\site-packages\\sklearn\\preprocessing\\label.py:151: DeprecationWarning: The truth value of an empty array is ambiguous. Returning False, but in future this will result in an error. Use `array.size > 0` to check that an array is not empty.\n",
      "  if diff:\n",
      "C:\\Users\\chikurova\\AppData\\Local\\Continuum\\Anaconda3\\lib\\site-packages\\sklearn\\preprocessing\\label.py:151: DeprecationWarning: The truth value of an empty array is ambiguous. Returning False, but in future this will result in an error. Use `array.size > 0` to check that an array is not empty.\n",
      "  if diff:\n",
      "C:\\Users\\chikurova\\AppData\\Local\\Continuum\\Anaconda3\\lib\\site-packages\\sklearn\\preprocessing\\label.py:151: DeprecationWarning: The truth value of an empty array is ambiguous. Returning False, but in future this will result in an error. Use `array.size > 0` to check that an array is not empty.\n",
      "  if diff:\n"
     ]
    },
    {
     "data": {
      "text/plain": [
       "0.9164262786033228"
      ]
     },
     "execution_count": 36,
     "metadata": {},
     "output_type": "execute_result"
    }
   ],
   "source": [
    "from xgboost import XGBClassifier\n",
    "\n",
    "# fit model no training data\n",
    "xgb = XGBClassifier()\n",
    "xgb.fit(X_train, y_train)\n",
    "np.mean(cross_val_score(xgb, X_train, y_train, cv=5))"
   ]
  },
  {
   "cell_type": "code",
   "execution_count": 37,
   "metadata": {},
   "outputs": [
    {
     "data": {
      "text/plain": [
       "RandomForestClassifier(bootstrap=True, class_weight=None, criterion='gini',\n",
       "            max_depth=None, max_features='auto', max_leaf_nodes=None,\n",
       "            min_impurity_decrease=0.0, min_impurity_split=None,\n",
       "            min_samples_leaf=1, min_samples_split=2,\n",
       "            min_weight_fraction_leaf=0.0, n_estimators=200, n_jobs=-1,\n",
       "            oob_score=False, random_state=None, verbose=0,\n",
       "            warm_start=False)"
      ]
     },
     "execution_count": 37,
     "metadata": {},
     "output_type": "execute_result"
    }
   ],
   "source": [
    "from sklearn.ensemble import RandomForestClassifier as RF\n",
    "\n",
    "rf = RF(n_estimators=200, max_features='auto', n_jobs=-1)\n",
    "rf.fit(X_train, y_train)"
   ]
  },
  {
   "cell_type": "code",
   "execution_count": 40,
   "metadata": {
    "collapsed": true
   },
   "outputs": [],
   "source": [
    "def get_metric(X_test, y_test, model):\n",
    "    y_pred = None\n",
    "    if \"predict_proba\" in dir(model):\n",
    "        y_pred = model.predict_proba(X_test)\n",
    "    else:\n",
    "        y_pred = model.predict(X_test)\n",
    "    test = pd.DataFrame(y_test, columns=['test'])\n",
    "    test['prediction'] = [np.argmax(x) for x in y_pred]\n",
    "    test['is_same'] = test.apply(lambda row: int(row[0] == row[1]), axis=1)\n",
    "    f = {'is_same': ['sum', 'size', 'mean']}\n",
    "    groups = test.groupby('test').agg(f)\n",
    "    print(sum(test['is_same']) / test.shape[0])\n",
    "    return groups['is_same'].sort_values('mean', ascending=False)"
   ]
  },
  {
   "cell_type": "code",
   "execution_count": 41,
   "metadata": {},
   "outputs": [
    {
     "name": "stdout",
     "output_type": "stream",
     "text": [
      "0.9186666666666666\n"
     ]
    },
    {
     "data": {
      "text/html": [
       "<div>\n",
       "<style scoped>\n",
       "    .dataframe tbody tr th:only-of-type {\n",
       "        vertical-align: middle;\n",
       "    }\n",
       "\n",
       "    .dataframe tbody tr th {\n",
       "        vertical-align: top;\n",
       "    }\n",
       "\n",
       "    .dataframe thead th {\n",
       "        text-align: right;\n",
       "    }\n",
       "</style>\n",
       "<table border=\"1\" class=\"dataframe\">\n",
       "  <thead>\n",
       "    <tr style=\"text-align: right;\">\n",
       "      <th></th>\n",
       "      <th>sum</th>\n",
       "      <th>size</th>\n",
       "      <th>mean</th>\n",
       "    </tr>\n",
       "    <tr>\n",
       "      <th>test</th>\n",
       "      <th></th>\n",
       "      <th></th>\n",
       "      <th></th>\n",
       "    </tr>\n",
       "  </thead>\n",
       "  <tbody>\n",
       "    <tr>\n",
       "      <th>2.0</th>\n",
       "      <td>959</td>\n",
       "      <td>1025</td>\n",
       "      <td>0.935610</td>\n",
       "    </tr>\n",
       "    <tr>\n",
       "      <th>0.0</th>\n",
       "      <td>908</td>\n",
       "      <td>988</td>\n",
       "      <td>0.919028</td>\n",
       "    </tr>\n",
       "    <tr>\n",
       "      <th>1.0</th>\n",
       "      <td>889</td>\n",
       "      <td>987</td>\n",
       "      <td>0.900709</td>\n",
       "    </tr>\n",
       "  </tbody>\n",
       "</table>\n",
       "</div>"
      ],
      "text/plain": [
       "      sum  size      mean\n",
       "test                     \n",
       "2.0   959  1025  0.935610\n",
       "0.0   908   988  0.919028\n",
       "1.0   889   987  0.900709"
      ]
     },
     "execution_count": 41,
     "metadata": {},
     "output_type": "execute_result"
    }
   ],
   "source": [
    "get_metric(X_test, y_test, gbm)"
   ]
  },
  {
   "cell_type": "code",
   "execution_count": 42,
   "metadata": {},
   "outputs": [
    {
     "name": "stdout",
     "output_type": "stream",
     "text": [
      "0.9083333333333333\n"
     ]
    },
    {
     "data": {
      "text/html": [
       "<div>\n",
       "<style scoped>\n",
       "    .dataframe tbody tr th:only-of-type {\n",
       "        vertical-align: middle;\n",
       "    }\n",
       "\n",
       "    .dataframe tbody tr th {\n",
       "        vertical-align: top;\n",
       "    }\n",
       "\n",
       "    .dataframe thead th {\n",
       "        text-align: right;\n",
       "    }\n",
       "</style>\n",
       "<table border=\"1\" class=\"dataframe\">\n",
       "  <thead>\n",
       "    <tr style=\"text-align: right;\">\n",
       "      <th></th>\n",
       "      <th>sum</th>\n",
       "      <th>size</th>\n",
       "      <th>mean</th>\n",
       "    </tr>\n",
       "    <tr>\n",
       "      <th>test</th>\n",
       "      <th></th>\n",
       "      <th></th>\n",
       "      <th></th>\n",
       "    </tr>\n",
       "  </thead>\n",
       "  <tbody>\n",
       "    <tr>\n",
       "      <th>2.0</th>\n",
       "      <td>952</td>\n",
       "      <td>1025</td>\n",
       "      <td>0.928780</td>\n",
       "    </tr>\n",
       "    <tr>\n",
       "      <th>0.0</th>\n",
       "      <td>887</td>\n",
       "      <td>988</td>\n",
       "      <td>0.897773</td>\n",
       "    </tr>\n",
       "    <tr>\n",
       "      <th>1.0</th>\n",
       "      <td>886</td>\n",
       "      <td>987</td>\n",
       "      <td>0.897670</td>\n",
       "    </tr>\n",
       "  </tbody>\n",
       "</table>\n",
       "</div>"
      ],
      "text/plain": [
       "      sum  size      mean\n",
       "test                     \n",
       "2.0   952  1025  0.928780\n",
       "0.0   887   988  0.897773\n",
       "1.0   886   987  0.897670"
      ]
     },
     "execution_count": 42,
     "metadata": {},
     "output_type": "execute_result"
    }
   ],
   "source": [
    "get_metric(X_test, y_test, xgb)"
   ]
  },
  {
   "cell_type": "code",
   "execution_count": 43,
   "metadata": {},
   "outputs": [
    {
     "name": "stdout",
     "output_type": "stream",
     "text": [
      "0.9166666666666666\n"
     ]
    },
    {
     "data": {
      "text/html": [
       "<div>\n",
       "<style scoped>\n",
       "    .dataframe tbody tr th:only-of-type {\n",
       "        vertical-align: middle;\n",
       "    }\n",
       "\n",
       "    .dataframe tbody tr th {\n",
       "        vertical-align: top;\n",
       "    }\n",
       "\n",
       "    .dataframe thead th {\n",
       "        text-align: right;\n",
       "    }\n",
       "</style>\n",
       "<table border=\"1\" class=\"dataframe\">\n",
       "  <thead>\n",
       "    <tr style=\"text-align: right;\">\n",
       "      <th></th>\n",
       "      <th>sum</th>\n",
       "      <th>size</th>\n",
       "      <th>mean</th>\n",
       "    </tr>\n",
       "    <tr>\n",
       "      <th>test</th>\n",
       "      <th></th>\n",
       "      <th></th>\n",
       "      <th></th>\n",
       "    </tr>\n",
       "  </thead>\n",
       "  <tbody>\n",
       "    <tr>\n",
       "      <th>2.0</th>\n",
       "      <td>950</td>\n",
       "      <td>1025</td>\n",
       "      <td>0.926829</td>\n",
       "    </tr>\n",
       "    <tr>\n",
       "      <th>1.0</th>\n",
       "      <td>904</td>\n",
       "      <td>987</td>\n",
       "      <td>0.915907</td>\n",
       "    </tr>\n",
       "    <tr>\n",
       "      <th>0.0</th>\n",
       "      <td>896</td>\n",
       "      <td>988</td>\n",
       "      <td>0.906883</td>\n",
       "    </tr>\n",
       "  </tbody>\n",
       "</table>\n",
       "</div>"
      ],
      "text/plain": [
       "      sum  size      mean\n",
       "test                     \n",
       "2.0   950  1025  0.926829\n",
       "1.0   904   987  0.915907\n",
       "0.0   896   988  0.906883"
      ]
     },
     "execution_count": 43,
     "metadata": {},
     "output_type": "execute_result"
    }
   ],
   "source": [
    "get_metric(X_test, y_test, rf)"
   ]
  },
  {
   "cell_type": "code",
   "execution_count": null,
   "metadata": {
    "collapsed": true
   },
   "outputs": [],
   "source": [
    "# table = pd.crosstab(predicted, y_test, colnames=['Actual Results'], rownames=['Predicted Results'])\n",
    "# table"
   ]
  },
  {
   "cell_type": "code",
   "execution_count": null,
   "metadata": {
    "collapsed": true
   },
   "outputs": [],
   "source": [
    "# recall = {}\n",
    "# precision = {}\n",
    "# for column in table.columns:\n",
    "#     recall[column] = table[column][column] / table.apply(lambda row: sum(row), axis=0)[column]\n",
    "#     precision[column] = table[column][column] / table.apply(lambda row: sum(row), axis=1)[column]\n",
    "# recall"
   ]
  },
  {
   "cell_type": "code",
   "execution_count": null,
   "metadata": {
    "collapsed": true
   },
   "outputs": [],
   "source": [
    "# precision"
   ]
  },
  {
   "cell_type": "code",
   "execution_count": null,
   "metadata": {
    "collapsed": true
   },
   "outputs": [],
   "source": [
    "# F = {}\n",
    "# for column in table.columns:\n",
    "#     F[column] = 2 * (recall[column] * precision[column]) / (recall[column] + precision[column])\n",
    "# F"
   ]
  }
 ],
 "metadata": {
  "kernelspec": {
   "display_name": "Python 3",
   "language": "python",
   "name": "python3"
  },
  "language_info": {
   "codemirror_mode": {
    "name": "ipython",
    "version": 3
   },
   "file_extension": ".py",
   "mimetype": "text/x-python",
   "name": "python",
   "nbconvert_exporter": "python",
   "pygments_lexer": "ipython3",
   "version": "3.6.1"
  }
 },
 "nbformat": 4,
 "nbformat_minor": 2
}
