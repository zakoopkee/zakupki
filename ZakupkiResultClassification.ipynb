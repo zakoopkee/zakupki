{
 "cells": [
  {
   "cell_type": "code",
   "execution_count": 26,
   "metadata": {},
   "outputs": [],
   "source": [
    "import numpy as np\n",
    "import pandas as pd\n",
    "import seaborn as sns\n",
    "import matplotlib.pyplot as plt\n",
    "import lightgbm as lgb\n",
    "from catboost import CatBoostClassifier\n",
    "from xgboost import XGBClassifier\n",
    "\n",
    "from sklearn.model_selection import train_test_split\n",
    "from sklearn.ensemble import RandomForestClassifier as RF\n",
    "from sklearn.model_selection import cross_val_score\n",
    "from sklearn.metrics import classification_report\n",
    "\n",
    "from data_reader import read_data\n",
    "from data_preprocessing import preprocess_data\n",
    "from feature_extractor import extract_features\n",
    "\n",
    "%matplotlib inline"
   ]
  },
  {
   "cell_type": "code",
   "execution_count": 4,
   "metadata": {},
   "outputs": [
    {
     "data": {
      "text/html": [
       "<div>\n",
       "<style>\n",
       "    .dataframe thead tr:only-child th {\n",
       "        text-align: right;\n",
       "    }\n",
       "\n",
       "    .dataframe thead th {\n",
       "        text-align: left;\n",
       "    }\n",
       "\n",
       "    .dataframe tbody tr th {\n",
       "        vertical-align: top;\n",
       "    }\n",
       "</style>\n",
       "<table border=\"1\" class=\"dataframe\">\n",
       "  <thead>\n",
       "    <tr style=\"text-align: right;\">\n",
       "      <th></th>\n",
       "      <th>id</th>\n",
       "      <th>Title</th>\n",
       "      <th>Uri</th>\n",
       "      <th>PublicationDateTimeUTC</th>\n",
       "      <th>ProcedureDisplayName</th>\n",
       "      <th>Amount</th>\n",
       "      <th>RubPrice</th>\n",
       "      <th>CurrencyCode</th>\n",
       "      <th>StatusDisplayName</th>\n",
       "      <th>StatusCode</th>\n",
       "      <th>SuppliersCount</th>\n",
       "      <th>IsWinner</th>\n",
       "      <th>Inn</th>\n",
       "      <th>Kpp</th>\n",
       "      <th>Name</th>\n",
       "      <th>Ogrn</th>\n",
       "      <th>ResultClass</th>\n",
       "      <th>Ogrn1</th>\n",
       "    </tr>\n",
       "  </thead>\n",
       "  <tbody>\n",
       "    <tr>\n",
       "      <th>0</th>\n",
       "      <td>0100600000117000008</td>\n",
       "      <td>услуги по капитальному ремонту</td>\n",
       "      <td>https://zakupki.kontur.ru/0100600000117000008</td>\n",
       "      <td>2017-07-27</td>\n",
       "      <td>Закупка у единственного поставщика (подрядчика...</td>\n",
       "      <td>352000.00</td>\n",
       "      <td>352000.00</td>\n",
       "      <td>RUB</td>\n",
       "      <td>Размещение отменено</td>\n",
       "      <td>3.0</td>\n",
       "      <td>0.0</td>\n",
       "      <td>0.0</td>\n",
       "      <td>4720008346</td>\n",
       "      <td>NaN</td>\n",
       "      <td>МЕСТНАЯ АДМИНИСТРАЦИЯ МУНИЦИПАЛЬНОГО ОБРАЗОВАН...</td>\n",
       "      <td>1024702184451</td>\n",
       "      <td>2.0</td>\n",
       "      <td>47</td>\n",
       "    </tr>\n",
       "    <tr>\n",
       "      <th>1</th>\n",
       "      <td>0101100000116000162</td>\n",
       "      <td>Масло сладко-сливочное несоленое Крестьянское</td>\n",
       "      <td>https://zakupki.kontur.ru/0101100000116000162</td>\n",
       "      <td>2016-10-24</td>\n",
       "      <td>Электронный аукцион</td>\n",
       "      <td>3855260.00</td>\n",
       "      <td>3855260.00</td>\n",
       "      <td>RUB</td>\n",
       "      <td>Размещение отменено</td>\n",
       "      <td>3.0</td>\n",
       "      <td>0.0</td>\n",
       "      <td>0.0</td>\n",
       "      <td>0275006455</td>\n",
       "      <td>NaN</td>\n",
       "      <td>УПРАВЛЕНИЕ ФЕДЕРАЛЬНОЙ СЛУЖБЫ ИСПОЛНЕНИЯ НАКАЗ...</td>\n",
       "      <td>1020202776714</td>\n",
       "      <td>2.0</td>\n",
       "      <td>2</td>\n",
       "    </tr>\n",
       "    <tr>\n",
       "      <th>2</th>\n",
       "      <td>0101100000117000153</td>\n",
       "      <td>Индивидуальный рацион питания для повседневной...</td>\n",
       "      <td>https://zakupki.kontur.ru/0101100000117000153</td>\n",
       "      <td>2017-09-25</td>\n",
       "      <td>Электронный аукцион</td>\n",
       "      <td>3600000.00</td>\n",
       "      <td>3600000.00</td>\n",
       "      <td>RUB</td>\n",
       "      <td>Размещение отменено</td>\n",
       "      <td>3.0</td>\n",
       "      <td>0.0</td>\n",
       "      <td>0.0</td>\n",
       "      <td>0275006455</td>\n",
       "      <td>NaN</td>\n",
       "      <td>УПРАВЛЕНИЕ ФЕДЕРАЛЬНОЙ СЛУЖБЫ ИСПОЛНЕНИЯ НАКАЗ...</td>\n",
       "      <td>1020202776714</td>\n",
       "      <td>2.0</td>\n",
       "      <td>2</td>\n",
       "    </tr>\n",
       "    <tr>\n",
       "      <th>3</th>\n",
       "      <td>0101100000117000154</td>\n",
       "      <td>Консервы мясные</td>\n",
       "      <td>https://zakupki.kontur.ru/0101100000117000154</td>\n",
       "      <td>2017-09-25</td>\n",
       "      <td>Электронный аукцион</td>\n",
       "      <td>15400000.00</td>\n",
       "      <td>15400000.00</td>\n",
       "      <td>RUB</td>\n",
       "      <td>Размещение отменено</td>\n",
       "      <td>3.0</td>\n",
       "      <td>0.0</td>\n",
       "      <td>0.0</td>\n",
       "      <td>0275006455</td>\n",
       "      <td>NaN</td>\n",
       "      <td>УПРАВЛЕНИЕ ФЕДЕРАЛЬНОЙ СЛУЖБЫ ИСПОЛНЕНИЯ НАКАЗ...</td>\n",
       "      <td>1020202776714</td>\n",
       "      <td>2.0</td>\n",
       "      <td>2</td>\n",
       "    </tr>\n",
       "    <tr>\n",
       "      <th>4</th>\n",
       "      <td>0101100000416000025</td>\n",
       "      <td>Право заключения государственного контракта на...</td>\n",
       "      <td>https://zakupki.kontur.ru/0101100000416000025</td>\n",
       "      <td>2016-05-30</td>\n",
       "      <td>Открытый конкурс</td>\n",
       "      <td>79196.94</td>\n",
       "      <td>79196.94</td>\n",
       "      <td>RUB</td>\n",
       "      <td>Размещение отменено</td>\n",
       "      <td>3.0</td>\n",
       "      <td>0.0</td>\n",
       "      <td>0.0</td>\n",
       "      <td>0278103383</td>\n",
       "      <td>NaN</td>\n",
       "      <td>УПРАВЛЕНИЕ ФЕДЕРАЛЬНОЙ СЛУЖБЫ ПО НАДЗОРУ В СФЕ...</td>\n",
       "      <td>1040204605154</td>\n",
       "      <td>2.0</td>\n",
       "      <td>2</td>\n",
       "    </tr>\n",
       "  </tbody>\n",
       "</table>\n",
       "</div>"
      ],
      "text/plain": [
       "                    id                                              Title  \\\n",
       "0  0100600000117000008                     услуги по капитальному ремонту   \n",
       "1  0101100000116000162      Масло сладко-сливочное несоленое Крестьянское   \n",
       "2  0101100000117000153  Индивидуальный рацион питания для повседневной...   \n",
       "3  0101100000117000154                                    Консервы мясные   \n",
       "4  0101100000416000025  Право заключения государственного контракта на...   \n",
       "\n",
       "                                             Uri PublicationDateTimeUTC  \\\n",
       "0  https://zakupki.kontur.ru/0100600000117000008             2017-07-27   \n",
       "1  https://zakupki.kontur.ru/0101100000116000162             2016-10-24   \n",
       "2  https://zakupki.kontur.ru/0101100000117000153             2017-09-25   \n",
       "3  https://zakupki.kontur.ru/0101100000117000154             2017-09-25   \n",
       "4  https://zakupki.kontur.ru/0101100000416000025             2016-05-30   \n",
       "\n",
       "                                ProcedureDisplayName       Amount  \\\n",
       "0  Закупка у единственного поставщика (подрядчика...    352000.00   \n",
       "1                                Электронный аукцион   3855260.00   \n",
       "2                                Электронный аукцион   3600000.00   \n",
       "3                                Электронный аукцион  15400000.00   \n",
       "4                                   Открытый конкурс     79196.94   \n",
       "\n",
       "      RubPrice CurrencyCode    StatusDisplayName  StatusCode  SuppliersCount  \\\n",
       "0    352000.00          RUB  Размещение отменено         3.0             0.0   \n",
       "1   3855260.00          RUB  Размещение отменено         3.0             0.0   \n",
       "2   3600000.00          RUB  Размещение отменено         3.0             0.0   \n",
       "3  15400000.00          RUB  Размещение отменено         3.0             0.0   \n",
       "4     79196.94          RUB  Размещение отменено         3.0             0.0   \n",
       "\n",
       "   IsWinner         Inn  Kpp  \\\n",
       "0       0.0  4720008346  NaN   \n",
       "1       0.0  0275006455  NaN   \n",
       "2       0.0  0275006455  NaN   \n",
       "3       0.0  0275006455  NaN   \n",
       "4       0.0  0278103383  NaN   \n",
       "\n",
       "                                                Name           Ogrn  \\\n",
       "0  МЕСТНАЯ АДМИНИСТРАЦИЯ МУНИЦИПАЛЬНОГО ОБРАЗОВАН...  1024702184451   \n",
       "1  УПРАВЛЕНИЕ ФЕДЕРАЛЬНОЙ СЛУЖБЫ ИСПОЛНЕНИЯ НАКАЗ...  1020202776714   \n",
       "2  УПРАВЛЕНИЕ ФЕДЕРАЛЬНОЙ СЛУЖБЫ ИСПОЛНЕНИЯ НАКАЗ...  1020202776714   \n",
       "3  УПРАВЛЕНИЕ ФЕДЕРАЛЬНОЙ СЛУЖБЫ ИСПОЛНЕНИЯ НАКАЗ...  1020202776714   \n",
       "4  УПРАВЛЕНИЕ ФЕДЕРАЛЬНОЙ СЛУЖБЫ ПО НАДЗОРУ В СФЕ...  1040204605154   \n",
       "\n",
       "   ResultClass  Ogrn1  \n",
       "0          2.0     47  \n",
       "1          2.0      2  \n",
       "2          2.0      2  \n",
       "3          2.0      2  \n",
       "4          2.0      2  "
      ]
     },
     "execution_count": 4,
     "metadata": {},
     "output_type": "execute_result"
    }
   ],
   "source": [
    "data = read_data()\n",
    "data = preprocess_data(data, limit=10000)\n",
    "data.head()"
   ]
  },
  {
   "cell_type": "code",
   "execution_count": 5,
   "metadata": {
    "collapsed": true
   },
   "outputs": [],
   "source": [
    "# def GetBalancedSample(data, count):\n",
    "#     cancel_count = min(count // 3, data[data.ResultClass == 2].shape[0])\n",
    "#     success_count = min((count - cancel_count) // 2, data[data.ResultClass == 1].shape[0])\n",
    "#     unsuccess_count = count - cancel_count - success_count\n",
    "#     balanced_sample = pd.concat([data[data.ResultClass == 2][:cancel_count],\n",
    "#                                  data[data.ResultClass == 1][:success_count],\n",
    "#                                  data[data.ResultClass == 0][:unsuccess_count]])\n",
    "#     print(balanced_sample.groupby('ResultClass').size())\n",
    "#     return balanced_sample\n",
    "\n",
    "# GetBalancedSample(data, 10000)"
   ]
  },
  {
   "cell_type": "code",
   "execution_count": 6,
   "metadata": {},
   "outputs": [
    {
     "data": {
      "text/plain": [
       "ResultClass\n",
       "0.0    3334\n",
       "1.0    3333\n",
       "2.0    3333\n",
       "dtype: int64"
      ]
     },
     "execution_count": 6,
     "metadata": {},
     "output_type": "execute_result"
    }
   ],
   "source": [
    "data.groupby('ResultClass').size()"
   ]
  },
  {
   "cell_type": "code",
   "execution_count": 7,
   "metadata": {},
   "outputs": [
    {
     "data": {
      "text/html": [
       "<div>\n",
       "<style>\n",
       "    .dataframe thead tr:only-child th {\n",
       "        text-align: right;\n",
       "    }\n",
       "\n",
       "    .dataframe thead th {\n",
       "        text-align: left;\n",
       "    }\n",
       "\n",
       "    .dataframe tbody tr th {\n",
       "        vertical-align: top;\n",
       "    }\n",
       "</style>\n",
       "<table border=\"1\" class=\"dataframe\">\n",
       "  <thead>\n",
       "    <tr style=\"text-align: right;\">\n",
       "      <th></th>\n",
       "      <th>Amount</th>\n",
       "      <th>RubPrice</th>\n",
       "      <th>StatusCode</th>\n",
       "      <th>SuppliersCount</th>\n",
       "      <th>IsWinner</th>\n",
       "      <th>ResultClass</th>\n",
       "      <th>Ogrn1</th>\n",
       "    </tr>\n",
       "  </thead>\n",
       "  <tbody>\n",
       "    <tr>\n",
       "      <th>Amount</th>\n",
       "      <td>1.000000</td>\n",
       "      <td>1.000000</td>\n",
       "      <td>0.049623</td>\n",
       "      <td>-0.007320</td>\n",
       "      <td>-0.008976</td>\n",
       "      <td>0.049587</td>\n",
       "      <td>0.002860</td>\n",
       "    </tr>\n",
       "    <tr>\n",
       "      <th>RubPrice</th>\n",
       "      <td>1.000000</td>\n",
       "      <td>1.000000</td>\n",
       "      <td>0.049623</td>\n",
       "      <td>-0.007320</td>\n",
       "      <td>-0.008976</td>\n",
       "      <td>0.049587</td>\n",
       "      <td>0.002860</td>\n",
       "    </tr>\n",
       "    <tr>\n",
       "      <th>StatusCode</th>\n",
       "      <td>0.049623</td>\n",
       "      <td>0.049623</td>\n",
       "      <td>1.000000</td>\n",
       "      <td>-0.397528</td>\n",
       "      <td>-0.456661</td>\n",
       "      <td>0.866025</td>\n",
       "      <td>0.476021</td>\n",
       "    </tr>\n",
       "    <tr>\n",
       "      <th>SuppliersCount</th>\n",
       "      <td>-0.007320</td>\n",
       "      <td>-0.007320</td>\n",
       "      <td>-0.397528</td>\n",
       "      <td>1.000000</td>\n",
       "      <td>0.811654</td>\n",
       "      <td>-0.006131</td>\n",
       "      <td>-0.152609</td>\n",
       "    </tr>\n",
       "    <tr>\n",
       "      <th>IsWinner</th>\n",
       "      <td>-0.008976</td>\n",
       "      <td>-0.008976</td>\n",
       "      <td>-0.456661</td>\n",
       "      <td>0.811654</td>\n",
       "      <td>1.000000</td>\n",
       "      <td>0.033552</td>\n",
       "      <td>-0.164021</td>\n",
       "    </tr>\n",
       "    <tr>\n",
       "      <th>ResultClass</th>\n",
       "      <td>0.049587</td>\n",
       "      <td>0.049587</td>\n",
       "      <td>0.866025</td>\n",
       "      <td>-0.006131</td>\n",
       "      <td>0.033552</td>\n",
       "      <td>1.000000</td>\n",
       "      <td>0.438440</td>\n",
       "    </tr>\n",
       "    <tr>\n",
       "      <th>Ogrn1</th>\n",
       "      <td>0.002860</td>\n",
       "      <td>0.002860</td>\n",
       "      <td>0.476021</td>\n",
       "      <td>-0.152609</td>\n",
       "      <td>-0.164021</td>\n",
       "      <td>0.438440</td>\n",
       "      <td>1.000000</td>\n",
       "    </tr>\n",
       "  </tbody>\n",
       "</table>\n",
       "</div>"
      ],
      "text/plain": [
       "                  Amount  RubPrice  StatusCode  SuppliersCount  IsWinner  \\\n",
       "Amount          1.000000  1.000000    0.049623       -0.007320 -0.008976   \n",
       "RubPrice        1.000000  1.000000    0.049623       -0.007320 -0.008976   \n",
       "StatusCode      0.049623  0.049623    1.000000       -0.397528 -0.456661   \n",
       "SuppliersCount -0.007320 -0.007320   -0.397528        1.000000  0.811654   \n",
       "IsWinner       -0.008976 -0.008976   -0.456661        0.811654  1.000000   \n",
       "ResultClass     0.049587  0.049587    0.866025       -0.006131  0.033552   \n",
       "Ogrn1           0.002860  0.002860    0.476021       -0.152609 -0.164021   \n",
       "\n",
       "                ResultClass     Ogrn1  \n",
       "Amount             0.049587  0.002860  \n",
       "RubPrice           0.049587  0.002860  \n",
       "StatusCode         0.866025  0.476021  \n",
       "SuppliersCount    -0.006131 -0.152609  \n",
       "IsWinner           0.033552 -0.164021  \n",
       "ResultClass        1.000000  0.438440  \n",
       "Ogrn1              0.438440  1.000000  "
      ]
     },
     "execution_count": 7,
     "metadata": {},
     "output_type": "execute_result"
    }
   ],
   "source": [
    "data.corr()"
   ]
  },
  {
   "cell_type": "code",
   "execution_count": 8,
   "metadata": {},
   "outputs": [
    {
     "name": "stdout",
     "output_type": "stream",
     "text": [
      "oh CurrencyCode\n",
      "oh ProcedureDisplayName\n",
      "oh Ogrn\n",
      "ng Title\n",
      "ng ProcedureDisplayName\n",
      "ng OrgName\n"
     ]
    }
   ],
   "source": [
    "data_head = data\n",
    "features = extract_features(data_head)[0]"
   ]
  },
  {
   "cell_type": "code",
   "execution_count": 9,
   "metadata": {
    "collapsed": true
   },
   "outputs": [],
   "source": [
    "features = pd.DataFrame(features)"
   ]
  },
  {
   "cell_type": "code",
   "execution_count": 10,
   "metadata": {
    "collapsed": true
   },
   "outputs": [],
   "source": [
    "features.fillna(0, inplace=True)\n",
    "X_train, X_test, y_train, y_test = train_test_split(features.drop('ResultClass', axis=1).values,\n",
    "                            features.ResultClass.values,\n",
    "                            test_size=0.3,\n",
    "                            random_state=123456)"
   ]
  },
  {
   "cell_type": "code",
   "execution_count": 11,
   "metadata": {
    "collapsed": true
   },
   "outputs": [],
   "source": [
    "# features = pd.DataFrame(features)\n",
    "# X_train = features.drop(['ResultClass'], 1)\n",
    "# y_train = features.ResultClass"
   ]
  },
  {
   "cell_type": "code",
   "execution_count": 12,
   "metadata": {
    "collapsed": true
   },
   "outputs": [],
   "source": [
    "# rf = RF(n_estimators=10, n_jobs=-1)\n",
    "# rf = rf.fit(x_train, y_train)\n",
    "# np.mean(cross_val_score(rf, x_train, y_train))"
   ]
  },
  {
   "cell_type": "code",
   "execution_count": 13,
   "metadata": {
    "collapsed": true
   },
   "outputs": [],
   "source": [
    "# create dataset for lightgbm\n",
    "lgb_train = lgb.Dataset(X_train, label=y_train, free_raw_data=False)\n",
    "lgb_eval = lgb.Dataset(X_test, label=y_test, reference=lgb_train, free_raw_data=False)"
   ]
  },
  {
   "cell_type": "code",
   "execution_count": 14,
   "metadata": {
    "collapsed": true
   },
   "outputs": [],
   "source": [
    "params = {\n",
    "        'objective': 'multiclass',\n",
    "        'metric': 'multi_error',\n",
    "        'num_classes': 3,\n",
    "        'feature_fraction': 0.9,\n",
    "        'feature_fraction_seed': 123456,\n",
    "        'bagging_fraction': 0.9,\n",
    "        'bagging_freq': 1,\n",
    "        'bagging_seed': 123456,\n",
    "        'max_depth': 8,\n",
    "        'learning_rate': 0.1,\n",
    "        'min_data_in_leaf': 11,\n",
    "        'num_iteration': 100,\n",
    "        'num_threads': 2\n",
    "    }"
   ]
  },
  {
   "cell_type": "code",
   "execution_count": 15,
   "metadata": {
    "scrolled": true
   },
   "outputs": [
    {
     "name": "stderr",
     "output_type": "stream",
     "text": [
      "C:\\anaconda3\\lib\\site-packages\\lightgbm\\engine.py:99: UserWarning: Found `num_iteration` in params. Will use it instead of argument\n",
      "  warnings.warn(\"Found `{}` in params. Will use it instead of argument\".format(alias))\n"
     ]
    },
    {
     "name": "stdout",
     "output_type": "stream",
     "text": [
      "[1]\ttraining's multi_error: 0.0791429\tvalid_1's multi_error: 0.105667\n",
      "[2]\ttraining's multi_error: 0.073\tvalid_1's multi_error: 0.102667\n",
      "[3]\ttraining's multi_error: 0.0688571\tvalid_1's multi_error: 0.1\n",
      "[4]\ttraining's multi_error: 0.0714286\tvalid_1's multi_error: 0.0976667\n",
      "[5]\ttraining's multi_error: 0.0698571\tvalid_1's multi_error: 0.102\n",
      "[6]\ttraining's multi_error: 0.064\tvalid_1's multi_error: 0.098\n",
      "[7]\ttraining's multi_error: 0.0612857\tvalid_1's multi_error: 0.0943333\n",
      "[8]\ttraining's multi_error: 0.0622857\tvalid_1's multi_error: 0.0966667\n",
      "[9]\ttraining's multi_error: 0.0591429\tvalid_1's multi_error: 0.0926667\n",
      "[10]\ttraining's multi_error: 0.0574286\tvalid_1's multi_error: 0.094\n",
      "[11]\ttraining's multi_error: 0.0555714\tvalid_1's multi_error: 0.0916667\n",
      "[12]\ttraining's multi_error: 0.0555714\tvalid_1's multi_error: 0.0906667\n",
      "[13]\ttraining's multi_error: 0.0545714\tvalid_1's multi_error: 0.0936667\n",
      "[14]\ttraining's multi_error: 0.0541429\tvalid_1's multi_error: 0.091\n",
      "[15]\ttraining's multi_error: 0.0537143\tvalid_1's multi_error: 0.0913333\n",
      "[16]\ttraining's multi_error: 0.0514286\tvalid_1's multi_error: 0.0923333\n",
      "[17]\ttraining's multi_error: 0.0514286\tvalid_1's multi_error: 0.0893333\n",
      "[18]\ttraining's multi_error: 0.0508571\tvalid_1's multi_error: 0.0896667\n",
      "[19]\ttraining's multi_error: 0.0504286\tvalid_1's multi_error: 0.0876667\n",
      "[20]\ttraining's multi_error: 0.0485714\tvalid_1's multi_error: 0.089\n",
      "[21]\ttraining's multi_error: 0.0481429\tvalid_1's multi_error: 0.088\n",
      "[22]\ttraining's multi_error: 0.0465714\tvalid_1's multi_error: 0.0886667\n",
      "[23]\ttraining's multi_error: 0.0455714\tvalid_1's multi_error: 0.0893333\n",
      "[24]\ttraining's multi_error: 0.0444286\tvalid_1's multi_error: 0.088\n",
      "[25]\ttraining's multi_error: 0.0442857\tvalid_1's multi_error: 0.0866667\n",
      "[26]\ttraining's multi_error: 0.0422857\tvalid_1's multi_error: 0.086\n",
      "[27]\ttraining's multi_error: 0.0417143\tvalid_1's multi_error: 0.0853333\n",
      "[28]\ttraining's multi_error: 0.041\tvalid_1's multi_error: 0.0853333\n",
      "[29]\ttraining's multi_error: 0.0397143\tvalid_1's multi_error: 0.086\n",
      "[30]\ttraining's multi_error: 0.0385714\tvalid_1's multi_error: 0.085\n",
      "[31]\ttraining's multi_error: 0.0382857\tvalid_1's multi_error: 0.0846667\n",
      "[32]\ttraining's multi_error: 0.0372857\tvalid_1's multi_error: 0.0826667\n",
      "[33]\ttraining's multi_error: 0.036\tvalid_1's multi_error: 0.083\n",
      "[34]\ttraining's multi_error: 0.0357143\tvalid_1's multi_error: 0.0833333\n",
      "[35]\ttraining's multi_error: 0.0344286\tvalid_1's multi_error: 0.0836667\n",
      "[36]\ttraining's multi_error: 0.0331429\tvalid_1's multi_error: 0.083\n",
      "[37]\ttraining's multi_error: 0.0318571\tvalid_1's multi_error: 0.0826667\n",
      "[38]\ttraining's multi_error: 0.0315714\tvalid_1's multi_error: 0.0826667\n",
      "[39]\ttraining's multi_error: 0.0311429\tvalid_1's multi_error: 0.084\n",
      "[40]\ttraining's multi_error: 0.0311429\tvalid_1's multi_error: 0.0836667\n",
      "[41]\ttraining's multi_error: 0.0304286\tvalid_1's multi_error: 0.083\n",
      "[42]\ttraining's multi_error: 0.03\tvalid_1's multi_error: 0.083\n",
      "[43]\ttraining's multi_error: 0.0297143\tvalid_1's multi_error: 0.0813333\n",
      "[44]\ttraining's multi_error: 0.0288571\tvalid_1's multi_error: 0.0813333\n",
      "[45]\ttraining's multi_error: 0.0284286\tvalid_1's multi_error: 0.0803333\n",
      "[46]\ttraining's multi_error: 0.0284286\tvalid_1's multi_error: 0.0806667\n",
      "[47]\ttraining's multi_error: 0.028\tvalid_1's multi_error: 0.0806667\n",
      "[48]\ttraining's multi_error: 0.0277143\tvalid_1's multi_error: 0.0806667\n",
      "[49]\ttraining's multi_error: 0.0275714\tvalid_1's multi_error: 0.08\n",
      "[50]\ttraining's multi_error: 0.0268571\tvalid_1's multi_error: 0.0803333\n",
      "[51]\ttraining's multi_error: 0.0268571\tvalid_1's multi_error: 0.0796667\n",
      "[52]\ttraining's multi_error: 0.0265714\tvalid_1's multi_error: 0.0803333\n",
      "[53]\ttraining's multi_error: 0.026\tvalid_1's multi_error: 0.0803333\n",
      "[54]\ttraining's multi_error: 0.0251429\tvalid_1's multi_error: 0.0806667\n",
      "[55]\ttraining's multi_error: 0.0248571\tvalid_1's multi_error: 0.0803333\n",
      "[56]\ttraining's multi_error: 0.0245714\tvalid_1's multi_error: 0.0806667\n",
      "[57]\ttraining's multi_error: 0.0238571\tvalid_1's multi_error: 0.0816667\n",
      "[58]\ttraining's multi_error: 0.0235714\tvalid_1's multi_error: 0.0816667\n",
      "[59]\ttraining's multi_error: 0.0232857\tvalid_1's multi_error: 0.082\n",
      "[60]\ttraining's multi_error: 0.0225714\tvalid_1's multi_error: 0.0813333\n",
      "[61]\ttraining's multi_error: 0.022\tvalid_1's multi_error: 0.0816667\n",
      "[62]\ttraining's multi_error: 0.0214286\tvalid_1's multi_error: 0.0816667\n",
      "[63]\ttraining's multi_error: 0.0212857\tvalid_1's multi_error: 0.0816667\n",
      "[64]\ttraining's multi_error: 0.021\tvalid_1's multi_error: 0.083\n",
      "[65]\ttraining's multi_error: 0.02\tvalid_1's multi_error: 0.082\n",
      "[66]\ttraining's multi_error: 0.0188571\tvalid_1's multi_error: 0.0816667\n",
      "[67]\ttraining's multi_error: 0.0187143\tvalid_1's multi_error: 0.0813333\n",
      "[68]\ttraining's multi_error: 0.0184286\tvalid_1's multi_error: 0.0803333\n",
      "[69]\ttraining's multi_error: 0.0175714\tvalid_1's multi_error: 0.0813333\n",
      "[70]\ttraining's multi_error: 0.0175714\tvalid_1's multi_error: 0.0816667\n",
      "[71]\ttraining's multi_error: 0.0174286\tvalid_1's multi_error: 0.0813333\n",
      "[72]\ttraining's multi_error: 0.017\tvalid_1's multi_error: 0.0813333\n",
      "[73]\ttraining's multi_error: 0.0167143\tvalid_1's multi_error: 0.0813333\n",
      "[74]\ttraining's multi_error: 0.016\tvalid_1's multi_error: 0.0816667\n",
      "[75]\ttraining's multi_error: 0.0155714\tvalid_1's multi_error: 0.0816667\n",
      "[76]\ttraining's multi_error: 0.0148571\tvalid_1's multi_error: 0.081\n",
      "[77]\ttraining's multi_error: 0.0145714\tvalid_1's multi_error: 0.08\n",
      "[78]\ttraining's multi_error: 0.0135714\tvalid_1's multi_error: 0.0813333\n",
      "[79]\ttraining's multi_error: 0.0131429\tvalid_1's multi_error: 0.0813333\n",
      "[80]\ttraining's multi_error: 0.0127143\tvalid_1's multi_error: 0.0806667\n",
      "[81]\ttraining's multi_error: 0.0122857\tvalid_1's multi_error: 0.0803333\n",
      "[82]\ttraining's multi_error: 0.0128571\tvalid_1's multi_error: 0.0803333\n",
      "[83]\ttraining's multi_error: 0.0127143\tvalid_1's multi_error: 0.0806667\n",
      "[84]\ttraining's multi_error: 0.0121429\tvalid_1's multi_error: 0.081\n",
      "[85]\ttraining's multi_error: 0.012\tvalid_1's multi_error: 0.082\n",
      "[86]\ttraining's multi_error: 0.0114286\tvalid_1's multi_error: 0.0813333\n",
      "[87]\ttraining's multi_error: 0.0114286\tvalid_1's multi_error: 0.0816667\n",
      "[88]\ttraining's multi_error: 0.011\tvalid_1's multi_error: 0.081\n",
      "[89]\ttraining's multi_error: 0.0107143\tvalid_1's multi_error: 0.0803333\n",
      "[90]\ttraining's multi_error: 0.0105714\tvalid_1's multi_error: 0.081\n",
      "[91]\ttraining's multi_error: 0.0101429\tvalid_1's multi_error: 0.0813333\n",
      "[92]\ttraining's multi_error: 0.01\tvalid_1's multi_error: 0.0816667\n",
      "[93]\ttraining's multi_error: 0.01\tvalid_1's multi_error: 0.0823333\n",
      "[94]\ttraining's multi_error: 0.01\tvalid_1's multi_error: 0.082\n",
      "[95]\ttraining's multi_error: 0.01\tvalid_1's multi_error: 0.0823333\n",
      "[96]\ttraining's multi_error: 0.01\tvalid_1's multi_error: 0.0823333\n",
      "[97]\ttraining's multi_error: 0.00957143\tvalid_1's multi_error: 0.082\n",
      "[98]\ttraining's multi_error: 0.00942857\tvalid_1's multi_error: 0.0816667\n",
      "[99]\ttraining's multi_error: 0.00957143\tvalid_1's multi_error: 0.082\n",
      "[100]\ttraining's multi_error: 0.00914286\tvalid_1's multi_error: 0.0813333\n"
     ]
    }
   ],
   "source": [
    "gbm = lgb.train(params,\n",
    "                    lgb_train,\n",
    "                    valid_sets=[lgb_train, lgb_eval])  # eval training data\n",
    "#                     feature_name=features.drop('ResultClass', axis=1).columns.values)\n",
    "\n",
    "gbm.save_model(f'result.txt')"
   ]
  },
  {
   "cell_type": "code",
   "execution_count": 16,
   "metadata": {
    "scrolled": true
   },
   "outputs": [
    {
     "data": {
      "text/plain": [
       "{'multi_error-mean': [0.094571897770292998,\n",
       "  0.093142202653413539,\n",
       "  0.092285466503265245,\n",
       "  0.086426585964267749,\n",
       "  0.087856687788141791,\n",
       "  0.087712504477491487,\n",
       "  0.0881425037506047,\n",
       "  0.086712911621492139,\n",
       "  0.085570461622635624,\n",
       "  0.084427807833275775,\n",
       "  0.084284135528405163,\n",
       "  0.083999746099465783],\n",
       " 'multi_error-stdv': [0.0078525462477377315,\n",
       "  0.0055321708320201935,\n",
       "  0.0037566893193274587,\n",
       "  0.0054637108036542066,\n",
       "  0.0029483854732306608,\n",
       "  0.0033749924479041992,\n",
       "  0.0021799606942215759,\n",
       "  0.0030103491501607006,\n",
       "  0.0031491924351767786,\n",
       "  0.003122618610625163,\n",
       "  0.0044866421646252855,\n",
       "  0.0040513004360489286]}"
      ]
     },
     "execution_count": 16,
     "metadata": {},
     "output_type": "execute_result"
    }
   ],
   "source": [
    "num_round = 12\n",
    "lgb.cv(params, lgb_train, num_round, nfold=5)"
   ]
  },
  {
   "cell_type": "code",
   "execution_count": 19,
   "metadata": {},
   "outputs": [
    {
     "data": {
      "text/plain": [
       "0.91642627860332282"
      ]
     },
     "execution_count": 19,
     "metadata": {},
     "output_type": "execute_result"
    }
   ],
   "source": [
    "# fit model no training data\n",
    "xgb = XGBClassifier()\n",
    "xgb.fit(X_train, y_train)\n",
    "np.mean(cross_val_score(xgb, X_train, y_train, cv=5))"
   ]
  },
  {
   "cell_type": "code",
   "execution_count": 20,
   "metadata": {},
   "outputs": [
    {
     "data": {
      "text/plain": [
       "RandomForestClassifier(bootstrap=True, class_weight=None, criterion='gini',\n",
       "            max_depth=None, max_features='auto', max_leaf_nodes=None,\n",
       "            min_impurity_decrease=0.0, min_impurity_split=None,\n",
       "            min_samples_leaf=1, min_samples_split=2,\n",
       "            min_weight_fraction_leaf=0.0, n_estimators=200, n_jobs=-1,\n",
       "            oob_score=False, random_state=None, verbose=0,\n",
       "            warm_start=False)"
      ]
     },
     "execution_count": 20,
     "metadata": {},
     "output_type": "execute_result"
    }
   ],
   "source": [
    "from sklearn.ensemble import RandomForestClassifier as RF\n",
    "\n",
    "rf = RF(n_estimators=200, max_features='auto', n_jobs=-1)\n",
    "rf.fit(X_train, y_train)"
   ]
  },
  {
   "cell_type": "code",
   "execution_count": 21,
   "metadata": {
    "collapsed": true
   },
   "outputs": [],
   "source": [
    "def get_metric(X_test, y_test, model):\n",
    "    y_pred = None\n",
    "    if \"predict_proba\" in dir(model):\n",
    "        y_pred = model.predict_proba(X_test)\n",
    "    else:\n",
    "        y_pred = model.predict(X_test)\n",
    "    test = pd.DataFrame(y_test, columns=['test'])\n",
    "    test['prediction'] = [np.argmax(x) for x in y_pred]\n",
    "    print(classification_report(y_test, test['prediction'].values))\n",
    "    test['is_same'] = test.apply(lambda row: int(row[0] == row[1]), axis=1)\n",
    "    f = {'is_same': ['sum', 'size', 'mean']}\n",
    "    groups = test.groupby('test').agg(f)\n",
    "    print(sum(test['is_same']) / test.shape[0])\n",
    "    return groups['is_same'].sort_values('mean', ascending=False)"
   ]
  },
  {
   "cell_type": "code",
   "execution_count": 22,
   "metadata": {},
   "outputs": [
    {
     "name": "stdout",
     "output_type": "stream",
     "text": [
      "             precision    recall  f1-score   support\n",
      "\n",
      "        0.0       0.90      0.92      0.91       988\n",
      "        1.0       0.86      0.90      0.88       987\n",
      "        2.0       0.99      0.94      0.96      1025\n",
      "\n",
      "avg / total       0.92      0.92      0.92      3000\n",
      "\n",
      "0.918666666667\n"
     ]
    },
    {
     "data": {
      "text/html": [
       "<div>\n",
       "<style>\n",
       "    .dataframe thead tr:only-child th {\n",
       "        text-align: right;\n",
       "    }\n",
       "\n",
       "    .dataframe thead th {\n",
       "        text-align: left;\n",
       "    }\n",
       "\n",
       "    .dataframe tbody tr th {\n",
       "        vertical-align: top;\n",
       "    }\n",
       "</style>\n",
       "<table border=\"1\" class=\"dataframe\">\n",
       "  <thead>\n",
       "    <tr style=\"text-align: right;\">\n",
       "      <th></th>\n",
       "      <th>sum</th>\n",
       "      <th>size</th>\n",
       "      <th>mean</th>\n",
       "    </tr>\n",
       "    <tr>\n",
       "      <th>test</th>\n",
       "      <th></th>\n",
       "      <th></th>\n",
       "      <th></th>\n",
       "    </tr>\n",
       "  </thead>\n",
       "  <tbody>\n",
       "    <tr>\n",
       "      <th>2.0</th>\n",
       "      <td>959</td>\n",
       "      <td>1025</td>\n",
       "      <td>0.935610</td>\n",
       "    </tr>\n",
       "    <tr>\n",
       "      <th>0.0</th>\n",
       "      <td>908</td>\n",
       "      <td>988</td>\n",
       "      <td>0.919028</td>\n",
       "    </tr>\n",
       "    <tr>\n",
       "      <th>1.0</th>\n",
       "      <td>889</td>\n",
       "      <td>987</td>\n",
       "      <td>0.900709</td>\n",
       "    </tr>\n",
       "  </tbody>\n",
       "</table>\n",
       "</div>"
      ],
      "text/plain": [
       "      sum  size      mean\n",
       "test                     \n",
       "2.0   959  1025  0.935610\n",
       "0.0   908   988  0.919028\n",
       "1.0   889   987  0.900709"
      ]
     },
     "execution_count": 22,
     "metadata": {},
     "output_type": "execute_result"
    }
   ],
   "source": [
    "get_metric(X_test, y_test, gbm)"
   ]
  },
  {
   "cell_type": "code",
   "execution_count": 23,
   "metadata": {},
   "outputs": [
    {
     "name": "stdout",
     "output_type": "stream",
     "text": [
      "             precision    recall  f1-score   support\n",
      "\n",
      "        0.0       0.90      0.90      0.90       988\n",
      "        1.0       0.84      0.90      0.87       987\n",
      "        2.0       0.99      0.93      0.96      1025\n",
      "\n",
      "avg / total       0.91      0.91      0.91      3000\n",
      "\n",
      "0.908333333333\n"
     ]
    },
    {
     "data": {
      "text/html": [
       "<div>\n",
       "<style>\n",
       "    .dataframe thead tr:only-child th {\n",
       "        text-align: right;\n",
       "    }\n",
       "\n",
       "    .dataframe thead th {\n",
       "        text-align: left;\n",
       "    }\n",
       "\n",
       "    .dataframe tbody tr th {\n",
       "        vertical-align: top;\n",
       "    }\n",
       "</style>\n",
       "<table border=\"1\" class=\"dataframe\">\n",
       "  <thead>\n",
       "    <tr style=\"text-align: right;\">\n",
       "      <th></th>\n",
       "      <th>sum</th>\n",
       "      <th>size</th>\n",
       "      <th>mean</th>\n",
       "    </tr>\n",
       "    <tr>\n",
       "      <th>test</th>\n",
       "      <th></th>\n",
       "      <th></th>\n",
       "      <th></th>\n",
       "    </tr>\n",
       "  </thead>\n",
       "  <tbody>\n",
       "    <tr>\n",
       "      <th>2.0</th>\n",
       "      <td>952</td>\n",
       "      <td>1025</td>\n",
       "      <td>0.928780</td>\n",
       "    </tr>\n",
       "    <tr>\n",
       "      <th>0.0</th>\n",
       "      <td>887</td>\n",
       "      <td>988</td>\n",
       "      <td>0.897773</td>\n",
       "    </tr>\n",
       "    <tr>\n",
       "      <th>1.0</th>\n",
       "      <td>886</td>\n",
       "      <td>987</td>\n",
       "      <td>0.897670</td>\n",
       "    </tr>\n",
       "  </tbody>\n",
       "</table>\n",
       "</div>"
      ],
      "text/plain": [
       "      sum  size      mean\n",
       "test                     \n",
       "2.0   952  1025  0.928780\n",
       "0.0   887   988  0.897773\n",
       "1.0   886   987  0.897670"
      ]
     },
     "execution_count": 23,
     "metadata": {},
     "output_type": "execute_result"
    }
   ],
   "source": [
    "get_metric(X_test, y_test, xgb)"
   ]
  },
  {
   "cell_type": "code",
   "execution_count": 24,
   "metadata": {},
   "outputs": [
    {
     "name": "stdout",
     "output_type": "stream",
     "text": [
      "             precision    recall  f1-score   support\n",
      "\n",
      "        0.0       0.93      0.91      0.92       988\n",
      "        1.0       0.85      0.92      0.88       987\n",
      "        2.0       0.98      0.93      0.96      1025\n",
      "\n",
      "avg / total       0.92      0.92      0.92      3000\n",
      "\n",
      "0.918666666667\n"
     ]
    },
    {
     "data": {
      "text/html": [
       "<div>\n",
       "<style>\n",
       "    .dataframe thead tr:only-child th {\n",
       "        text-align: right;\n",
       "    }\n",
       "\n",
       "    .dataframe thead th {\n",
       "        text-align: left;\n",
       "    }\n",
       "\n",
       "    .dataframe tbody tr th {\n",
       "        vertical-align: top;\n",
       "    }\n",
       "</style>\n",
       "<table border=\"1\" class=\"dataframe\">\n",
       "  <thead>\n",
       "    <tr style=\"text-align: right;\">\n",
       "      <th></th>\n",
       "      <th>sum</th>\n",
       "      <th>size</th>\n",
       "      <th>mean</th>\n",
       "    </tr>\n",
       "    <tr>\n",
       "      <th>test</th>\n",
       "      <th></th>\n",
       "      <th></th>\n",
       "      <th></th>\n",
       "    </tr>\n",
       "  </thead>\n",
       "  <tbody>\n",
       "    <tr>\n",
       "      <th>2.0</th>\n",
       "      <td>953</td>\n",
       "      <td>1025</td>\n",
       "      <td>0.929756</td>\n",
       "    </tr>\n",
       "    <tr>\n",
       "      <th>1.0</th>\n",
       "      <td>908</td>\n",
       "      <td>987</td>\n",
       "      <td>0.919959</td>\n",
       "    </tr>\n",
       "    <tr>\n",
       "      <th>0.0</th>\n",
       "      <td>895</td>\n",
       "      <td>988</td>\n",
       "      <td>0.905870</td>\n",
       "    </tr>\n",
       "  </tbody>\n",
       "</table>\n",
       "</div>"
      ],
      "text/plain": [
       "      sum  size      mean\n",
       "test                     \n",
       "2.0   953  1025  0.929756\n",
       "1.0   908   987  0.919959\n",
       "0.0   895   988  0.905870"
      ]
     },
     "execution_count": 24,
     "metadata": {},
     "output_type": "execute_result"
    }
   ],
   "source": [
    "get_metric(X_test, y_test, rf)"
   ]
  },
  {
   "cell_type": "code",
   "execution_count": null,
   "metadata": {},
   "outputs": [
    {
     "name": "stdout",
     "output_type": "stream",
     "text": [
      "0:\tlearn: -0.9678558\ttotal: 389ms\tremaining: 38.5s\n",
      "1:\tlearn: -0.8593531\ttotal: 814ms\tremaining: 39.9s\n",
      "2:\tlearn: -0.7774173\ttotal: 1.27s\tremaining: 41.1s\n",
      "3:\tlearn: -0.7053065\ttotal: 1.69s\tremaining: 40.6s\n",
      "4:\tlearn: -0.6471666\ttotal: 2.11s\tremaining: 40.2s\n",
      "5:\tlearn: -0.6016406\ttotal: 2.55s\tremaining: 40s\n",
      "6:\tlearn: -0.5625560\ttotal: 3s\tremaining: 39.8s\n",
      "7:\tlearn: -0.5295536\ttotal: 3.36s\tremaining: 38.7s\n",
      "8:\tlearn: -0.4988725\ttotal: 3.81s\tremaining: 38.6s\n",
      "9:\tlearn: -0.4693378\ttotal: 4.21s\tremaining: 37.9s\n",
      "10:\tlearn: -0.4431673\ttotal: 4.65s\tremaining: 37.6s\n",
      "11:\tlearn: -0.4245586\ttotal: 4.8s\tremaining: 35.2s\n",
      "12:\tlearn: -0.4049361\ttotal: 5.25s\tremaining: 35.1s\n",
      "13:\tlearn: -0.3867700\ttotal: 5.71s\tremaining: 35.1s\n",
      "14:\tlearn: -0.3735764\ttotal: 6.14s\tremaining: 34.8s\n",
      "15:\tlearn: -0.3588691\ttotal: 6.54s\tremaining: 34.3s\n",
      "16:\tlearn: -0.3467811\ttotal: 6.94s\tremaining: 33.9s\n",
      "17:\tlearn: -0.3371953\ttotal: 7.13s\tremaining: 32.5s\n",
      "18:\tlearn: -0.3267381\ttotal: 7.56s\tremaining: 32.2s\n",
      "19:\tlearn: -0.3169927\ttotal: 8.01s\tremaining: 32s\n",
      "20:\tlearn: -0.3097717\ttotal: 8.35s\tremaining: 31.4s\n",
      "21:\tlearn: -0.3008472\ttotal: 8.78s\tremaining: 31.1s\n",
      "22:\tlearn: -0.2923379\ttotal: 9.26s\tremaining: 31s\n",
      "23:\tlearn: -0.2847417\ttotal: 9.72s\tremaining: 30.8s\n",
      "24:\tlearn: -0.2780102\ttotal: 10.2s\tremaining: 30.6s\n",
      "25:\tlearn: -0.2717835\ttotal: 10.7s\tremaining: 30.3s\n",
      "26:\tlearn: -0.2659728\ttotal: 11s\tremaining: 29.8s\n",
      "27:\tlearn: -0.2608314\ttotal: 11.5s\tremaining: 29.5s\n",
      "28:\tlearn: -0.2558864\ttotal: 11.9s\tremaining: 29.1s\n",
      "29:\tlearn: -0.2521198\ttotal: 12.3s\tremaining: 28.7s\n",
      "30:\tlearn: -0.2474657\ttotal: 12.8s\tremaining: 28.4s\n",
      "31:\tlearn: -0.2437285\ttotal: 13.2s\tremaining: 28s\n",
      "32:\tlearn: -0.2393431\ttotal: 13.7s\tremaining: 27.7s\n",
      "33:\tlearn: -0.2358069\ttotal: 14.1s\tremaining: 27.3s\n",
      "34:\tlearn: -0.2326674\ttotal: 14.5s\tremaining: 26.9s\n",
      "35:\tlearn: -0.2301677\ttotal: 14.9s\tremaining: 26.5s\n",
      "36:\tlearn: -0.2264026\ttotal: 15.3s\tremaining: 26.1s\n",
      "37:\tlearn: -0.2242771\ttotal: 15.8s\tremaining: 25.8s\n",
      "38:\tlearn: -0.2221540\ttotal: 16.2s\tremaining: 25.4s\n",
      "39:\tlearn: -0.2195966\ttotal: 16.6s\tremaining: 24.9s\n",
      "40:\tlearn: -0.2165138\ttotal: 17.1s\tremaining: 24.5s\n",
      "41:\tlearn: -0.2138406\ttotal: 17.5s\tremaining: 24.2s\n",
      "42:\tlearn: -0.2126720\ttotal: 18s\tremaining: 23.8s\n",
      "43:\tlearn: -0.2105090\ttotal: 18.4s\tremaining: 23.4s\n",
      "44:\tlearn: -0.2084079\ttotal: 18.8s\tremaining: 23s\n",
      "45:\tlearn: -0.2067030\ttotal: 19.2s\tremaining: 22.6s\n",
      "46:\tlearn: -0.2047038\ttotal: 19.6s\tremaining: 22.1s\n",
      "47:\tlearn: -0.2031833\ttotal: 20.1s\tremaining: 21.8s\n",
      "48:\tlearn: -0.2012653\ttotal: 20.5s\tremaining: 21.3s\n",
      "49:\tlearn: -0.1991184\ttotal: 20.9s\tremaining: 20.9s\n",
      "50:\tlearn: -0.1981222\ttotal: 21.4s\tremaining: 20.5s\n",
      "51:\tlearn: -0.1963986\ttotal: 21.8s\tremaining: 20.1s\n",
      "52:\tlearn: -0.1952175\ttotal: 22.2s\tremaining: 19.7s\n",
      "53:\tlearn: -0.1935988\ttotal: 22.7s\tremaining: 19.3s\n",
      "54:\tlearn: -0.1921227\ttotal: 23.1s\tremaining: 18.9s\n",
      "55:\tlearn: -0.1907540\ttotal: 23.5s\tremaining: 18.5s\n",
      "56:\tlearn: -0.1889549\ttotal: 24s\tremaining: 18.1s\n",
      "57:\tlearn: -0.1870304\ttotal: 24.4s\tremaining: 17.6s\n",
      "58:\tlearn: -0.1853935\ttotal: 24.8s\tremaining: 17.2s\n",
      "59:\tlearn: -0.1838264\ttotal: 25.2s\tremaining: 16.8s\n",
      "60:\tlearn: -0.1820792\ttotal: 25.7s\tremaining: 16.4s\n",
      "61:\tlearn: -0.1809294\ttotal: 26.1s\tremaining: 16s\n"
     ]
    }
   ],
   "source": [
    "model = CatBoostClassifier(iterations=100, depth=10, learning_rate=.1, loss_function='MultiClass', classes_count=3)\n",
    "model.fit(X_train, y_train)"
   ]
  },
  {
   "cell_type": "code",
   "execution_count": null,
   "metadata": {},
   "outputs": [],
   "source": [
    "get_metric(X_test, y_test, model)"
   ]
  },
  {
   "cell_type": "code",
   "execution_count": null,
   "metadata": {
    "collapsed": true
   },
   "outputs": [],
   "source": []
  }
 ],
 "metadata": {
  "kernelspec": {
   "display_name": "Python 3",
   "language": "python",
   "name": "python3"
  },
  "language_info": {
   "codemirror_mode": {
    "name": "ipython",
    "version": 3
   },
   "file_extension": ".py",
   "mimetype": "text/x-python",
   "name": "python",
   "nbconvert_exporter": "python",
   "pygments_lexer": "ipython3",
   "version": "3.6.3"
  }
 },
 "nbformat": 4,
 "nbformat_minor": 2
}
