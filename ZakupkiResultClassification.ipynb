{
 "cells": [
  {
   "cell_type": "code",
   "execution_count": 1,
   "metadata": {
    "collapsed": true
   },
   "outputs": [],
   "source": [
    "import numpy as np\n",
    "import pandas as pd\n",
    "import seaborn as sns\n",
    "import matplotlib.pyplot as plt\n",
    "\n",
    "from sklearn.model_selection import train_test_split\n",
    "from sklearn.ensemble import RandomForestClassifier as RF\n",
    "from sklearn.model_selection import cross_val_score\n",
    "\n",
    "from data_reader import read_data\n",
    "from data_preprocessing import preprocess_data\n",
    "from feature_extractor import extract_features\n",
    "\n",
    "%matplotlib inline"
   ]
  },
  {
   "cell_type": "code",
   "execution_count": 2,
   "metadata": {},
   "outputs": [
    {
     "data": {
      "text/html": [
       "<div>\n",
       "<style>\n",
       "    .dataframe thead tr:only-child th {\n",
       "        text-align: right;\n",
       "    }\n",
       "\n",
       "    .dataframe thead th {\n",
       "        text-align: left;\n",
       "    }\n",
       "\n",
       "    .dataframe tbody tr th {\n",
       "        vertical-align: top;\n",
       "    }\n",
       "</style>\n",
       "<table border=\"1\" class=\"dataframe\">\n",
       "  <thead>\n",
       "    <tr style=\"text-align: right;\">\n",
       "      <th></th>\n",
       "      <th>id</th>\n",
       "      <th>Title</th>\n",
       "      <th>Uri</th>\n",
       "      <th>PublicationDateTimeUTC</th>\n",
       "      <th>ProcedureDisplayName</th>\n",
       "      <th>Amount</th>\n",
       "      <th>RubPrice</th>\n",
       "      <th>CurrencyCode</th>\n",
       "      <th>StatusDisplayName</th>\n",
       "      <th>StatusCode</th>\n",
       "      <th>SuppliersCount</th>\n",
       "      <th>IsWinner</th>\n",
       "      <th>ResultClass</th>\n",
       "    </tr>\n",
       "  </thead>\n",
       "  <tbody>\n",
       "    <tr>\n",
       "      <th>0</th>\n",
       "      <td>0100600000117000001</td>\n",
       "      <td>Закупки товаров, работ, услуг в соответствии с...</td>\n",
       "      <td>https://zakupki.kontur.ru/0100600000117000001</td>\n",
       "      <td>2017-04-13</td>\n",
       "      <td>Закупка у единственного поставщика (подрядчика...</td>\n",
       "      <td>1310000.0</td>\n",
       "      <td>1310000.0</td>\n",
       "      <td>RUB</td>\n",
       "      <td>Размещение завершено</td>\n",
       "      <td>2.0</td>\n",
       "      <td>0.0</td>\n",
       "      <td>0.0</td>\n",
       "      <td>0.0</td>\n",
       "    </tr>\n",
       "    <tr>\n",
       "      <th>1</th>\n",
       "      <td>0100600000117000002</td>\n",
       "      <td>Закупки товаров, работ, услуг в соответствии с...</td>\n",
       "      <td>https://zakupki.kontur.ru/0100600000117000002</td>\n",
       "      <td>2017-04-13</td>\n",
       "      <td>Закупка у единственного поставщика (подрядчика...</td>\n",
       "      <td>249000.0</td>\n",
       "      <td>249000.0</td>\n",
       "      <td>RUB</td>\n",
       "      <td>Размещение завершено</td>\n",
       "      <td>2.0</td>\n",
       "      <td>0.0</td>\n",
       "      <td>0.0</td>\n",
       "      <td>0.0</td>\n",
       "    </tr>\n",
       "    <tr>\n",
       "      <th>2</th>\n",
       "      <td>0100600000117000003</td>\n",
       "      <td>Закупки товаров, работ, услуг в соответствии с...</td>\n",
       "      <td>https://zakupki.kontur.ru/0100600000117000003</td>\n",
       "      <td>2017-07-06</td>\n",
       "      <td>Закупка у единственного поставщика (подрядчика...</td>\n",
       "      <td>250000.0</td>\n",
       "      <td>250000.0</td>\n",
       "      <td>RUB</td>\n",
       "      <td>Размещение завершено</td>\n",
       "      <td>2.0</td>\n",
       "      <td>0.0</td>\n",
       "      <td>0.0</td>\n",
       "      <td>0.0</td>\n",
       "    </tr>\n",
       "    <tr>\n",
       "      <th>3</th>\n",
       "      <td>0100600000117000004</td>\n",
       "      <td>Выполнение работ по ремонту автомобильной доро...</td>\n",
       "      <td>https://zakupki.kontur.ru/0100600000117000004</td>\n",
       "      <td>2017-07-06</td>\n",
       "      <td>Запрос котировок</td>\n",
       "      <td>400300.0</td>\n",
       "      <td>400300.0</td>\n",
       "      <td>RUB</td>\n",
       "      <td>Размещение завершено</td>\n",
       "      <td>2.0</td>\n",
       "      <td>2.0</td>\n",
       "      <td>1.0</td>\n",
       "      <td>1.0</td>\n",
       "    </tr>\n",
       "    <tr>\n",
       "      <th>4</th>\n",
       "      <td>0100600000117000005</td>\n",
       "      <td>Приобретение и установка спортивного оборудования</td>\n",
       "      <td>https://zakupki.kontur.ru/0100600000117000005</td>\n",
       "      <td>2017-07-10</td>\n",
       "      <td>Запрос котировок</td>\n",
       "      <td>451000.0</td>\n",
       "      <td>451000.0</td>\n",
       "      <td>RUB</td>\n",
       "      <td>Размещение завершено</td>\n",
       "      <td>2.0</td>\n",
       "      <td>1.0</td>\n",
       "      <td>0.0</td>\n",
       "      <td>0.0</td>\n",
       "    </tr>\n",
       "  </tbody>\n",
       "</table>\n",
       "</div>"
      ],
      "text/plain": [
       "                    id                                              Title  \\\n",
       "0  0100600000117000001  Закупки товаров, работ, услуг в соответствии с...   \n",
       "1  0100600000117000002  Закупки товаров, работ, услуг в соответствии с...   \n",
       "2  0100600000117000003  Закупки товаров, работ, услуг в соответствии с...   \n",
       "3  0100600000117000004  Выполнение работ по ремонту автомобильной доро...   \n",
       "4  0100600000117000005  Приобретение и установка спортивного оборудования   \n",
       "\n",
       "                                             Uri PublicationDateTimeUTC  \\\n",
       "0  https://zakupki.kontur.ru/0100600000117000001             2017-04-13   \n",
       "1  https://zakupki.kontur.ru/0100600000117000002             2017-04-13   \n",
       "2  https://zakupki.kontur.ru/0100600000117000003             2017-07-06   \n",
       "3  https://zakupki.kontur.ru/0100600000117000004             2017-07-06   \n",
       "4  https://zakupki.kontur.ru/0100600000117000005             2017-07-10   \n",
       "\n",
       "                                ProcedureDisplayName     Amount   RubPrice  \\\n",
       "0  Закупка у единственного поставщика (подрядчика...  1310000.0  1310000.0   \n",
       "1  Закупка у единственного поставщика (подрядчика...   249000.0   249000.0   \n",
       "2  Закупка у единственного поставщика (подрядчика...   250000.0   250000.0   \n",
       "3                                   Запрос котировок   400300.0   400300.0   \n",
       "4                                   Запрос котировок   451000.0   451000.0   \n",
       "\n",
       "  CurrencyCode     StatusDisplayName  StatusCode  SuppliersCount  IsWinner  \\\n",
       "0          RUB  Размещение завершено         2.0             0.0       0.0   \n",
       "1          RUB  Размещение завершено         2.0             0.0       0.0   \n",
       "2          RUB  Размещение завершено         2.0             0.0       0.0   \n",
       "3          RUB  Размещение завершено         2.0             2.0       1.0   \n",
       "4          RUB  Размещение завершено         2.0             1.0       0.0   \n",
       "\n",
       "   ResultClass  \n",
       "0          0.0  \n",
       "1          0.0  \n",
       "2          0.0  \n",
       "3          1.0  \n",
       "4          0.0  "
      ]
     },
     "execution_count": 2,
     "metadata": {},
     "output_type": "execute_result"
    }
   ],
   "source": [
    "data = read_data()\n",
    "data = preprocess_data(data)\n",
    "data.head()"
   ]
  },
  {
   "cell_type": "code",
   "execution_count": 3,
   "metadata": {},
   "outputs": [
    {
     "data": {
      "text/plain": [
       "ResultClass\n",
       "0.0    5167766\n",
       "1.0    2205343\n",
       "2.0      73431\n",
       "dtype: int64"
      ]
     },
     "execution_count": 3,
     "metadata": {},
     "output_type": "execute_result"
    }
   ],
   "source": [
    "data.groupby('ResultClass').size()"
   ]
  },
  {
   "cell_type": "code",
   "execution_count": 4,
   "metadata": {
    "collapsed": true
   },
   "outputs": [],
   "source": [
    "data_head = data.head(500)\n",
    "features = extract_features(data_head)"
   ]
  },
  {
   "cell_type": "code",
   "execution_count": 21,
   "metadata": {},
   "outputs": [
    {
     "data": {
      "text/plain": [
       "pandas.core.sparse.frame.SparseDataFrame"
      ]
     },
     "execution_count": 21,
     "metadata": {},
     "output_type": "execute_result"
    }
   ],
   "source": [
    "features.fillna(0, inplace=True)\n",
    "# X_train, X_test, y_train, y_test = train_test_split(features.drop('ResultClass', axis=1).values,\n",
    "#                             features.ResultClass.values,\n",
    "#                             test_size=0.3,\n",
    "#                             random_state=123456)"
   ]
  },
  {
   "cell_type": "code",
   "execution_count": 26,
   "metadata": {},
   "outputs": [
    {
     "data": {
      "text/plain": [
       "0.83621004743759231"
      ]
     },
     "execution_count": 26,
     "metadata": {},
     "output_type": "execute_result"
    }
   ],
   "source": [
    "features = pd.DataFrame(features)\n",
    "x_train = features.drop(['ResultClass'], 1)\n",
    "y_train = features.ResultClass\n",
    "rf = RF(n_estimators=10, n_jobs=-1)\n",
    "rf = rf.fit(x_train, y_train)\n",
    "np.mean(cross_val_score(rf, x_train, y_train))"
   ]
  },
  {
   "cell_type": "code",
   "execution_count": null,
   "metadata": {
    "collapsed": true
   },
   "outputs": [],
   "source": [
    "# len([x == y for x, y in zip(y_test, predicted)])"
   ]
  },
  {
   "cell_type": "code",
   "execution_count": null,
   "metadata": {
    "collapsed": true
   },
   "outputs": [],
   "source": [
    "# result = pd.DataFrame(y_test, columns=['test'])\n",
    "# result['pred'] = predicted"
   ]
  },
  {
   "cell_type": "code",
   "execution_count": null,
   "metadata": {
    "collapsed": true
   },
   "outputs": [],
   "source": [
    "# result.head()"
   ]
  },
  {
   "cell_type": "code",
   "execution_count": null,
   "metadata": {
    "collapsed": true
   },
   "outputs": [],
   "source": [
    "# result['is_same'] = result.apply(lambda row: int(row[0] == row[1]), axis=1)"
   ]
  },
  {
   "cell_type": "code",
   "execution_count": null,
   "metadata": {
    "collapsed": true,
    "scrolled": true
   },
   "outputs": [],
   "source": [
    "# result.head()"
   ]
  },
  {
   "cell_type": "code",
   "execution_count": null,
   "metadata": {
    "collapsed": true
   },
   "outputs": [],
   "source": [
    "# accuracy = sum(result.is_same) / result.shape[0]\n",
    "# accuracy"
   ]
  },
  {
   "cell_type": "code",
   "execution_count": null,
   "metadata": {
    "collapsed": true
   },
   "outputs": [],
   "source": [
    "# result.groupby('test').agg({'is_same': ['sum', 'size', 'mean']})['is_same'].sort_values('mean', ascending=False)"
   ]
  },
  {
   "cell_type": "code",
   "execution_count": null,
   "metadata": {
    "collapsed": true
   },
   "outputs": [],
   "source": [
    "# table = pd.crosstab(predicted, y_test, colnames=['Actual Results'], rownames=['Predicted Results'])\n",
    "# table"
   ]
  },
  {
   "cell_type": "code",
   "execution_count": null,
   "metadata": {
    "collapsed": true
   },
   "outputs": [],
   "source": [
    "# recall = {}\n",
    "# precision = {}\n",
    "# for column in table.columns:\n",
    "#     recall[column] = table[column][column] / table.apply(lambda row: sum(row), axis=0)[column]\n",
    "#     precision[column] = table[column][column] / table.apply(lambda row: sum(row), axis=1)[column]\n",
    "# recall"
   ]
  },
  {
   "cell_type": "code",
   "execution_count": null,
   "metadata": {
    "collapsed": true
   },
   "outputs": [],
   "source": [
    "# precision"
   ]
  },
  {
   "cell_type": "code",
   "execution_count": null,
   "metadata": {
    "collapsed": true
   },
   "outputs": [],
   "source": [
    "# F = {}\n",
    "# for column in table.columns:\n",
    "#     F[column] = 2 * (recall[column] * precision[column]) / (recall[column] + precision[column])\n",
    "# F"
   ]
  }
 ],
 "metadata": {
  "kernelspec": {
   "display_name": "Python 3",
   "language": "python",
   "name": "python3"
  },
  "language_info": {
   "codemirror_mode": {
    "name": "ipython",
    "version": 3
   },
   "file_extension": ".py",
   "mimetype": "text/x-python",
   "name": "python",
   "nbconvert_exporter": "python",
   "pygments_lexer": "ipython3",
   "version": "3.6.3"
  }
 },
 "nbformat": 4,
 "nbformat_minor": 2
}
