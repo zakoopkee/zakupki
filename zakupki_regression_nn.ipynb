{
 "cells": [
  {
   "cell_type": "code",
   "execution_count": 296,
   "metadata": {},
   "outputs": [],
   "source": [
    "import nltk\n",
    "import gensim\n",
    "import numpy as np\n",
    "\n",
    "import torch\n",
    "import torch.nn as nn\n",
    "import torch.nn.functional as F\n",
    "from torch.autograd import Variable\n",
    "\n",
    "from sklearn.model_selection import train_test_split\n",
    "from sklearn.feature_extraction import DictVectorizer\n",
    "\n",
    "from data_reader import read_data\n",
    "from data_preprocessing import preprocess_data\n",
    "\n",
    "import matplotlib.pyplot as plt\n",
    "%matplotlib inline"
   ]
  },
  {
   "cell_type": "code",
   "execution_count": 297,
   "metadata": {},
   "outputs": [
    {
     "data": {
      "text/html": [
       "<div>\n",
       "<style scoped>\n",
       "    .dataframe tbody tr th:only-of-type {\n",
       "        vertical-align: middle;\n",
       "    }\n",
       "\n",
       "    .dataframe tbody tr th {\n",
       "        vertical-align: top;\n",
       "    }\n",
       "\n",
       "    .dataframe thead th {\n",
       "        text-align: right;\n",
       "    }\n",
       "</style>\n",
       "<table border=\"1\" class=\"dataframe\">\n",
       "  <thead>\n",
       "    <tr style=\"text-align: right;\">\n",
       "      <th></th>\n",
       "      <th>id</th>\n",
       "      <th>Title</th>\n",
       "      <th>Uri</th>\n",
       "      <th>PublicationDateTimeUTC</th>\n",
       "      <th>ProcedureDisplayName</th>\n",
       "      <th>Amount</th>\n",
       "      <th>RubPrice</th>\n",
       "      <th>CurrencyCode</th>\n",
       "      <th>StatusDisplayName</th>\n",
       "      <th>StatusCode</th>\n",
       "      <th>SuppliersCount</th>\n",
       "      <th>IsWinner</th>\n",
       "      <th>Inn</th>\n",
       "      <th>Kpp</th>\n",
       "      <th>Name</th>\n",
       "      <th>Ogrn</th>\n",
       "      <th>ResultClass</th>\n",
       "      <th>Ogrn1</th>\n",
       "    </tr>\n",
       "  </thead>\n",
       "  <tbody>\n",
       "    <tr>\n",
       "      <th>0</th>\n",
       "      <td>0100600000117000001</td>\n",
       "      <td>Закупки товаров, работ, услуг в соответствии с...</td>\n",
       "      <td>https://zakupki.kontur.ru/0100600000117000001</td>\n",
       "      <td>2017-04-13</td>\n",
       "      <td>Закупка у единственного поставщика (подрядчика...</td>\n",
       "      <td>1310000.0</td>\n",
       "      <td>1310000.0</td>\n",
       "      <td>RUB</td>\n",
       "      <td>Размещение завершено</td>\n",
       "      <td>2.0</td>\n",
       "      <td>0.0</td>\n",
       "      <td>0.0</td>\n",
       "      <td>4720008346</td>\n",
       "      <td>NaN</td>\n",
       "      <td>МЕСТНАЯ АДМИНИСТРАЦИЯ МУНИЦИПАЛЬНОГО ОБРАЗОВАН...</td>\n",
       "      <td>1024702184451</td>\n",
       "      <td>0.0</td>\n",
       "      <td>47</td>\n",
       "    </tr>\n",
       "    <tr>\n",
       "      <th>1</th>\n",
       "      <td>0100600000117000002</td>\n",
       "      <td>Закупки товаров, работ, услуг в соответствии с...</td>\n",
       "      <td>https://zakupki.kontur.ru/0100600000117000002</td>\n",
       "      <td>2017-04-13</td>\n",
       "      <td>Закупка у единственного поставщика (подрядчика...</td>\n",
       "      <td>249000.0</td>\n",
       "      <td>249000.0</td>\n",
       "      <td>RUB</td>\n",
       "      <td>Размещение завершено</td>\n",
       "      <td>2.0</td>\n",
       "      <td>0.0</td>\n",
       "      <td>0.0</td>\n",
       "      <td>4720008346</td>\n",
       "      <td>NaN</td>\n",
       "      <td>МЕСТНАЯ АДМИНИСТРАЦИЯ МУНИЦИПАЛЬНОГО ОБРАЗОВАН...</td>\n",
       "      <td>1024702184451</td>\n",
       "      <td>0.0</td>\n",
       "      <td>47</td>\n",
       "    </tr>\n",
       "    <tr>\n",
       "      <th>2</th>\n",
       "      <td>0100600000117000003</td>\n",
       "      <td>Закупки товаров, работ, услуг в соответствии с...</td>\n",
       "      <td>https://zakupki.kontur.ru/0100600000117000003</td>\n",
       "      <td>2017-07-06</td>\n",
       "      <td>Закупка у единственного поставщика (подрядчика...</td>\n",
       "      <td>250000.0</td>\n",
       "      <td>250000.0</td>\n",
       "      <td>RUB</td>\n",
       "      <td>Размещение завершено</td>\n",
       "      <td>2.0</td>\n",
       "      <td>0.0</td>\n",
       "      <td>0.0</td>\n",
       "      <td>4720008346</td>\n",
       "      <td>NaN</td>\n",
       "      <td>МЕСТНАЯ АДМИНИСТРАЦИЯ МУНИЦИПАЛЬНОГО ОБРАЗОВАН...</td>\n",
       "      <td>1024702184451</td>\n",
       "      <td>0.0</td>\n",
       "      <td>47</td>\n",
       "    </tr>\n",
       "    <tr>\n",
       "      <th>3</th>\n",
       "      <td>0100600000117000004</td>\n",
       "      <td>Выполнение работ по ремонту автомобильной доро...</td>\n",
       "      <td>https://zakupki.kontur.ru/0100600000117000004</td>\n",
       "      <td>2017-07-06</td>\n",
       "      <td>Запрос котировок</td>\n",
       "      <td>400300.0</td>\n",
       "      <td>400300.0</td>\n",
       "      <td>RUB</td>\n",
       "      <td>Размещение завершено</td>\n",
       "      <td>2.0</td>\n",
       "      <td>2.0</td>\n",
       "      <td>1.0</td>\n",
       "      <td>4720008346</td>\n",
       "      <td>NaN</td>\n",
       "      <td>МЕСТНАЯ АДМИНИСТРАЦИЯ МУНИЦИПАЛЬНОГО ОБРАЗОВАН...</td>\n",
       "      <td>1024702184451</td>\n",
       "      <td>1.0</td>\n",
       "      <td>47</td>\n",
       "    </tr>\n",
       "    <tr>\n",
       "      <th>4</th>\n",
       "      <td>0100600000117000005</td>\n",
       "      <td>Приобретение и установка спортивного оборудования</td>\n",
       "      <td>https://zakupki.kontur.ru/0100600000117000005</td>\n",
       "      <td>2017-07-10</td>\n",
       "      <td>Запрос котировок</td>\n",
       "      <td>451000.0</td>\n",
       "      <td>451000.0</td>\n",
       "      <td>RUB</td>\n",
       "      <td>Размещение завершено</td>\n",
       "      <td>2.0</td>\n",
       "      <td>1.0</td>\n",
       "      <td>0.0</td>\n",
       "      <td>4720008346</td>\n",
       "      <td>NaN</td>\n",
       "      <td>МЕСТНАЯ АДМИНИСТРАЦИЯ МУНИЦИПАЛЬНОГО ОБРАЗОВАН...</td>\n",
       "      <td>1024702184451</td>\n",
       "      <td>0.0</td>\n",
       "      <td>47</td>\n",
       "    </tr>\n",
       "  </tbody>\n",
       "</table>\n",
       "</div>"
      ],
      "text/plain": [
       "                    id                                              Title  \\\n",
       "0  0100600000117000001  Закупки товаров, работ, услуг в соответствии с...   \n",
       "1  0100600000117000002  Закупки товаров, работ, услуг в соответствии с...   \n",
       "2  0100600000117000003  Закупки товаров, работ, услуг в соответствии с...   \n",
       "3  0100600000117000004  Выполнение работ по ремонту автомобильной доро...   \n",
       "4  0100600000117000005  Приобретение и установка спортивного оборудования   \n",
       "\n",
       "                                             Uri PublicationDateTimeUTC  \\\n",
       "0  https://zakupki.kontur.ru/0100600000117000001             2017-04-13   \n",
       "1  https://zakupki.kontur.ru/0100600000117000002             2017-04-13   \n",
       "2  https://zakupki.kontur.ru/0100600000117000003             2017-07-06   \n",
       "3  https://zakupki.kontur.ru/0100600000117000004             2017-07-06   \n",
       "4  https://zakupki.kontur.ru/0100600000117000005             2017-07-10   \n",
       "\n",
       "                                ProcedureDisplayName     Amount   RubPrice  \\\n",
       "0  Закупка у единственного поставщика (подрядчика...  1310000.0  1310000.0   \n",
       "1  Закупка у единственного поставщика (подрядчика...   249000.0   249000.0   \n",
       "2  Закупка у единственного поставщика (подрядчика...   250000.0   250000.0   \n",
       "3                                   Запрос котировок   400300.0   400300.0   \n",
       "4                                   Запрос котировок   451000.0   451000.0   \n",
       "\n",
       "  CurrencyCode     StatusDisplayName  StatusCode  SuppliersCount  IsWinner  \\\n",
       "0          RUB  Размещение завершено         2.0             0.0       0.0   \n",
       "1          RUB  Размещение завершено         2.0             0.0       0.0   \n",
       "2          RUB  Размещение завершено         2.0             0.0       0.0   \n",
       "3          RUB  Размещение завершено         2.0             2.0       1.0   \n",
       "4          RUB  Размещение завершено         2.0             1.0       0.0   \n",
       "\n",
       "          Inn  Kpp                                               Name  \\\n",
       "0  4720008346  NaN  МЕСТНАЯ АДМИНИСТРАЦИЯ МУНИЦИПАЛЬНОГО ОБРАЗОВАН...   \n",
       "1  4720008346  NaN  МЕСТНАЯ АДМИНИСТРАЦИЯ МУНИЦИПАЛЬНОГО ОБРАЗОВАН...   \n",
       "2  4720008346  NaN  МЕСТНАЯ АДМИНИСТРАЦИЯ МУНИЦИПАЛЬНОГО ОБРАЗОВАН...   \n",
       "3  4720008346  NaN  МЕСТНАЯ АДМИНИСТРАЦИЯ МУНИЦИПАЛЬНОГО ОБРАЗОВАН...   \n",
       "4  4720008346  NaN  МЕСТНАЯ АДМИНИСТРАЦИЯ МУНИЦИПАЛЬНОГО ОБРАЗОВАН...   \n",
       "\n",
       "            Ogrn  ResultClass  Ogrn1  \n",
       "0  1024702184451          0.0     47  \n",
       "1  1024702184451          0.0     47  \n",
       "2  1024702184451          0.0     47  \n",
       "3  1024702184451          1.0     47  \n",
       "4  1024702184451          0.0     47  "
      ]
     },
     "execution_count": 297,
     "metadata": {},
     "output_type": "execute_result"
    }
   ],
   "source": [
    "data = read_data()\n",
    "# Uncomment for word normalization\n",
    "# data = preprocess_data(data, normalize_text=True, save_file='data_with_orgs_norm.tsv')\n",
    "# data = read_data(file_path='data_with_orgs_norm.tsv')\n",
    "data = preprocess_data(data)\n",
    "data.head()"
   ]
  },
  {
   "cell_type": "code",
   "execution_count": 298,
   "metadata": {
    "scrolled": false
   },
   "outputs": [
    {
     "data": {
      "text/html": [
       "<div>\n",
       "<style scoped>\n",
       "    .dataframe tbody tr th:only-of-type {\n",
       "        vertical-align: middle;\n",
       "    }\n",
       "\n",
       "    .dataframe tbody tr th {\n",
       "        vertical-align: top;\n",
       "    }\n",
       "\n",
       "    .dataframe thead th {\n",
       "        text-align: right;\n",
       "    }\n",
       "</style>\n",
       "<table border=\"1\" class=\"dataframe\">\n",
       "  <thead>\n",
       "    <tr style=\"text-align: right;\">\n",
       "      <th></th>\n",
       "      <th>id</th>\n",
       "      <th>Title</th>\n",
       "      <th>Uri</th>\n",
       "      <th>PublicationDateTimeUTC</th>\n",
       "      <th>ProcedureDisplayName</th>\n",
       "      <th>Amount</th>\n",
       "      <th>RubPrice</th>\n",
       "      <th>CurrencyCode</th>\n",
       "      <th>StatusDisplayName</th>\n",
       "      <th>StatusCode</th>\n",
       "      <th>SuppliersCount</th>\n",
       "      <th>IsWinner</th>\n",
       "      <th>Inn</th>\n",
       "      <th>Kpp</th>\n",
       "      <th>Name</th>\n",
       "      <th>Ogrn</th>\n",
       "      <th>ResultClass</th>\n",
       "      <th>Ogrn1</th>\n",
       "    </tr>\n",
       "  </thead>\n",
       "  <tbody>\n",
       "    <tr>\n",
       "      <th>0</th>\n",
       "      <td>0101200009716000032</td>\n",
       "      <td>Оказание услуг по обслуживанию пассажиров в ВИ...</td>\n",
       "      <td>https://zakupki.kontur.ru/0101200009716000032</td>\n",
       "      <td>2016-12-12</td>\n",
       "      <td>Запрос котировок</td>\n",
       "      <td>499000.00</td>\n",
       "      <td>499000.00</td>\n",
       "      <td>RUB</td>\n",
       "      <td>Размещение завершено</td>\n",
       "      <td>2.0</td>\n",
       "      <td>1.0</td>\n",
       "      <td>0.0</td>\n",
       "      <td>0274151354</td>\n",
       "      <td>NaN</td>\n",
       "      <td>УПРАВЛЕНИЕ ДЕЛАМИ ГЛАВЫ РЕСПУБЛИКИ БАШКОРТОСТАН</td>\n",
       "      <td>1100280037813</td>\n",
       "      <td>0.0</td>\n",
       "      <td>2</td>\n",
       "    </tr>\n",
       "    <tr>\n",
       "      <th>1</th>\n",
       "      <td>0111300063217000348</td>\n",
       "      <td>Поставка сухофруктов для пришкольных лагерей</td>\n",
       "      <td>https://zakupki.kontur.ru/0111300063217000348</td>\n",
       "      <td>2017-05-19</td>\n",
       "      <td>Электронный аукцион</td>\n",
       "      <td>89080.00</td>\n",
       "      <td>89080.00</td>\n",
       "      <td>RUB</td>\n",
       "      <td>Размещение завершено</td>\n",
       "      <td>2.0</td>\n",
       "      <td>7.0</td>\n",
       "      <td>1.0</td>\n",
       "      <td>1644068560</td>\n",
       "      <td>NaN</td>\n",
       "      <td>МУНИЦИПАЛЬНОЕ БЮДЖЕТНОЕ ОБЩЕОБРАЗОВАТЕЛЬНОЕ УЧ...</td>\n",
       "      <td>1131644001818</td>\n",
       "      <td>1.0</td>\n",
       "      <td>16</td>\n",
       "    </tr>\n",
       "    <tr>\n",
       "      <th>2</th>\n",
       "      <td>0101200009516005909</td>\n",
       "      <td>Электронный аукцион [g000946245/7386g] на прав...</td>\n",
       "      <td>https://zakupki.kontur.ru/0101200009516005909</td>\n",
       "      <td>2016-12-15</td>\n",
       "      <td>Электронный аукцион</td>\n",
       "      <td>2478906.69</td>\n",
       "      <td>2478906.69</td>\n",
       "      <td>RUB</td>\n",
       "      <td>Размещение завершено</td>\n",
       "      <td>2.0</td>\n",
       "      <td>1.0</td>\n",
       "      <td>0.0</td>\n",
       "      <td>0276006472</td>\n",
       "      <td>NaN</td>\n",
       "      <td>ГОСУДАРСТВЕННОЕ БЮДЖЕТНОЕ УЧРЕЖДЕНИЕ ЗДРАВООХР...</td>\n",
       "      <td>1030204207440</td>\n",
       "      <td>0.0</td>\n",
       "      <td>2</td>\n",
       "    </tr>\n",
       "    <tr>\n",
       "      <th>3</th>\n",
       "      <td>0111200000916000574</td>\n",
       "      <td>Право заключения государственного контракта, г...</td>\n",
       "      <td>https://zakupki.kontur.ru/0111200000916000574</td>\n",
       "      <td>2016-07-06</td>\n",
       "      <td>Электронный аукцион</td>\n",
       "      <td>1548791.00</td>\n",
       "      <td>1548791.00</td>\n",
       "      <td>RUB</td>\n",
       "      <td>Размещение завершено</td>\n",
       "      <td>2.0</td>\n",
       "      <td>7.0</td>\n",
       "      <td>1.0</td>\n",
       "      <td>1656012756</td>\n",
       "      <td>NaN</td>\n",
       "      <td>ГОСУДАРСТВЕННОЕ АВТОНОМНОЕ УЧРЕЖДЕНИЕ ЗДРАВООХ...</td>\n",
       "      <td>1021603063767</td>\n",
       "      <td>1.0</td>\n",
       "      <td>16</td>\n",
       "    </tr>\n",
       "    <tr>\n",
       "      <th>4</th>\n",
       "      <td>0101300006016000004</td>\n",
       "      <td>Текущий ремонт объездной дороги в с. Буруновка...</td>\n",
       "      <td>https://zakupki.kontur.ru/0101300006016000004</td>\n",
       "      <td>2016-06-01</td>\n",
       "      <td>Запрос котировок</td>\n",
       "      <td>499996.00</td>\n",
       "      <td>499996.00</td>\n",
       "      <td>RUB</td>\n",
       "      <td>Размещение завершено</td>\n",
       "      <td>2.0</td>\n",
       "      <td>1.0</td>\n",
       "      <td>0.0</td>\n",
       "      <td>0219001252</td>\n",
       "      <td>NaN</td>\n",
       "      <td>АДМИНИСТРАЦИЯ СЕЛЬСКОГО ПОСЕЛЕНИЯ БУРУНОВСКИЙ ...</td>\n",
       "      <td>1020201253555</td>\n",
       "      <td>0.0</td>\n",
       "      <td>2</td>\n",
       "    </tr>\n",
       "  </tbody>\n",
       "</table>\n",
       "</div>"
      ],
      "text/plain": [
       "                    id                                              Title  \\\n",
       "0  0101200009716000032  Оказание услуг по обслуживанию пассажиров в ВИ...   \n",
       "1  0111300063217000348       Поставка сухофруктов для пришкольных лагерей   \n",
       "2  0101200009516005909  Электронный аукцион [g000946245/7386g] на прав...   \n",
       "3  0111200000916000574  Право заключения государственного контракта, г...   \n",
       "4  0101300006016000004  Текущий ремонт объездной дороги в с. Буруновка...   \n",
       "\n",
       "                                             Uri PublicationDateTimeUTC  \\\n",
       "0  https://zakupki.kontur.ru/0101200009716000032             2016-12-12   \n",
       "1  https://zakupki.kontur.ru/0111300063217000348             2017-05-19   \n",
       "2  https://zakupki.kontur.ru/0101200009516005909             2016-12-15   \n",
       "3  https://zakupki.kontur.ru/0111200000916000574             2016-07-06   \n",
       "4  https://zakupki.kontur.ru/0101300006016000004             2016-06-01   \n",
       "\n",
       "  ProcedureDisplayName      Amount    RubPrice CurrencyCode  \\\n",
       "0     Запрос котировок   499000.00   499000.00          RUB   \n",
       "1  Электронный аукцион    89080.00    89080.00          RUB   \n",
       "2  Электронный аукцион  2478906.69  2478906.69          RUB   \n",
       "3  Электронный аукцион  1548791.00  1548791.00          RUB   \n",
       "4     Запрос котировок   499996.00   499996.00          RUB   \n",
       "\n",
       "      StatusDisplayName  StatusCode  SuppliersCount  IsWinner         Inn  \\\n",
       "0  Размещение завершено         2.0             1.0       0.0  0274151354   \n",
       "1  Размещение завершено         2.0             7.0       1.0  1644068560   \n",
       "2  Размещение завершено         2.0             1.0       0.0  0276006472   \n",
       "3  Размещение завершено         2.0             7.0       1.0  1656012756   \n",
       "4  Размещение завершено         2.0             1.0       0.0  0219001252   \n",
       "\n",
       "   Kpp                                               Name           Ogrn  \\\n",
       "0  NaN    УПРАВЛЕНИЕ ДЕЛАМИ ГЛАВЫ РЕСПУБЛИКИ БАШКОРТОСТАН  1100280037813   \n",
       "1  NaN  МУНИЦИПАЛЬНОЕ БЮДЖЕТНОЕ ОБЩЕОБРАЗОВАТЕЛЬНОЕ УЧ...  1131644001818   \n",
       "2  NaN  ГОСУДАРСТВЕННОЕ БЮДЖЕТНОЕ УЧРЕЖДЕНИЕ ЗДРАВООХР...  1030204207440   \n",
       "3  NaN  ГОСУДАРСТВЕННОЕ АВТОНОМНОЕ УЧРЕЖДЕНИЕ ЗДРАВООХ...  1021603063767   \n",
       "4  NaN  АДМИНИСТРАЦИЯ СЕЛЬСКОГО ПОСЕЛЕНИЯ БУРУНОВСКИЙ ...  1020201253555   \n",
       "\n",
       "   ResultClass  Ogrn1  \n",
       "0          0.0      2  \n",
       "1          1.0     16  \n",
       "2          0.0      2  \n",
       "3          1.0     16  \n",
       "4          0.0      2  "
      ]
     },
     "execution_count": 298,
     "metadata": {},
     "output_type": "execute_result"
    }
   ],
   "source": [
    "g = data.groupby('SuppliersCount')\n",
    "data = g.apply(lambda x: x.head(5000)).sample(frac=1, random_state=42).reset_index(drop=True)\n",
    "data.head()"
   ]
  },
  {
   "cell_type": "code",
   "execution_count": 299,
   "metadata": {},
   "outputs": [
    {
     "data": {
      "text/plain": [
       "SuppliersCount\n",
       "0.0     5000\n",
       "1.0     5000\n",
       "2.0     5000\n",
       "3.0     5000\n",
       "4.0     5000\n",
       "5.0     5000\n",
       "6.0     5000\n",
       "7.0     3402\n",
       "8.0     1746\n",
       "9.0     1101\n",
       "10.0     448\n",
       "11.0     148\n",
       "12.0      73\n",
       "13.0      58\n",
       "14.0      75\n",
       "15.0      12\n",
       "16.0      27\n",
       "17.0       3\n",
       "18.0       4\n",
       "19.0       2\n",
       "20.0       1\n",
       "dtype: int64"
      ]
     },
     "execution_count": 299,
     "metadata": {},
     "output_type": "execute_result"
    }
   ],
   "source": [
    "data.groupby('SuppliersCount').size()"
   ]
  },
  {
   "cell_type": "code",
   "execution_count": 300,
   "metadata": {},
   "outputs": [],
   "source": [
    "text_columns = [\"Title\", \"Name\"]\n",
    "categorical_columns = [\"ProcedureDisplayName\", \"CurrencyCode\", \"Ogrn1\"]\n",
    "numerical_columns = ['RubPrice']\n",
    "target_column = \"SuppliersCount\""
   ]
  },
  {
   "cell_type": "code",
   "execution_count": 301,
   "metadata": {},
   "outputs": [],
   "source": [
    "tokenizer = nltk.tokenize.WordPunctTokenizer()\n",
    "\n",
    "for col in text_columns:\n",
    "    data[col] = data[col].apply(lambda l: ' '.join(tokenizer.tokenize(str(l).lower())))"
   ]
  },
  {
   "cell_type": "code",
   "execution_count": 302,
   "metadata": {},
   "outputs": [],
   "source": [
    "# uncomment for BPE\n",
    "# from subword_nmt.learn_bpe import learn_bpe\n",
    "# from subword_nmt.apply_bpe import BPE\n",
    "\n",
    "# split and tokenize the data\n",
    "# with open('train.txt', 'w', encoding='utf8') as f:\n",
    "#     for col in text_columns:\n",
    "#         data[col].map(lambda src_line: f.write(src_line + '\\n'))\n",
    "\n",
    "# build and apply bpe vocs\n",
    "# learn_bpe(open('./train.txt', encoding='utf8'), open('bpe_rules.txt', 'w', encoding='utf8'), num_symbols=8000)\n",
    "# bpe = BPE(open('./bpe_rules.txt', encoding='utf8'))\n",
    "\n",
    "# for col in text_columns:\n",
    "#     data[col] = data[col].apply(lambda l: bpe.process_line(l.strip()))\n",
    "\n",
    "# data.head()"
   ]
  },
  {
   "cell_type": "code",
   "execution_count": 303,
   "metadata": {},
   "outputs": [],
   "source": [
    "from collections import Counter\n",
    "token_counts = Counter()\n",
    "\n",
    "# Count how many times does each token occur in both \"Title\" and \"FullDescription\" fields\n",
    "for e in data['Title'].append(data['Name']):\n",
    "    for s in e.split(' '):\n",
    "        token_counts[s] += 1"
   ]
  },
  {
   "cell_type": "code",
   "execution_count": 304,
   "metadata": {},
   "outputs": [
    {
     "name": "stdout",
     "output_type": "stream",
     "text": [
      "Total unique tokens : 23385\n",
      "('\"', 42866)\n",
      "('республики', 34398)\n",
      "('по', 24819)\n",
      "('башкортостан', 24049)\n",
      "('учреждение', 21802)\n",
      "...\n",
      "('дрожжановская', 1)\n",
      "('акушинский', 1)\n",
      "('нижнесикиязовский', 1)\n"
     ]
    }
   ],
   "source": [
    "print(\"Total unique tokens :\", len(token_counts))\n",
    "print('\\n'.join(map(str, token_counts.most_common(n=5))))\n",
    "print('...')\n",
    "print('\\n'.join(map(str, token_counts.most_common()[-3:])))"
   ]
  },
  {
   "cell_type": "code",
   "execution_count": 305,
   "metadata": {},
   "outputs": [],
   "source": [
    "min_count = 10\n",
    "\n",
    "# tokens from token_counts keys that had at least min_count occurrences throughout the dataset\n",
    "tokens = [el for el in token_counts.keys() if token_counts[el] >= min_count]\n",
    "\n",
    "# Add a special tokens for unknown and empty words\n",
    "UNK, PAD = \"UNK\", \"PAD\"\n",
    "tokens = [UNK, PAD] + tokens"
   ]
  },
  {
   "cell_type": "code",
   "execution_count": 306,
   "metadata": {},
   "outputs": [
    {
     "name": "stdout",
     "output_type": "stream",
     "text": [
      "Tokens left: 4536\n"
     ]
    }
   ],
   "source": [
    "print(\"Tokens left:\", len(tokens))"
   ]
  },
  {
   "cell_type": "code",
   "execution_count": 307,
   "metadata": {},
   "outputs": [],
   "source": [
    "token_to_id = {tokens[i]: i for i in range(len(tokens))}"
   ]
  },
  {
   "cell_type": "code",
   "execution_count": 308,
   "metadata": {},
   "outputs": [],
   "source": [
    "# uncomment for char based RNN\n",
    "# tokens = list(set(''.join(data['Title'].append(data['Name']))))\n",
    "\n",
    "# tokens = [UNK, PAD] + list(sorted(tokens))\n",
    "# n_tokens = len(tokens)\n",
    "# token_to_id = {tokens[i]:i for i in range(n_tokens)}\n",
    "\n",
    "# n_tokens"
   ]
  },
  {
   "cell_type": "code",
   "execution_count": 309,
   "metadata": {},
   "outputs": [],
   "source": [
    "UNK_IX, PAD_IX = map(token_to_id.get, [UNK, PAD])\n",
    "\n",
    "def as_matrix(sequences, max_len=None):\n",
    "    \"\"\" Convert a list of tokens into a matrix with padding \"\"\"\n",
    "    # uncomment for word based RNN\n",
    "    if isinstance(sequences[0], str):\n",
    "        sequences = list(map(str.split, sequences))\n",
    "    max_len = min(max(map(len, sequences)), max_len or float('inf'))\n",
    "    \n",
    "    matrix = np.full((len(sequences), max_len), np.int32(PAD_IX))\n",
    "    for i,seq in enumerate(sequences):\n",
    "        row_ix = [token_to_id.get(word, UNK_IX) for word in seq[:max_len]]\n",
    "        matrix[i, :len(row_ix)] = row_ix\n",
    "    \n",
    "    return matrix"
   ]
  },
  {
   "cell_type": "code",
   "execution_count": 310,
   "metadata": {},
   "outputs": [
    {
     "data": {
      "text/plain": [
       "DictVectorizer(dtype=<class 'numpy.float32'>, separator='=', sort=True,\n",
       "        sparse=False)"
      ]
     },
     "execution_count": 310,
     "metadata": {},
     "output_type": "execute_result"
    }
   ],
   "source": [
    "categorical_vectorizer = DictVectorizer(dtype=np.float32, sparse=False)\n",
    "categorical_vectorizer.fit(data[categorical_columns].apply(dict, axis=1))"
   ]
  },
  {
   "cell_type": "code",
   "execution_count": 311,
   "metadata": {},
   "outputs": [],
   "source": [
    "def oversample(rows):\n",
    "    if len(rows) < 10:\n",
    "        return rows.append([rows]*2000, ignore_index=True)\n",
    "    if len(rows) < 100:\n",
    "        return rows.append([rows]*200, ignore_index=True)\n",
    "    if len(rows) < 1000:\n",
    "        return rows.append([rows]*20, ignore_index=True)\n",
    "    if len(rows) < 10000:\n",
    "        return rows.append([rows]*5, ignore_index=True)\n",
    "    if len(rows) < 20000:\n",
    "        return rows.append([rows]*2, ignore_index=True)\n",
    "    if len(rows) < 30000:\n",
    "        return rows.append([rows]*1, ignore_index=True)\n",
    "    return rows\n",
    "\n",
    "def oversample_val(rows):\n",
    "    if len(rows) < 10:\n",
    "        return rows.append([rows]*200, ignore_index=True)\n",
    "    if len(rows) < 100:\n",
    "        return rows.append([rows]*20, ignore_index=True)\n",
    "    if len(rows) < 1000:\n",
    "        return rows.append([rows]*5, ignore_index=True)\n",
    "    return rows"
   ]
  },
  {
   "cell_type": "code",
   "execution_count": 312,
   "metadata": {},
   "outputs": [
    {
     "name": "stdout",
     "output_type": "stream",
     "text": [
      "Train size =  29470\n",
      "Validation size =  12630\n"
     ]
    }
   ],
   "source": [
    "data_train, data_val = train_test_split(data, test_size=0.3, random_state=42)\n",
    "\n",
    "print(\"Train size = \", len(data_train))\n",
    "print(\"Validation size = \", len(data_val))"
   ]
  },
  {
   "cell_type": "code",
   "execution_count": 313,
   "metadata": {},
   "outputs": [],
   "source": [
    "# g = data_train.groupby('SuppliersCount')\n",
    "# data_train = g.apply(oversample).sample(frac=1).reset_index(drop=True)\n",
    "# data_train.groupby('SuppliersCount').size()"
   ]
  },
  {
   "cell_type": "code",
   "execution_count": 314,
   "metadata": {},
   "outputs": [],
   "source": [
    "# g = data_val.groupby('SuppliersCount')\n",
    "# data_val = g.apply(oversample_val).sample(frac=1).reset_index(drop=True)\n",
    "# data_val.groupby('SuppliersCount').size()"
   ]
  },
  {
   "cell_type": "code",
   "execution_count": 315,
   "metadata": {},
   "outputs": [],
   "source": [
    "# Uncomment for pretrained embedding\n",
    "# embeddings = gensim.models.KeyedVectors.load(\"C:/Users/feikf/Downloads/Archives/187/model.model\")\n",
    "# indices = {}\n",
    "# mat = np.zeros((len(tokens), embeddings.vectors.shape[1]))\n",
    "# for e in embeddings.vocab:\n",
    "#     if e in token_to_id:\n",
    "#         mat[token_to_id[e], : ] = embeddings[e]\n",
    "\n",
    "# print(len(tokens))\n",
    "# print(mat.shape)"
   ]
  },
  {
   "cell_type": "code",
   "execution_count": 316,
   "metadata": {},
   "outputs": [],
   "source": [
    "def maybe_cuda(tensor):\n",
    "    return tensor.cuda()"
   ]
  },
  {
   "cell_type": "code",
   "execution_count": 317,
   "metadata": {},
   "outputs": [],
   "source": [
    "def generate_batch(data, batch_size=None, replace=True, max_len=None):\n",
    "    \"\"\"\n",
    "    Creates a pytorch-friendly dict from the batch data.\n",
    "    :returns: a dict with {'title' : int64[batch, title_max_len]\n",
    "    \"\"\"\n",
    "    if batch_size is not None:\n",
    "        data = data.sample(batch_size, replace=replace)\n",
    "    \n",
    "    batch = {}\n",
    "    for col in text_columns:\n",
    "        batch[col] = as_matrix(data[col].values, max_len)\n",
    "    \n",
    "    batch['Categorical'] = categorical_vectorizer.transform(data[categorical_columns].apply(dict, axis=1))\n",
    "    # cat = [categorical_vectorizer.transform(data[categorical_columns].apply(dict, axis=1))]\n",
    "    # vals = data[numerical_columns[0]].map(float).values\n",
    "    # cat.append(vals.reshape(len(vals), 1))\n",
    "    # batch['Categorical'] = np.concatenate(cat, axis=1)\n",
    "    \n",
    "    if target_column in data.columns:\n",
    "        batch[target_column] = data[target_column].values\n",
    "    \n",
    "    return batch"
   ]
  },
  {
   "cell_type": "code",
   "execution_count": 318,
   "metadata": {},
   "outputs": [],
   "source": [
    "class GlobalMaxPooling(nn.Module):\n",
    "    def __init__(self, size=None, dim=-1):\n",
    "        super().__init__()\n",
    "        self.dim = dim\n",
    "        \n",
    "    def forward(self, x):\n",
    "        return x.max(dim=self.dim)[0]\n",
    "\n",
    "class GlobalAvgPooling(nn.Module):\n",
    "    def __init__(self, size=None, dim=-1):\n",
    "        super().__init__()\n",
    "        self.dim = dim\n",
    "    \n",
    "    def forward(self, x):\n",
    "        return x.mean(dim=self.dim)\n",
    "\n",
    "class SoftmaxPooling(nn.Module):\n",
    "    def __init__(self, size=None, dim=-1):\n",
    "        super().__init__()\n",
    "        self.dim = dim\n",
    "    \n",
    "    def forward(self, x):\n",
    "        return torch.sum(x*torch.exp(x), dim=self.dim)/torch.sum(torch.exp(x), dim=self.dim)\n",
    "\n",
    "class Reshape(nn.Module):\n",
    "    def __init__(self):\n",
    "        super().__init__()\n",
    "\n",
    "    def forward(self, x):\n",
    "        return torch.transpose(x, 1, 2)\n",
    "    \n",
    "class AttentivePooling(nn.Module):\n",
    "    def __init__(self, size=256, dim=-1):\n",
    "        super().__init__()\n",
    "        self.dim = dim\n",
    "        self.attn = nn.Sequential(\n",
    "            nn.Linear(size, size),\n",
    "            # Reshape(),\n",
    "            # nn.BatchNorm1d(size),\n",
    "            # Reshape(),\n",
    "            nn.ReLU(),\n",
    "            nn.Linear(size, size)\n",
    "        )\n",
    "    \n",
    "    def forward(self, x):\n",
    "        attn = self.attn(x)\n",
    "        return torch.sum(x*torch.exp(attn), dim=self.dim)/torch.sum(torch.exp(attn), dim=self.dim)"
   ]
  },
  {
   "cell_type": "code",
   "execution_count": 319,
   "metadata": {},
   "outputs": [],
   "source": [
    "class GruEncoder(nn.Module):\n",
    "    def __init__(self, pooling=GlobalMaxPooling, emb_w=None, n_tokens=len(tokens), emb_size=64, out_size=64):\n",
    "        super().__init__()\n",
    "        \n",
    "        self.emb = nn.Embedding(n_tokens, emb_size, padding_idx=PAD_IX)\n",
    "        if emb_w is not None:\n",
    "            self.emb.weight.data.copy_(torch.from_numpy(emb_w))\n",
    "            \n",
    "        self.enc0 = nn.GRU(emb_size, out_size, batch_first=True)\n",
    "        self.enc1 = nn.Sequential(\n",
    "            nn.ReLU(),\n",
    "            pooling(size=out_size, dim=1),\n",
    "            nn.Linear(out_size, out_size)\n",
    "        )\n",
    "        \n",
    "    def forward(self, text_ix):\n",
    "        \"\"\"\n",
    "        :param text_ix: int64 Variable of shape [batch_size, max_len]\n",
    "        :returns: float32 Variable of shape [batch_size, out_size]\n",
    "        \"\"\"\n",
    "        h = self.emb(text_ix)\n",
    "        h, _ = self.enc0(h)\n",
    "        return self.enc1(h)\n",
    "\n",
    "class LstmEncoder(nn.Module):\n",
    "    def __init__(self, pooling=GlobalMaxPooling, emb_w=None, n_tokens=len(tokens), emb_size=64, out_size=64):\n",
    "        super().__init__()\n",
    "        \n",
    "        self.emb = nn.Embedding(n_tokens, emb_size, padding_idx=PAD_IX)\n",
    "        if emb_w is not None:\n",
    "            self.emb.weight.data.copy_(torch.from_numpy(emb_w))\n",
    "            \n",
    "        self.enc0 = nn.LSTM(emb_size, out_size, batch_first=True)\n",
    "        self.enc1 = nn.Sequential(\n",
    "            nn.ReLU(),\n",
    "            pooling(size=out_size, dim=1),\n",
    "            nn.Linear(out_size, out_size)\n",
    "        )\n",
    "        \n",
    "    def forward(self, text_ix):\n",
    "        \"\"\"\n",
    "        :param text_ix: int64 Variable of shape [batch_size, max_len]\n",
    "        :returns: float32 Variable of shape [batch_size, out_size]\n",
    "        \"\"\"\n",
    "        h = self.emb(text_ix)\n",
    "        h, _ = self.enc0(h)\n",
    "        return self.enc1(h)\n",
    "    \n",
    "class ConvEncoder(nn.Module):\n",
    "    def __init__(self, pooling=GlobalMaxPooling, emb_w=None, n_tokens=len(tokens), emb_size=64, out_size=64):\n",
    "        super().__init__()\n",
    "        \n",
    "        self.emb = nn.Embedding(n_tokens, emb_size, padding_idx=PAD_IX)\n",
    "        if emb_w is not None:\n",
    "            self.emb.weight.data.copy_(torch.from_numpy(emb_w))\n",
    "        \n",
    "        self.enc = nn.Sequential(\n",
    "            nn.Conv1d(emb_size, out_size, kernel_size=3, padding=1),\n",
    "            nn.BatchNorm1d(out_size),\n",
    "            nn.ReLU(),\n",
    "            nn.Conv1d(out_size, out_size, kernel_size=3, padding=1),\n",
    "            nn.BatchNorm1d(out_size),\n",
    "            nn.ReLU(),\n",
    "            nn.Conv1d(out_size, out_size, kernel_size=3, padding=1),\n",
    "            nn.BatchNorm1d(out_size),\n",
    "            nn.ReLU(),\n",
    "            pooling(),\n",
    "            nn.Linear(out_size, out_size)\n",
    "        )\n",
    "        \n",
    "    def forward(self, text_ix):\n",
    "        \"\"\"\n",
    "        :param text_ix: int64 Variable of shape [batch_size, max_len]\n",
    "        :returns: float32 Variable of shape [batch_size, out_size]\n",
    "        \"\"\"\n",
    "        h = self.emb(text_ix)\n",
    "        h = torch.transpose(h, 1, 2)\n",
    "        return self.enc(h)"
   ]
  },
  {
   "cell_type": "code",
   "execution_count": 320,
   "metadata": {},
   "outputs": [],
   "source": [
    "class FullNetwork(nn.Module):\n",
    "    def __init__(self, pooling=GlobalMaxPooling, emb_w=None, emb_size=64, out_size=64, n_tokens=len(tokens), n_cat_features=len(categorical_vectorizer.vocabulary_), n_num_features=len(numerical_columns)):\n",
    "        super().__init__()\n",
    "        \n",
    "        self.title_enc = GruEncoder(pooling=pooling, emb_w=emb_w, emb_size=emb_size, out_size=out_size)\n",
    "        self.name_enc = GruEncoder(pooling=pooling, emb_w=emb_w, emb_size=emb_size, out_size=out_size)\n",
    "        \n",
    "        self.cat_enc = nn.Sequential(\n",
    "            nn.Linear(n_cat_features, 256),\n",
    "            nn.BatchNorm1d(256),\n",
    "            nn.ReLU(),\n",
    "            nn.Linear(256, 128),\n",
    "            nn.BatchNorm1d(128),\n",
    "            nn.ReLU(),\n",
    "            nn.Linear(128, out_size)\n",
    "        )\n",
    "\n",
    "        self.res_layer = nn.Sequential(\n",
    "            nn.Linear(out_size*3, 256),\n",
    "            nn.BatchNorm1d(256),\n",
    "            nn.ReLU(),\n",
    "            nn.Linear(256, 128),\n",
    "            nn.BatchNorm1d(128),\n",
    "            nn.ReLU(),\n",
    "            nn.Linear(128, 32),\n",
    "            nn.BatchNorm1d(32),\n",
    "            nn.ReLU(),\n",
    "            nn.Linear(32, 1)\n",
    "        )        \n",
    "    \n",
    "    def forward(self, title_ix, name_ix, cat_features):\n",
    "        title_h = self.title_enc(title_ix)\n",
    "        name_h = self.name_enc(name_ix)\n",
    "        cat_h = self.cat_enc(cat_features)\n",
    "        \n",
    "        joint_h = torch.cat([title_h, name_h, cat_h], dim=1)\n",
    "        result = self.res_layer(joint_h)\n",
    "        \n",
    "        return result[:, 0]"
   ]
  },
  {
   "cell_type": "code",
   "execution_count": 321,
   "metadata": {},
   "outputs": [],
   "source": [
    "def compute_loss(reference, prediction):\n",
    "    return torch.mean((prediction - reference) ** 2)\n",
    "\n",
    "def compute_loss_np(reference, prediction):\n",
    "    return np.mean((prediction - reference)**2)\n",
    "\n",
    "def compute_mae(reference, prediction):\n",
    "    return np.abs(reference - prediction).mean()\n",
    "\n",
    "def compute_r2(reference, prediction):\n",
    "    y_mean = np.mean(reference)\n",
    "    sq_err = np.sum((prediction - reference)**2)\n",
    "    return 1 - sq_err/np.sum((reference - y_mean)**2)\n",
    "\n",
    "def compute_r2_loss(reference, prediction):\n",
    "    y_mean = torch.mean(reference)\n",
    "    sq_err = torch.sum((prediction - reference)**2)\n",
    "    return -(1 - sq_err/torch.sum((reference - y_mean)**2))"
   ]
  },
  {
   "cell_type": "code",
   "execution_count": 322,
   "metadata": {},
   "outputs": [],
   "source": [
    "def after_each_epoch_fn(*args, **kwargs):\n",
    "    epoch_i = kwargs['epoch_i']\n",
    "    n_epoch = kwargs['n_epoch']\n",
    "    start = kwargs['epoch_start']\n",
    "    end = kwargs['epoch_end']\n",
    "    mae = kwargs['epoch_mae']\n",
    "    r2 = kwargs['epoch_r2']\n",
    "    print(f'\\rEpoch #{epoch_i + 1}/{n_epoch} epoch_mae: {mae:.4f}, r2: {r2:.4f}, epoch_time: {end - start:.2f} s', end='')\n",
    "\n",
    "def after_each_batch_fn(*args, **kwargs):\n",
    "    return\n",
    "    epoch_i = kwargs['epoch_i']\n",
    "    n_epoch = kwargs['n_epoch']\n",
    "    print(f'\\rEpoch #{epoch_i + 1}/{n_epoch} ({get_batch_string(*args, **kwargs)})', end='')\n",
    "\n",
    "def get_batch_string(*args, **kwargs):\n",
    "    batch_i = kwargs['batch_i']\n",
    "    n_batch = kwargs['n_batch']\n",
    "    start = kwargs['batch_start']\n",
    "    end = kwargs['batch_end']\n",
    "    loss = kwargs['batch_loss']\n",
    "    return f'batch #{batch_i + 1}/{n_batch}, batch_loss: {loss:.5f}, batch_time: {end - start:.3f} s'"
   ]
  },
  {
   "cell_type": "code",
   "execution_count": 323,
   "metadata": {},
   "outputs": [],
   "source": [
    "def iterate_minibatches(data, batch_size=32, max_len=None,\n",
    "                        max_batches=None, shuffle=True, verbose=True):\n",
    "    indices = np.arange(len(data))\n",
    "    if shuffle:\n",
    "        indices = np.random.permutation(indices)\n",
    "    if max_batches is not None:\n",
    "        indices = indices[: batch_size * max_batches]\n",
    "        \n",
    "    for start in range(0, len(indices), batch_size):\n",
    "        yield generate_batch(data.iloc[indices[start : start + batch_size]], max_len=max_len)"
   ]
  },
  {
   "cell_type": "code",
   "execution_count": 324,
   "metadata": {},
   "outputs": [],
   "source": [
    "import time\n",
    "\n",
    "def train(name, model, opt, num_epochs=100, max_len=100, batch_size=32, batches_per_epoch=100, save_best=True, early_stop_after=10):\n",
    "    val_mae_means = []\n",
    "    val_r2 = []\n",
    "    callback_params = {'n_epoch': num_epochs, 'n_batch': batches_per_epoch}\n",
    "    for epoch_i in range(num_epochs):\n",
    "        callback_params['epoch_i'] = epoch_i\n",
    "        callback_params['epoch_start'] = time.time()\n",
    "\n",
    "        train_loss = []\n",
    "        model.train(True)\n",
    "\n",
    "        for batch_i, batch in enumerate(iterate_minibatches(data_train, max_batches=batches_per_epoch)):\n",
    "            callback_params['batch_i'] = batch_i\n",
    "            callback_params['batch_start'] = time.time()\n",
    "\n",
    "            title_ix = Variable(maybe_cuda(torch.LongTensor(batch[\"Title\"])))\n",
    "            name_ix = Variable(maybe_cuda(torch.LongTensor(batch[\"Name\"])))\n",
    "            cat_features = Variable(maybe_cuda(torch.FloatTensor(batch[\"Categorical\"])))\n",
    "            reference = Variable(maybe_cuda(torch.FloatTensor(batch[target_column])))\n",
    "\n",
    "            prediction = model(title_ix, name_ix, cat_features)\n",
    "\n",
    "            loss = compute_r2_loss(reference, prediction)\n",
    "            loss.backward()\n",
    "            opt.step()\n",
    "            opt.zero_grad()\n",
    "\n",
    "            train_loss.append(loss.data.cpu().numpy())\n",
    "\n",
    "            callback_params['batch_end'] = time.time()\n",
    "            callback_params['batch_loss'] = train_loss[-1]\n",
    "\n",
    "            after_each_batch_fn(**callback_params)\n",
    "\n",
    "        model.train(False)\n",
    "\n",
    "        refs = []\n",
    "        preds = []\n",
    "        for batch in iterate_minibatches(data_val, shuffle=False):\n",
    "            title_ix = Variable(maybe_cuda(torch.LongTensor(batch[\"Title\"])))\n",
    "            desc_ix = Variable(maybe_cuda(torch.LongTensor(batch[\"Name\"])))\n",
    "            cat_features = Variable(maybe_cuda(torch.FloatTensor(batch[\"Categorical\"])))\n",
    "            prediction = model(title_ix, desc_ix, cat_features)\n",
    "\n",
    "            preds.extend(prediction.data.cpu().numpy())\n",
    "            refs.extend(batch[target_column])\n",
    "\n",
    "        refs = np.array(refs)\n",
    "        preds = np.array(preds)\n",
    "        \n",
    "        cur_mae = compute_mae(refs, preds)\n",
    "        cur_r2 = compute_r2(refs, preds)\n",
    "        if np.isnan(cur_r2):\n",
    "            print(f'\\nEncountered nan in epoch #{epoch_i + 1}', end='')\n",
    "            break\n",
    "        \n",
    "        val_mae_means.append(cur_mae)\n",
    "        val_r2.append(cur_r2)\n",
    "\n",
    "        local_max = np.max(val_r2)\n",
    "\n",
    "        if save_best and val_r2[-1] == local_max:\n",
    "            torch.save(model.state_dict(), name)\n",
    "\n",
    "        callback_params['epoch_end'] = time.time()\n",
    "        callback_params['epoch_mae'] = val_mae_means[-1]\n",
    "        callback_params['epoch_r2'] = val_r2[-1]\n",
    "\n",
    "        after_each_epoch_fn(**callback_params)\n",
    "\n",
    "        if len(val_r2) > early_stop_after and local_max not in val_r2[-early_stop_after:]:\n",
    "            print(f'\\nEarly stopped after epoch #{epoch_i + 1}', end='')\n",
    "            break\n",
    "\n",
    "    print(f'\\nBest validation R2: {np.max(val_r2):.4f}' + (f', best model saved to \"{name}\"' if save_best else ''))\n",
    "\n",
    "    plt.title(name)\n",
    "    plt.xlabel('n_epoch')\n",
    "    plt.ylabel('MAE')\n",
    "    plt.plot(list(range(1, len(val_r2) + 1)), val_r2)\n",
    "    plt.show()"
   ]
  },
  {
   "cell_type": "code",
   "execution_count": 325,
   "metadata": {},
   "outputs": [],
   "source": [
    "def evaluate(model):\n",
    "    print(\"Final eval:\")\n",
    "    \n",
    "    refs = []\n",
    "    preds = []\n",
    "    for batch in iterate_minibatches(data_val):\n",
    "        title_ix = Variable(maybe_cuda(torch.LongTensor(batch[\"Title\"])))\n",
    "        desc_ix = Variable(maybe_cuda(torch.LongTensor(batch[\"Name\"])))\n",
    "        cat_features = Variable(maybe_cuda(torch.FloatTensor(batch[\"Categorical\"])))\n",
    "        prediction = model(title_ix, desc_ix, cat_features)\n",
    "\n",
    "        preds.extend(prediction.data.cpu().numpy())\n",
    "        refs.extend(batch[target_column])\n",
    "    \n",
    "    refs = np.array(refs)\n",
    "    preds = np.array(preds)\n",
    "    \n",
    "    print(\"\\tLoss:\\t%.5f\" % compute_loss_np(refs, preds))\n",
    "    print(\"\\tMAE:\\t%.5f\" % compute_mae(refs, preds))\n",
    "    print(\"\\tR2:\\t%.5f\" % compute_r2(refs, preds))"
   ]
  },
  {
   "cell_type": "code",
   "execution_count": 331,
   "metadata": {},
   "outputs": [
    {
     "name": "stdout",
     "output_type": "stream",
     "text": [
      "Epoch #200/200 epoch_mae: 0.9344, r2: 0.7309, epoch_time: 7.06 s\n",
      "Best validation R2: 0.7476, best model saved to \"baseline\"\n"
     ]
    },
    {
     "data": {
      "image/png": "[encoded data removed]",
      "text/plain": [
       "<Figure size 432x288 with 1 Axes>"
      ]
     },
     "metadata": {
      "needs_background": "light"
     },
     "output_type": "display_data"
    }
   ],
   "source": [
    "model = maybe_cuda(FullNetwork(emb_size=128, out_size=512))\n",
    "opt = torch.optim.Adam(model.parameters(), lr=1e-3)\n",
    "\n",
    "train('baseline', model, opt, num_epochs=200, early_stop_after=200)"
   ]
  },
  {
   "cell_type": "code",
   "execution_count": 326,
   "metadata": {},
   "outputs": [
    {
     "name": "stdout",
     "output_type": "stream",
     "text": [
      "Epoch #200/200 epoch_mae: 0.8623, r2: 0.7379, epoch_time: 5.87 s\n",
      "Best validation R2: 0.7521, best model saved to \"baseline\"\n"
     ]
    },
    {
     "data": {
      "image/png": "[encoded data removed]",
      "text/plain": [
       "<Figure size 432x288 with 1 Axes>"
      ]
     },
     "metadata": {
      "needs_background": "light"
     },
     "output_type": "display_data"
    }
   ],
   "source": [
    "model = maybe_cuda(FullNetwork(emb_size=128, out_size=300))\n",
    "opt = torch.optim.Adam(model.parameters(), lr=1e-3)\n",
    "\n",
    "train('baseline', model, opt, num_epochs=200, early_stop_after=200)"
   ]
  },
  {
   "cell_type": "code",
   "execution_count": 327,
   "metadata": {
    "scrolled": false
   },
   "outputs": [
    {
     "name": "stdout",
     "output_type": "stream",
     "text": [
      "Epoch #200/200 epoch_mae: 0.8898, r2: 0.7295, epoch_time: 6.44 s\n",
      "Best validation R2: 0.7496, best model saved to \"baseline\"\n"
     ]
    },
    {
     "data": {
      "image/png": "[encoded data removed]",
      "text/plain": [
       "<Figure size 432x288 with 1 Axes>"
      ]
     },
     "metadata": {
      "needs_background": "light"
     },
     "output_type": "display_data"
    }
   ],
   "source": [
    "model = maybe_cuda(FullNetwork(emb_size=128, out_size=256))\n",
    "opt = torch.optim.Adam(model.parameters(), lr=1e-3)\n",
    "\n",
    "train('baseline', model, opt, num_epochs=200, early_stop_after=200)"
   ]
  },
  {
   "cell_type": "code",
   "execution_count": 328,
   "metadata": {},
   "outputs": [
    {
     "name": "stdout",
     "output_type": "stream",
     "text": [
      "Epoch #200/200 epoch_mae: 0.9138, r2: 0.7330, epoch_time: 6.28 s\n",
      "Best validation R2: 0.7457, best model saved to \"baseline\"\n"
     ]
    },
    {
     "data": {
      "image/png": "[encoded data removed]",
      "text/plain": [
       "<Figure size 432x288 with 1 Axes>"
      ]
     },
     "metadata": {
      "needs_background": "light"
     },
     "output_type": "display_data"
    }
   ],
   "source": [
    "model = maybe_cuda(FullNetwork(emb_size=128, out_size=128))\n",
    "opt = torch.optim.Adam(model.parameters(), lr=1e-3)\n",
    "\n",
    "train('baseline', model, opt, num_epochs=200, early_stop_after=200)"
   ]
  },
  {
   "cell_type": "code",
   "execution_count": 329,
   "metadata": {
    "scrolled": true
   },
   "outputs": [
    {
     "name": "stdout",
     "output_type": "stream",
     "text": [
      "Epoch #200/200 epoch_mae: 0.9208, r2: 0.7251, epoch_time: 6.01 s\n",
      "Best validation R2: 0.7442, best model saved to \"baseline\"\n"
     ]
    },
    {
     "data": {
      "image/png": "[encoded data removed]",
      "text/plain": [
       "<Figure size 432x288 with 1 Axes>"
      ]
     },
     "metadata": {
      "needs_background": "light"
     },
     "output_type": "display_data"
    }
   ],
   "source": [
    "model = maybe_cuda(FullNetwork(emb_size=128, out_size=64))\n",
    "opt = torch.optim.Adam(model.parameters(), lr=1e-3)\n",
    "\n",
    "train('baseline', model, opt, num_epochs=200, early_stop_after=200)"
   ]
  },
  {
   "cell_type": "code",
   "execution_count": 330,
   "metadata": {
    "scrolled": true
   },
   "outputs": [
    {
     "name": "stdout",
     "output_type": "stream",
     "text": [
      "Epoch #200/200 epoch_mae: 0.9281, r2: 0.7240, epoch_time: 7.50 s\n",
      "Best validation R2: 0.7424, best model saved to \"baseline\"\n"
     ]
    },
    {
     "data": {
      "image/png": "[encoded data removed]",
      "text/plain": [
       "<Figure size 432x288 with 1 Axes>"
      ]
     },
     "metadata": {
      "needs_background": "light"
     },
     "output_type": "display_data"
    }
   ],
   "source": [
    "model = maybe_cuda(FullNetwork(emb_size=64, out_size=64))\n",
    "opt = torch.optim.Adam(model.parameters(), lr=1e-3)\n",
    "\n",
    "train('baseline', model, opt, num_epochs=200, early_stop_after=200)"
   ]
  },
  {
   "cell_type": "code",
   "execution_count": null,
   "metadata": {
    "scrolled": true
   },
   "outputs": [],
   "source": [
    "model = maybe_cuda(FullNetwork(emb_size=32, out_size=32))\n",
    "opt = torch.optim.Adam(model.parameters(), lr=1e-3)\n",
    "\n",
    "train('baseline', model, opt, num_epochs=200, early_stop_after=200)"
   ]
  },
  {
   "cell_type": "code",
   "execution_count": 160,
   "metadata": {
    "scrolled": true
   },
   "outputs": [
    {
     "name": "stdout",
     "output_type": "stream",
     "text": [
      "Final eval:\n",
      "\tLoss:\t1.92464\n",
      "\tMAE:\t0.89769\n",
      "\tR2:\t0.73211\n"
     ]
    }
   ],
   "source": [
    "model.load_state_dict(torch.load('baseline'))\n",
    "evaluate(model)"
   ]
  },
  {
   "cell_type": "code",
   "execution_count": null,
   "metadata": {},
   "outputs": [],
   "source": []
  }
 ],
 "metadata": {
  "kernelspec": {
   "display_name": "Python 3",
   "language": "python",
   "name": "python3"
  },
  "language_info": {
   "codemirror_mode": {
    "name": "ipython",
    "version": 3
   },
   "file_extension": ".py",
   "mimetype": "text/x-python",
   "name": "python",
   "nbconvert_exporter": "python",
   "pygments_lexer": "ipython3",
   "version": "3.7.3"
  }
 },
 "nbformat": 4,
 "nbformat_minor": 2
}
