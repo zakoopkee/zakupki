{
 "cells": [
  {
   "cell_type": "code",
   "execution_count": 2,
   "metadata": {},
   "outputs": [],
   "source": [
    "import warnings\n",
    "warnings.filterwarnings('ignore')\n",
    "\n",
    "import numpy as np\n",
    "import pandas as pd\n",
    "import seaborn as sns\n",
    "import matplotlib.pyplot as plt\n",
    "import lightgbm as lgb\n",
    "from catboost import CatBoostClassifier\n",
    "from xgboost import XGBClassifier\n",
    "\n",
    "from sklearn.model_selection import train_test_split\n",
    "from sklearn.ensemble import RandomForestClassifier as RF\n",
    "from sklearn.model_selection import cross_val_score, StratifiedKFold, GridSearchCV\n",
    "from sklearn.metrics import classification_report, accuracy_score, roc_curve, roc_auc_score\n",
    "from sklearn.grid_search import ParameterGrid\n",
    "from sklearn.preprocessing import LabelEncoder\n",
    "from sklearn.tree import DecisionTreeClassifier\n",
    "\n",
    "from data_reader import read_data\n",
    "from data_preprocessing import preprocess_data\n",
    "from feature_extractor import extract_features\n",
    "\n",
    "pd.set_option('display.max_colwidth', -1)\n",
    "pd.set_option('mode.sim_interactive', True)\n",
    "pd.set_option('expand_frame_repr', False)\n",
    "pd.set_option('max_columns', 100)\n",
    "pd.set_option('max_rows', 1000)\n",
    "\n",
    "%matplotlib inline"
   ]
  },
  {
   "cell_type": "markdown",
   "metadata": {},
   "source": [
    "### Обработка данных"
   ]
  },
  {
   "cell_type": "code",
   "execution_count": 3,
   "metadata": {
    "scrolled": true
   },
   "outputs": [
    {
     "name": "stdout",
     "output_type": "stream",
     "text": [
      "(258358, 19)\n"
     ]
    },
    {
     "data": {
      "text/html": [
       "<div>\n",
       "<style scoped>\n",
       "    .dataframe tbody tr th:only-of-type {\n",
       "        vertical-align: middle;\n",
       "    }\n",
       "\n",
       "    .dataframe tbody tr th {\n",
       "        vertical-align: top;\n",
       "    }\n",
       "\n",
       "    .dataframe thead th {\n",
       "        text-align: right;\n",
       "    }\n",
       "</style>\n",
       "<table border=\"1\" class=\"dataframe\">\n",
       "  <thead>\n",
       "    <tr style=\"text-align: right;\">\n",
       "      <th></th>\n",
       "      <th>id</th>\n",
       "      <th>Title</th>\n",
       "      <th>Uri</th>\n",
       "      <th>PublicationDateTimeUTC</th>\n",
       "      <th>ProcedureDisplayName</th>\n",
       "      <th>Amount</th>\n",
       "      <th>RubPrice</th>\n",
       "      <th>CurrencyCode</th>\n",
       "      <th>StatusDisplayName</th>\n",
       "      <th>StatusCode</th>\n",
       "      <th>SuppliersCount</th>\n",
       "      <th>IsWinner</th>\n",
       "      <th>Inn</th>\n",
       "      <th>Kpp</th>\n",
       "      <th>Name</th>\n",
       "      <th>Ogrn</th>\n",
       "      <th>ResultClass</th>\n",
       "      <th>Ogrn1</th>\n",
       "    </tr>\n",
       "  </thead>\n",
       "  <tbody>\n",
       "    <tr>\n",
       "      <th>0</th>\n",
       "      <td>0100600000117000001</td>\n",
       "      <td>Закупки товаров, работ, услуг в соответствии с п. 29 ч. 1 ст.93 Федерального закона</td>\n",
       "      <td>https://zakupki.kontur.ru/0100600000117000001</td>\n",
       "      <td>2017-04-13</td>\n",
       "      <td>Закупка у единственного поставщика (подрядчика, исполнителя)</td>\n",
       "      <td>1310000.0</td>\n",
       "      <td>1310000.0</td>\n",
       "      <td>RUB</td>\n",
       "      <td>Размещение завершено</td>\n",
       "      <td>2.0</td>\n",
       "      <td>0.0</td>\n",
       "      <td>0.0</td>\n",
       "      <td>4720008346</td>\n",
       "      <td>NaN</td>\n",
       "      <td>МЕСТНАЯ АДМИНИСТРАЦИЯ МУНИЦИПАЛЬНОГО ОБРАЗОВАНИЯ КОПОРСКОЕ СЕЛЬСКОЕ ПОСЕЛЕНИЕ МУНИЦИПАЛЬНОГО ОБРАЗОВАНИЯ ЛОМОНОСОВСКИЙ МУНИЦИПАЛЬНЫЙ РАЙОН ЛЕНИНГРАДСКОЙ ОБЛАСТИ</td>\n",
       "      <td>1024702184451</td>\n",
       "      <td>0.0</td>\n",
       "      <td>47</td>\n",
       "    </tr>\n",
       "    <tr>\n",
       "      <th>1</th>\n",
       "      <td>0100600000117000002</td>\n",
       "      <td>Закупки товаров, работ, услуг в соответствии с п. 29 ч. 1 ст.93 Федерального закона</td>\n",
       "      <td>https://zakupki.kontur.ru/0100600000117000002</td>\n",
       "      <td>2017-04-13</td>\n",
       "      <td>Закупка у единственного поставщика (подрядчика, исполнителя)</td>\n",
       "      <td>249000.0</td>\n",
       "      <td>249000.0</td>\n",
       "      <td>RUB</td>\n",
       "      <td>Размещение завершено</td>\n",
       "      <td>2.0</td>\n",
       "      <td>0.0</td>\n",
       "      <td>0.0</td>\n",
       "      <td>4720008346</td>\n",
       "      <td>NaN</td>\n",
       "      <td>МЕСТНАЯ АДМИНИСТРАЦИЯ МУНИЦИПАЛЬНОГО ОБРАЗОВАНИЯ КОПОРСКОЕ СЕЛЬСКОЕ ПОСЕЛЕНИЕ МУНИЦИПАЛЬНОГО ОБРАЗОВАНИЯ ЛОМОНОСОВСКИЙ МУНИЦИПАЛЬНЫЙ РАЙОН ЛЕНИНГРАДСКОЙ ОБЛАСТИ</td>\n",
       "      <td>1024702184451</td>\n",
       "      <td>0.0</td>\n",
       "      <td>47</td>\n",
       "    </tr>\n",
       "    <tr>\n",
       "      <th>2</th>\n",
       "      <td>0100600000117000003</td>\n",
       "      <td>Закупки товаров, работ, услуг в соответствии с п. 29 ч. 1 ст.93 Федерального закона</td>\n",
       "      <td>https://zakupki.kontur.ru/0100600000117000003</td>\n",
       "      <td>2017-07-06</td>\n",
       "      <td>Закупка у единственного поставщика (подрядчика, исполнителя)</td>\n",
       "      <td>250000.0</td>\n",
       "      <td>250000.0</td>\n",
       "      <td>RUB</td>\n",
       "      <td>Размещение завершено</td>\n",
       "      <td>2.0</td>\n",
       "      <td>0.0</td>\n",
       "      <td>0.0</td>\n",
       "      <td>4720008346</td>\n",
       "      <td>NaN</td>\n",
       "      <td>МЕСТНАЯ АДМИНИСТРАЦИЯ МУНИЦИПАЛЬНОГО ОБРАЗОВАНИЯ КОПОРСКОЕ СЕЛЬСКОЕ ПОСЕЛЕНИЕ МУНИЦИПАЛЬНОГО ОБРАЗОВАНИЯ ЛОМОНОСОВСКИЙ МУНИЦИПАЛЬНЫЙ РАЙОН ЛЕНИНГРАДСКОЙ ОБЛАСТИ</td>\n",
       "      <td>1024702184451</td>\n",
       "      <td>0.0</td>\n",
       "      <td>47</td>\n",
       "    </tr>\n",
       "    <tr>\n",
       "      <th>3</th>\n",
       "      <td>0100600000117000004</td>\n",
       "      <td>Выполнение работ по ремонту автомобильной дороги общего пользования местного значения в д.Климотино</td>\n",
       "      <td>https://zakupki.kontur.ru/0100600000117000004</td>\n",
       "      <td>2017-07-06</td>\n",
       "      <td>Запрос котировок</td>\n",
       "      <td>400300.0</td>\n",
       "      <td>400300.0</td>\n",
       "      <td>RUB</td>\n",
       "      <td>Размещение завершено</td>\n",
       "      <td>2.0</td>\n",
       "      <td>2.0</td>\n",
       "      <td>1.0</td>\n",
       "      <td>4720008346</td>\n",
       "      <td>NaN</td>\n",
       "      <td>МЕСТНАЯ АДМИНИСТРАЦИЯ МУНИЦИПАЛЬНОГО ОБРАЗОВАНИЯ КОПОРСКОЕ СЕЛЬСКОЕ ПОСЕЛЕНИЕ МУНИЦИПАЛЬНОГО ОБРАЗОВАНИЯ ЛОМОНОСОВСКИЙ МУНИЦИПАЛЬНЫЙ РАЙОН ЛЕНИНГРАДСКОЙ ОБЛАСТИ</td>\n",
       "      <td>1024702184451</td>\n",
       "      <td>1.0</td>\n",
       "      <td>47</td>\n",
       "    </tr>\n",
       "    <tr>\n",
       "      <th>4</th>\n",
       "      <td>0100600000117000005</td>\n",
       "      <td>Приобретение и установка спортивного оборудования</td>\n",
       "      <td>https://zakupki.kontur.ru/0100600000117000005</td>\n",
       "      <td>2017-07-10</td>\n",
       "      <td>Запрос котировок</td>\n",
       "      <td>451000.0</td>\n",
       "      <td>451000.0</td>\n",
       "      <td>RUB</td>\n",
       "      <td>Размещение завершено</td>\n",
       "      <td>2.0</td>\n",
       "      <td>1.0</td>\n",
       "      <td>0.0</td>\n",
       "      <td>4720008346</td>\n",
       "      <td>NaN</td>\n",
       "      <td>МЕСТНАЯ АДМИНИСТРАЦИЯ МУНИЦИПАЛЬНОГО ОБРАЗОВАНИЯ КОПОРСКОЕ СЕЛЬСКОЕ ПОСЕЛЕНИЕ МУНИЦИПАЛЬНОГО ОБРАЗОВАНИЯ ЛОМОНОСОВСКИЙ МУНИЦИПАЛЬНЫЙ РАЙОН ЛЕНИНГРАДСКОЙ ОБЛАСТИ</td>\n",
       "      <td>1024702184451</td>\n",
       "      <td>0.0</td>\n",
       "      <td>47</td>\n",
       "    </tr>\n",
       "  </tbody>\n",
       "</table>\n",
       "</div>"
      ],
      "text/plain": [
       "                    id                                                                                                Title                                            Uri PublicationDateTimeUTC                                          ProcedureDisplayName     Amount   RubPrice CurrencyCode     StatusDisplayName  StatusCode  SuppliersCount  IsWinner         Inn  Kpp                                                                                                                                                              Name           Ogrn  ResultClass  Ogrn1\n",
       "0  0100600000117000001  Закупки товаров, работ, услуг в соответствии с п. 29 ч. 1 ст.93 Федерального закона                  https://zakupki.kontur.ru/0100600000117000001  2017-04-13             Закупка у единственного поставщика (подрядчика, исполнителя)  1310000.0  1310000.0  RUB          Размещение завершено  2.0         0.0             0.0       4720008346  NaN  МЕСТНАЯ АДМИНИСТРАЦИЯ МУНИЦИПАЛЬНОГО ОБРАЗОВАНИЯ КОПОРСКОЕ СЕЛЬСКОЕ ПОСЕЛЕНИЕ МУНИЦИПАЛЬНОГО ОБРАЗОВАНИЯ ЛОМОНОСОВСКИЙ МУНИЦИПАЛЬНЫЙ РАЙОН ЛЕНИНГРАДСКОЙ ОБЛАСТИ  1024702184451  0.0          47   \n",
       "1  0100600000117000002  Закупки товаров, работ, услуг в соответствии с п. 29 ч. 1 ст.93 Федерального закона                  https://zakupki.kontur.ru/0100600000117000002  2017-04-13             Закупка у единственного поставщика (подрядчика, исполнителя)  249000.0   249000.0   RUB          Размещение завершено  2.0         0.0             0.0       4720008346  NaN  МЕСТНАЯ АДМИНИСТРАЦИЯ МУНИЦИПАЛЬНОГО ОБРАЗОВАНИЯ КОПОРСКОЕ СЕЛЬСКОЕ ПОСЕЛЕНИЕ МУНИЦИПАЛЬНОГО ОБРАЗОВАНИЯ ЛОМОНОСОВСКИЙ МУНИЦИПАЛЬНЫЙ РАЙОН ЛЕНИНГРАДСКОЙ ОБЛАСТИ  1024702184451  0.0          47   \n",
       "2  0100600000117000003  Закупки товаров, работ, услуг в соответствии с п. 29 ч. 1 ст.93 Федерального закона                  https://zakupki.kontur.ru/0100600000117000003  2017-07-06             Закупка у единственного поставщика (подрядчика, исполнителя)  250000.0   250000.0   RUB          Размещение завершено  2.0         0.0             0.0       4720008346  NaN  МЕСТНАЯ АДМИНИСТРАЦИЯ МУНИЦИПАЛЬНОГО ОБРАЗОВАНИЯ КОПОРСКОЕ СЕЛЬСКОЕ ПОСЕЛЕНИЕ МУНИЦИПАЛЬНОГО ОБРАЗОВАНИЯ ЛОМОНОСОВСКИЙ МУНИЦИПАЛЬНЫЙ РАЙОН ЛЕНИНГРАДСКОЙ ОБЛАСТИ  1024702184451  0.0          47   \n",
       "3  0100600000117000004  Выполнение работ по ремонту автомобильной дороги общего пользования местного значения в д.Климотино  https://zakupki.kontur.ru/0100600000117000004  2017-07-06             Запрос котировок                                              400300.0   400300.0   RUB          Размещение завершено  2.0         2.0             1.0       4720008346  NaN  МЕСТНАЯ АДМИНИСТРАЦИЯ МУНИЦИПАЛЬНОГО ОБРАЗОВАНИЯ КОПОРСКОЕ СЕЛЬСКОЕ ПОСЕЛЕНИЕ МУНИЦИПАЛЬНОГО ОБРАЗОВАНИЯ ЛОМОНОСОВСКИЙ МУНИЦИПАЛЬНЫЙ РАЙОН ЛЕНИНГРАДСКОЙ ОБЛАСТИ  1024702184451  1.0          47   \n",
       "4  0100600000117000005  Приобретение и установка спортивного оборудования                                                    https://zakupki.kontur.ru/0100600000117000005  2017-07-10             Запрос котировок                                              451000.0   451000.0   RUB          Размещение завершено  2.0         1.0             0.0       4720008346  NaN  МЕСТНАЯ АДМИНИСТРАЦИЯ МУНИЦИПАЛЬНОГО ОБРАЗОВАНИЯ КОПОРСКОЕ СЕЛЬСКОЕ ПОСЕЛЕНИЕ МУНИЦИПАЛЬНОГО ОБРАЗОВАНИЯ ЛОМОНОСОВСКИЙ МУНИЦИПАЛЬНЫЙ РАЙОН ЛЕНИНГРАДСКОЙ ОБЛАСТИ  1024702184451  0.0          47   "
      ]
     },
     "execution_count": 3,
     "metadata": {},
     "output_type": "execute_result"
    }
   ],
   "source": [
    "data = read_data()\n",
    "print(data.shape)\n",
    "data = preprocess_data(data)\n",
    "data.head()"
   ]
  },
  {
   "cell_type": "code",
   "execution_count": 4,
   "metadata": {},
   "outputs": [
    {
     "data": {
      "text/html": [
       "<div>\n",
       "<style scoped>\n",
       "    .dataframe tbody tr th:only-of-type {\n",
       "        vertical-align: middle;\n",
       "    }\n",
       "\n",
       "    .dataframe tbody tr th {\n",
       "        vertical-align: top;\n",
       "    }\n",
       "\n",
       "    .dataframe thead th {\n",
       "        text-align: right;\n",
       "    }\n",
       "</style>\n",
       "<table border=\"1\" class=\"dataframe\">\n",
       "  <thead>\n",
       "    <tr style=\"text-align: right;\">\n",
       "      <th></th>\n",
       "      <th>ProcedureDisplayName</th>\n",
       "      <th>0</th>\n",
       "    </tr>\n",
       "  </thead>\n",
       "  <tbody>\n",
       "    <tr>\n",
       "      <th>0</th>\n",
       "      <td>Двухэтапный конкурс</td>\n",
       "      <td>2</td>\n",
       "    </tr>\n",
       "    <tr>\n",
       "      <th>1</th>\n",
       "      <td>Закрытый аукцион</td>\n",
       "      <td>20</td>\n",
       "    </tr>\n",
       "    <tr>\n",
       "      <th>2</th>\n",
       "      <td>Закрытый конкурс</td>\n",
       "      <td>13</td>\n",
       "    </tr>\n",
       "    <tr>\n",
       "      <th>3</th>\n",
       "      <td>Закупка у единственного поставщика (подрядчика, исполнителя)</td>\n",
       "      <td>37448</td>\n",
       "    </tr>\n",
       "    <tr>\n",
       "      <th>4</th>\n",
       "      <td>Закупка у единственного поставщика (подрядчика, исполнителя) с учетом положений ст. 111 Закона № 44-ФЗ</td>\n",
       "      <td>20</td>\n",
       "    </tr>\n",
       "    <tr>\n",
       "      <th>5</th>\n",
       "      <td>Запрос котировок</td>\n",
       "      <td>15475</td>\n",
       "    </tr>\n",
       "    <tr>\n",
       "      <th>6</th>\n",
       "      <td>Запрос котировок на выполнение работ по строительству, реконструкции, капитальному ремонту, а также проектных, изыскательских работ в отношении олимпийских объектов и строительству домов взамен земельных участков и объектов недвижимого имущества, изымаемых</td>\n",
       "      <td>4</td>\n",
       "    </tr>\n",
       "    <tr>\n",
       "      <th>7</th>\n",
       "      <td>Запрос котировок с учетом положений ст. 111 Закона № 44-ФЗ</td>\n",
       "      <td>6</td>\n",
       "    </tr>\n",
       "    <tr>\n",
       "      <th>8</th>\n",
       "      <td>Запрос предложений</td>\n",
       "      <td>726</td>\n",
       "    </tr>\n",
       "    <tr>\n",
       "      <th>9</th>\n",
       "      <td>Конкурс для заключения энергосервисного контракта</td>\n",
       "      <td>17</td>\n",
       "    </tr>\n",
       "    <tr>\n",
       "      <th>10</th>\n",
       "      <td>Конкурс с ограниченным участием</td>\n",
       "      <td>12358</td>\n",
       "    </tr>\n",
       "    <tr>\n",
       "      <th>11</th>\n",
       "      <td>Открытый конкурс</td>\n",
       "      <td>4968</td>\n",
       "    </tr>\n",
       "    <tr>\n",
       "      <th>12</th>\n",
       "      <td>Открытый конкурс для заключения договора на проведение аудита бухгалтерской (финансовой) отчетности (согласно ч. 4 ст. 5 Федерального закона от 30.12.2008г. № 307-ФЗ)</td>\n",
       "      <td>1</td>\n",
       "    </tr>\n",
       "    <tr>\n",
       "      <th>13</th>\n",
       "      <td>Повторный конкурс</td>\n",
       "      <td>21</td>\n",
       "    </tr>\n",
       "    <tr>\n",
       "      <th>14</th>\n",
       "      <td>Повторный конкурс с ограниченным участием</td>\n",
       "      <td>65</td>\n",
       "    </tr>\n",
       "    <tr>\n",
       "      <th>15</th>\n",
       "      <td>Предварительный отбор</td>\n",
       "      <td>944</td>\n",
       "    </tr>\n",
       "    <tr>\n",
       "      <th>16</th>\n",
       "      <td>Предварительный отбор с учетом положений ст. 111 Закона № 44-ФЗ</td>\n",
       "      <td>2</td>\n",
       "    </tr>\n",
       "    <tr>\n",
       "      <th>17</th>\n",
       "      <td>Способ определения поставщика (подрядчика, исполнителя), установленный Правительством Российской Федерации в соответствии со ст. 111 Федерального закона № 44-ФЗ</td>\n",
       "      <td>4</td>\n",
       "    </tr>\n",
       "    <tr>\n",
       "      <th>18</th>\n",
       "      <td>Электронный аукцион</td>\n",
       "      <td>182637</td>\n",
       "    </tr>\n",
       "    <tr>\n",
       "      <th>19</th>\n",
       "      <td>Электронный аукцион для заключения энергосервисного контракта</td>\n",
       "      <td>46</td>\n",
       "    </tr>\n",
       "    <tr>\n",
       "      <th>20</th>\n",
       "      <td>Электронный аукцион с учетом положений ст. 111 Закона № 44-ФЗ</td>\n",
       "      <td>12</td>\n",
       "    </tr>\n",
       "  </tbody>\n",
       "</table>\n",
       "</div>"
      ],
      "text/plain": [
       "                                                                                                                                                                                                                                                ProcedureDisplayName       0\n",
       "0   Двухэтапный конкурс                                                                                                                                                                                                                                               2     \n",
       "1   Закрытый аукцион                                                                                                                                                                                                                                                  20    \n",
       "2   Закрытый конкурс                                                                                                                                                                                                                                                  13    \n",
       "3   Закупка у единственного поставщика (подрядчика, исполнителя)                                                                                                                                                                                                      37448 \n",
       "4   Закупка у единственного поставщика (подрядчика, исполнителя) с учетом положений ст. 111 Закона № 44-ФЗ                                                                                                                                                            20    \n",
       "5   Запрос котировок                                                                                                                                                                                                                                                  15475 \n",
       "6   Запрос котировок на выполнение работ по строительству, реконструкции, капитальному ремонту, а также проектных, изыскательских работ в отношении олимпийских объектов и строительству домов взамен земельных участков и объектов недвижимого имущества, изымаемых  4     \n",
       "7   Запрос котировок с учетом положений ст. 111 Закона № 44-ФЗ                                                                                                                                                                                                        6     \n",
       "8   Запрос предложений                                                                                                                                                                                                                                                726   \n",
       "9   Конкурс для заключения энергосервисного контракта                                                                                                                                                                                                                 17    \n",
       "10  Конкурс с ограниченным участием                                                                                                                                                                                                                                   12358 \n",
       "11  Открытый конкурс                                                                                                                                                                                                                                                  4968  \n",
       "12  Открытый конкурс для заключения договора на проведение аудита бухгалтерской (финансовой) отчетности (согласно ч. 4 ст. 5 Федерального закона от 30.12.2008г. № 307-ФЗ)                                                                                            1     \n",
       "13  Повторный конкурс                                                                                                                                                                                                                                                 21    \n",
       "14  Повторный конкурс с ограниченным участием                                                                                                                                                                                                                         65    \n",
       "15  Предварительный отбор                                                                                                                                                                                                                                             944   \n",
       "16  Предварительный отбор с учетом положений ст. 111 Закона № 44-ФЗ                                                                                                                                                                                                   2     \n",
       "17  Способ определения поставщика (подрядчика, исполнителя), установленный Правительством Российской Федерации в соответствии со ст. 111 Федерального закона № 44-ФЗ                                                                                                  4     \n",
       "18  Электронный аукцион                                                                                                                                                                                                                                               182637\n",
       "19  Электронный аукцион для заключения энергосервисного контракта                                                                                                                                                                                                     46    \n",
       "20  Электронный аукцион с учетом положений ст. 111 Закона № 44-ФЗ                                                                                                                                                                                                     12    "
      ]
     },
     "execution_count": 4,
     "metadata": {},
     "output_type": "execute_result"
    }
   ],
   "source": [
    "data.groupby('ProcedureDisplayName').size().reset_index()"
   ]
  },
  {
   "cell_type": "code",
   "execution_count": 5,
   "metadata": {
    "scrolled": true
   },
   "outputs": [
    {
     "data": {
      "text/plain": [
       "ResultClass\n",
       "0.0    118170\n",
       "1.0    133155\n",
       "2.0    3464  \n",
       "dtype: int64"
      ]
     },
     "execution_count": 5,
     "metadata": {},
     "output_type": "execute_result"
    }
   ],
   "source": [
    "data.groupby('ResultClass').size()"
   ]
  },
  {
   "cell_type": "code",
   "execution_count": 6,
   "metadata": {},
   "outputs": [
    {
     "data": {
      "text/html": [
       "<div>\n",
       "<style scoped>\n",
       "    .dataframe tbody tr th:only-of-type {\n",
       "        vertical-align: middle;\n",
       "    }\n",
       "\n",
       "    .dataframe tbody tr th {\n",
       "        vertical-align: top;\n",
       "    }\n",
       "\n",
       "    .dataframe thead th {\n",
       "        text-align: right;\n",
       "    }\n",
       "</style>\n",
       "<table border=\"1\" class=\"dataframe\">\n",
       "  <thead>\n",
       "    <tr style=\"text-align: right;\">\n",
       "      <th></th>\n",
       "      <th>Amount</th>\n",
       "      <th>RubPrice</th>\n",
       "      <th>ResultClass</th>\n",
       "      <th>Ogrn1</th>\n",
       "    </tr>\n",
       "  </thead>\n",
       "  <tbody>\n",
       "    <tr>\n",
       "      <th>Amount</th>\n",
       "      <td>1.000000</td>\n",
       "      <td>1.000000</td>\n",
       "      <td>0.075788</td>\n",
       "      <td>0.075294</td>\n",
       "    </tr>\n",
       "    <tr>\n",
       "      <th>RubPrice</th>\n",
       "      <td>1.000000</td>\n",
       "      <td>1.000000</td>\n",
       "      <td>0.075788</td>\n",
       "      <td>0.075294</td>\n",
       "    </tr>\n",
       "    <tr>\n",
       "      <th>ResultClass</th>\n",
       "      <td>0.075788</td>\n",
       "      <td>0.075788</td>\n",
       "      <td>1.000000</td>\n",
       "      <td>0.261333</td>\n",
       "    </tr>\n",
       "    <tr>\n",
       "      <th>Ogrn1</th>\n",
       "      <td>0.075294</td>\n",
       "      <td>0.075294</td>\n",
       "      <td>0.261333</td>\n",
       "      <td>1.000000</td>\n",
       "    </tr>\n",
       "  </tbody>\n",
       "</table>\n",
       "</div>"
      ],
      "text/plain": [
       "               Amount  RubPrice  ResultClass     Ogrn1\n",
       "Amount       1.000000  1.000000  0.075788     0.075294\n",
       "RubPrice     1.000000  1.000000  0.075788     0.075294\n",
       "ResultClass  0.075788  0.075788  1.000000     0.261333\n",
       "Ogrn1        0.075294  0.075294  0.261333     1.000000"
      ]
     },
     "execution_count": 6,
     "metadata": {},
     "output_type": "execute_result"
    }
   ],
   "source": [
    "data.drop(['StatusCode', 'SuppliersCount', 'IsWinner'], axis=1).corr()"
   ]
  },
  {
   "cell_type": "code",
   "execution_count": 7,
   "metadata": {
    "scrolled": true
   },
   "outputs": [
    {
     "name": "stdout",
     "output_type": "stream",
     "text": [
      "oh CurrencyCode\n",
      "oh ProcedureDisplayName\n",
      "oh Ogrn\n",
      "ng Title\n",
      "ng OrgName\n"
     ]
    }
   ],
   "source": [
    "data_head = data\n",
    "features = extract_features(data_head)[0]"
   ]
  },
  {
   "cell_type": "code",
   "execution_count": 8,
   "metadata": {},
   "outputs": [],
   "source": [
    "features = pd.DataFrame(features)"
   ]
  },
  {
   "cell_type": "code",
   "execution_count": 69,
   "metadata": {},
   "outputs": [],
   "source": [
    "features.fillna(0, inplace=True)\n",
    "X_train, X_test, y_train, y_test = train_test_split(features.drop('ResultClass', axis=1).values,\n",
    "                            features.ResultClass.values,\n",
    "                            test_size=0.3,\n",
    "                            random_state=123456)"
   ]
  },
  {
   "cell_type": "markdown",
   "metadata": {},
   "source": [
    "### Кросс-валидация и GridSearch"
   ]
  },
  {
   "cell_type": "code",
   "execution_count": 10,
   "metadata": {},
   "outputs": [
    {
     "data": {
      "text/plain": [
       "0.9360422095301558"
      ]
     },
     "execution_count": 10,
     "metadata": {},
     "output_type": "execute_result"
    }
   ],
   "source": [
    "clf = DecisionTreeClassifier()\n",
    "clf.fit(X=X_train, y=y_train)\n",
    "np.mean(cross_val_score(clf, X_train, y_train, scoring='accuracy'))"
   ]
  },
  {
   "cell_type": "code",
   "execution_count": 11,
   "metadata": {},
   "outputs": [
    {
     "data": {
      "text/plain": [
       "0.9429106608510237"
      ]
     },
     "execution_count": 11,
     "metadata": {},
     "output_type": "execute_result"
    }
   ],
   "source": [
    "rf = RF(n_estimators=100, n_jobs=-1)\n",
    "rf = rf.fit(X_train, y_train)\n",
    "np.mean(cross_val_score(rf, X_train, y_train, scoring='accuracy'))"
   ]
  },
  {
   "cell_type": "code",
   "execution_count": 12,
   "metadata": {},
   "outputs": [],
   "source": [
    "def grid_search(model, param_grid):\n",
    "    gs = GridSearchCV(estimator=model, param_grid=param_grid, cv=5, verbose=10,  n_jobs=3, scoring='accuracy')\n",
    "    gs.fit(X_train, y_train)\n",
    "    print(gs.best_score_)\n",
    "    print(gs.best_params_)\n",
    "    return gs.best_estimator_"
   ]
  },
  {
   "cell_type": "code",
   "execution_count": 14,
   "metadata": {},
   "outputs": [
    {
     "name": "stdout",
     "output_type": "stream",
     "text": [
      "Fitting 5 folds for each of 36 candidates, totalling 180 fits\n"
     ]
    },
    {
     "name": "stderr",
     "output_type": "stream",
     "text": [
      "[Parallel(n_jobs=3)]: Done   2 tasks      | elapsed:  2.9min\n",
      "[Parallel(n_jobs=3)]: Done   7 tasks      | elapsed:  7.3min\n",
      "[Parallel(n_jobs=3)]: Done  12 tasks      | elapsed: 10.9min\n",
      "[Parallel(n_jobs=3)]: Done  19 tasks      | elapsed: 14.8min\n",
      "[Parallel(n_jobs=3)]: Done  26 tasks      | elapsed: 18.0min\n",
      "[Parallel(n_jobs=3)]: Done  35 tasks      | elapsed: 24.5min\n",
      "[Parallel(n_jobs=3)]: Done  44 tasks      | elapsed: 33.1min\n",
      "[Parallel(n_jobs=3)]: Done  55 tasks      | elapsed: 38.5min\n",
      "[Parallel(n_jobs=3)]: Done  66 tasks      | elapsed: 45.4min\n",
      "[Parallel(n_jobs=3)]: Done  79 tasks      | elapsed: 51.6min\n",
      "[Parallel(n_jobs=3)]: Done  92 tasks      | elapsed: 54.7min\n",
      "[Parallel(n_jobs=3)]: Done 107 tasks      | elapsed: 59.3min\n",
      "[Parallel(n_jobs=3)]: Done 122 tasks      | elapsed: 62.3min\n",
      "[Parallel(n_jobs=3)]: Done 139 tasks      | elapsed: 124.6min\n",
      "[Parallel(n_jobs=3)]: Done 156 tasks      | elapsed: 131.7min\n",
      "[Parallel(n_jobs=3)]: Done 175 tasks      | elapsed: 141.0min\n",
      "[Parallel(n_jobs=3)]: Done 180 out of 180 | elapsed: 142.4min finished\n"
     ]
    },
    {
     "name": "stdout",
     "output_type": "stream",
     "text": [
      "0.9214586884363506\n",
      "{'criterion': 'entropy', 'max_depth': 12, 'max_features': 'auto', 'min_samples_leaf': 4}\n"
     ]
    }
   ],
   "source": [
    "param_grid = { \n",
    "    'max_features': ['auto', 'log2'],\n",
    "    'max_depth' : [8, 10, 12],\n",
    "    'criterion' :['gini', 'entropy'],\n",
    "    'min_samples_leaf': [4, 6, 8]\n",
    "}\n",
    "\n",
    "rf = grid_search(RF(n_estimators=100), param_grid)"
   ]
  },
  {
   "cell_type": "code",
   "execution_count": 13,
   "metadata": {},
   "outputs": [
    {
     "data": {
      "text/plain": [
       "0.9227426689980996"
      ]
     },
     "execution_count": 13,
     "metadata": {},
     "output_type": "execute_result"
    }
   ],
   "source": [
    "rf = RF(n_estimators=500, criterion='entropy', max_depth=12, max_features='auto', min_samples_leaf=4)\n",
    "np.mean(cross_val_score(rf, X_train, y_train, scoring='accuracy'))"
   ]
  },
  {
   "cell_type": "code",
   "execution_count": 17,
   "metadata": {
    "scrolled": true
   },
   "outputs": [
    {
     "name": "stdout",
     "output_type": "stream",
     "text": [
      "Fitting 5 folds for each of 54 candidates, totalling 270 fits\n"
     ]
    },
    {
     "name": "stderr",
     "output_type": "stream",
     "text": [
      "[Parallel(n_jobs=3)]: Done   2 tasks      | elapsed:  1.1min\n",
      "[Parallel(n_jobs=3)]: Done   7 tasks      | elapsed:  3.3min\n",
      "[Parallel(n_jobs=3)]: Done  12 tasks      | elapsed:  5.4min\n",
      "[Parallel(n_jobs=3)]: Done  19 tasks      | elapsed:  8.3min\n",
      "[Parallel(n_jobs=3)]: Done  26 tasks      | elapsed: 11.7min\n",
      "[Parallel(n_jobs=3)]: Done  35 tasks      | elapsed: 15.5min\n",
      "[Parallel(n_jobs=3)]: Done  44 tasks      | elapsed: 20.0min\n",
      "[Parallel(n_jobs=3)]: Done  55 tasks      | elapsed: 24.5min\n",
      "[Parallel(n_jobs=3)]: Done  66 tasks      | elapsed: 29.8min\n",
      "[Parallel(n_jobs=3)]: Done  79 tasks      | elapsed: 35.4min\n",
      "[Parallel(n_jobs=3)]: Done  92 tasks      | elapsed: 41.6min\n",
      "[Parallel(n_jobs=3)]: Done 107 tasks      | elapsed: 48.8min\n",
      "[Parallel(n_jobs=3)]: Done 122 tasks      | elapsed: 55.8min\n",
      "[Parallel(n_jobs=3)]: Done 139 tasks      | elapsed: 62.9min\n",
      "[Parallel(n_jobs=3)]: Done 156 tasks      | elapsed: 70.3min\n",
      "[Parallel(n_jobs=3)]: Done 175 tasks      | elapsed: 79.0min\n",
      "[Parallel(n_jobs=3)]: Done 194 tasks      | elapsed: 88.1min\n",
      "[Parallel(n_jobs=3)]: Done 215 tasks      | elapsed: 95.5min\n",
      "[Parallel(n_jobs=3)]: Done 236 tasks      | elapsed: 101.7min\n",
      "[Parallel(n_jobs=3)]: Done 259 tasks      | elapsed: 108.8min\n",
      "[Parallel(n_jobs=3)]: Done 270 out of 270 | elapsed: 112.1min finished\n",
      "C:\\Users\\chikurova\\Anaconda2\\envs\\py36\\lib\\site-packages\\lightgbm-2.2.2-py3.7-win-amd64.egg\\lightgbm\\engine.py:116: UserWarning: Found `num_iteration` in params. Will use it instead of argument\n",
      "  warnings.warn(\"Found `{}` in params. Will use it instead of argument\".format(alias))\n"
     ]
    },
    {
     "name": "stdout",
     "output_type": "stream",
     "text": [
      "0.9459383690679106\n",
      "{'learning_rate': 0.1, 'max_depth': 12, 'min_data_in_leaf': 13, 'num_iteration': 100}\n"
     ]
    }
   ],
   "source": [
    "param_grid = { \n",
    "    'learning_rate': [0.1, 0.01],\n",
    "    'min_data_in_leaf': [9, 11, 13],\n",
    "    'max_depth': [8, 10, 12],\n",
    "    'num_iteration': [50, 75, 100]\n",
    "}\n",
    "\n",
    "gbm = grid_search(lgb.LGBMClassifier(objective='multiclass', metric='multi_error', num_classes=3, \n",
    "                                     feature_fraction=0.9, bagging_fraction=0.9,\n",
    "                                    feature_fraction_seed=123456, bagging_freq=1, bagging_seed=123456), param_grid)"
   ]
  },
  {
   "cell_type": "code",
   "execution_count": 14,
   "metadata": {},
   "outputs": [
    {
     "data": {
      "text/plain": [
       "0.9456916642707064"
      ]
     },
     "execution_count": 14,
     "metadata": {},
     "output_type": "execute_result"
    }
   ],
   "source": [
    "gbm = lgb.LGBMClassifier(objective='multiclass', metric='multi_error', num_classes=3, learning_rate=0.1,\n",
    "                            feature_fraction=0.9, bagging_fraction=0.9, max_depth=12, min_data_in_leaf=13,\n",
    "                            feature_fraction_seed=123456, bagging_freq=1, bagging_seed=123456, num_iteration=100)\n",
    "np.mean(cross_val_score(gbm, X_train, y_train, scoring='accuracy'))"
   ]
  },
  {
   "cell_type": "code",
   "execution_count": 15,
   "metadata": {},
   "outputs": [
    {
     "name": "stdout",
     "output_type": "stream",
     "text": [
      "Fitting 5 folds for each of 8 candidates, totalling 40 fits\n"
     ]
    },
    {
     "name": "stderr",
     "output_type": "stream",
     "text": [
      "[Parallel(n_jobs=3)]: Done   2 tasks      | elapsed: 24.7min\n",
      "[Parallel(n_jobs=3)]: Done   7 tasks      | elapsed: 70.7min\n",
      "[Parallel(n_jobs=3)]: Done  12 tasks      | elapsed: 97.4min\n",
      "[Parallel(n_jobs=3)]: Done  19 tasks      | elapsed: 171.0min\n",
      "[Parallel(n_jobs=3)]: Done  26 tasks      | elapsed: 229.7min\n",
      "[Parallel(n_jobs=3)]: Done  35 tasks      | elapsed: 320.0min\n",
      "[Parallel(n_jobs=3)]: Done  40 out of  40 | elapsed: 374.4min remaining:    0.0s\n",
      "[Parallel(n_jobs=3)]: Done  40 out of  40 | elapsed: 374.4min finished\n"
     ]
    },
    {
     "name": "stdout",
     "output_type": "stream",
     "text": [
      "0.9504575222032834\n",
      "{'colsample_bytree': 0.7, 'max_depth': 12, 'min_child_weight': 9}\n"
     ]
    }
   ],
   "source": [
    "param_grid = {\n",
    "    'max_depth': [10, 12],\n",
    "    'min_child_weight': [9, 11],\n",
    "    'colsample_bytree': [0.7, 0.9]\n",
    "}\n",
    "\n",
    "xgb = grid_search(XGBClassifier(objective='multi:softmax', num_class=3, n_estimators=50, seed=123456, learning_rate=0.1, subsample=0.9), param_grid)"
   ]
  },
  {
   "cell_type": "markdown",
   "metadata": {},
   "source": [
    "### Тестовые данные"
   ]
  },
  {
   "cell_type": "code",
   "execution_count": 16,
   "metadata": {},
   "outputs": [],
   "source": [
    "def get_metric(X_test, y_test, model):\n",
    "    y_pred = None\n",
    "    if \"predict_proba\" in dir(model):\n",
    "        y_pred = model.predict_proba(X_test)\n",
    "    else:\n",
    "        y_pred = model.predict(X_test)\n",
    "    test = pd.DataFrame(y_test, columns=['test'])\n",
    "    test['prediction'] = [np.argmax(x) for x in y_pred]\n",
    "    print(classification_report(y_test, test['prediction'].values))\n",
    "    test['is_same'] = test.apply(lambda row: int(row[0] == row[1]), axis=1)\n",
    "    f = {'is_same': ['sum', 'size', 'mean']}\n",
    "    groups = test.groupby('test').agg(f)\n",
    "    print(sum(test['is_same']) / test.shape[0])\n",
    "    return groups['is_same'].sort_values('mean', ascending=False)"
   ]
  },
  {
   "cell_type": "code",
   "execution_count": 17,
   "metadata": {},
   "outputs": [],
   "source": [
    "def transform_to_one_vs_rest(y_test, y_pred_proba, index):\n",
    "    y_test_i = np.array(list(map(lambda e: 1 if e == index else 0, y_test)))\n",
    "    y_pred_proba_i = np.array(list(map(lambda probas: probas[index], y_pred_proba)))\n",
    "    return y_test_i, y_pred_proba_i"
   ]
  },
  {
   "cell_type": "code",
   "execution_count": 66,
   "metadata": {},
   "outputs": [],
   "source": [
    "def get_roc_auc(X_test, y_test, model):\n",
    "    y_pred = None\n",
    "    if \"predict_proba\" in dir(model):\n",
    "        y_pred = model.predict_proba(X_test)\n",
    "    else:\n",
    "        y_pred = model.predict(X_test)\n",
    "    fig, axes = plt.subplots(1, 3, figsize=(20, 5))\n",
    "    titles = ['Неуспех', 'Успех', 'Отмена']\n",
    "    for i in range(3):\n",
    "        y_test_i, y_pred_i = transform_to_one_vs_rest(y_test, y_pred, i)\n",
    "        fpr, tpr, _ = roc_curve(y_test_i,  y_pred_i)\n",
    "        auc = roc_auc_score(y_test_i, y_pred_i)\n",
    "        axes[i].plot(fpr, tpr, label=f'class {i}, auc={auc}')\n",
    "        axes[i].legend(loc=4)\n",
    "        axes[i].set_title(titles[i])\n",
    "    plt.show()"
   ]
  },
  {
   "cell_type": "code",
   "execution_count": 72,
   "metadata": {
    "scrolled": true
   },
   "outputs": [
    {
     "name": "stdout",
     "output_type": "stream",
     "text": [
      "             precision    recall  f1-score   support\n",
      "\n",
      "        0.0       0.97      0.91      0.94     35346\n",
      "        1.0       0.93      0.99      0.96     40025\n",
      "        2.0       0.85      0.56      0.68      1066\n",
      "\n",
      "avg / total       0.95      0.95      0.95     76437\n",
      "\n",
      "0.9464526341954812\n"
     ]
    },
    {
     "data": {
      "text/html": [
       "<div>\n",
       "<style scoped>\n",
       "    .dataframe tbody tr th:only-of-type {\n",
       "        vertical-align: middle;\n",
       "    }\n",
       "\n",
       "    .dataframe tbody tr th {\n",
       "        vertical-align: top;\n",
       "    }\n",
       "\n",
       "    .dataframe thead th {\n",
       "        text-align: right;\n",
       "    }\n",
       "</style>\n",
       "<table border=\"1\" class=\"dataframe\">\n",
       "  <thead>\n",
       "    <tr style=\"text-align: right;\">\n",
       "      <th></th>\n",
       "      <th>sum</th>\n",
       "      <th>size</th>\n",
       "      <th>mean</th>\n",
       "    </tr>\n",
       "    <tr>\n",
       "      <th>test</th>\n",
       "      <th></th>\n",
       "      <th></th>\n",
       "      <th></th>\n",
       "    </tr>\n",
       "  </thead>\n",
       "  <tbody>\n",
       "    <tr>\n",
       "      <th>1.0</th>\n",
       "      <td>39576</td>\n",
       "      <td>40025</td>\n",
       "      <td>0.988782</td>\n",
       "    </tr>\n",
       "    <tr>\n",
       "      <th>0.0</th>\n",
       "      <td>32169</td>\n",
       "      <td>35346</td>\n",
       "      <td>0.910117</td>\n",
       "    </tr>\n",
       "    <tr>\n",
       "      <th>2.0</th>\n",
       "      <td>599</td>\n",
       "      <td>1066</td>\n",
       "      <td>0.561914</td>\n",
       "    </tr>\n",
       "  </tbody>\n",
       "</table>\n",
       "</div>"
      ],
      "text/plain": [
       "        sum   size      mean\n",
       "test                        \n",
       "1.0   39576  40025  0.988782\n",
       "0.0   32169  35346  0.910117\n",
       "2.0   599    1066   0.561914"
      ]
     },
     "execution_count": 72,
     "metadata": {},
     "output_type": "execute_result"
    }
   ],
   "source": [
    "gbm.fit(X_train, y_train)\n",
    "get_metric(X_test, y_test, gbm)"
   ]
  },
  {
   "cell_type": "code",
   "execution_count": 73,
   "metadata": {},
   "outputs": [
    {
     "data": {
      "image/png": "[encoded data removed]",
      "text/plain": [
       "<Figure size 1440x360 with 3 Axes>"
      ]
     },
     "metadata": {
      "needs_background": "light"
     },
     "output_type": "display_data"
    }
   ],
   "source": [
    "get_roc_auc(X_test, y_test, gbm)"
   ]
  },
  {
   "cell_type": "code",
   "execution_count": 75,
   "metadata": {},
   "outputs": [
    {
     "name": "stdout",
     "output_type": "stream",
     "text": [
      "             precision    recall  f1-score   support\n",
      "\n",
      "        0.0       0.97      0.93      0.95     35346\n",
      "        1.0       0.94      0.98      0.96     40025\n",
      "        2.0       0.90      0.50      0.65      1066\n",
      "\n",
      "avg / total       0.95      0.95      0.95     76437\n",
      "\n",
      "0.9512278085220508\n"
     ]
    },
    {
     "data": {
      "text/html": [
       "<div>\n",
       "<style scoped>\n",
       "    .dataframe tbody tr th:only-of-type {\n",
       "        vertical-align: middle;\n",
       "    }\n",
       "\n",
       "    .dataframe tbody tr th {\n",
       "        vertical-align: top;\n",
       "    }\n",
       "\n",
       "    .dataframe thead th {\n",
       "        text-align: right;\n",
       "    }\n",
       "</style>\n",
       "<table border=\"1\" class=\"dataframe\">\n",
       "  <thead>\n",
       "    <tr style=\"text-align: right;\">\n",
       "      <th></th>\n",
       "      <th>sum</th>\n",
       "      <th>size</th>\n",
       "      <th>mean</th>\n",
       "    </tr>\n",
       "    <tr>\n",
       "      <th>test</th>\n",
       "      <th></th>\n",
       "      <th></th>\n",
       "      <th></th>\n",
       "    </tr>\n",
       "  </thead>\n",
       "  <tbody>\n",
       "    <tr>\n",
       "      <th>1.0</th>\n",
       "      <td>39424</td>\n",
       "      <td>40025</td>\n",
       "      <td>0.984984</td>\n",
       "    </tr>\n",
       "    <tr>\n",
       "      <th>0.0</th>\n",
       "      <td>32747</td>\n",
       "      <td>35346</td>\n",
       "      <td>0.926470</td>\n",
       "    </tr>\n",
       "    <tr>\n",
       "      <th>2.0</th>\n",
       "      <td>538</td>\n",
       "      <td>1066</td>\n",
       "      <td>0.504690</td>\n",
       "    </tr>\n",
       "  </tbody>\n",
       "</table>\n",
       "</div>"
      ],
      "text/plain": [
       "        sum   size      mean\n",
       "test                        \n",
       "1.0   39424  40025  0.984984\n",
       "0.0   32747  35346  0.926470\n",
       "2.0   538    1066   0.504690"
      ]
     },
     "execution_count": 75,
     "metadata": {},
     "output_type": "execute_result"
    }
   ],
   "source": [
    "xgb.fit(X_train, y_train)\n",
    "get_metric(X_test, y_test, xgb)"
   ]
  },
  {
   "cell_type": "code",
   "execution_count": 76,
   "metadata": {},
   "outputs": [
    {
     "data": {
      "image/png": "[encoded data removed]",
      "text/plain": [
       "<Figure size 1440x360 with 3 Axes>"
      ]
     },
     "metadata": {
      "needs_background": "light"
     },
     "output_type": "display_data"
    }
   ],
   "source": [
    "get_roc_auc(X_test, y_test, xgb)"
   ]
  },
  {
   "cell_type": "code",
   "execution_count": 77,
   "metadata": {},
   "outputs": [
    {
     "name": "stdout",
     "output_type": "stream",
     "text": [
      "             precision    recall  f1-score   support\n",
      "\n",
      "        0.0       0.97      0.87      0.91     35346\n",
      "        1.0       0.89      0.99      0.94     40025\n",
      "        2.0       1.00      0.32      0.48      1066\n",
      "\n",
      "avg / total       0.93      0.92      0.92     76437\n",
      "\n",
      "0.9249970563993878\n"
     ]
    },
    {
     "data": {
      "text/html": [
       "<div>\n",
       "<style scoped>\n",
       "    .dataframe tbody tr th:only-of-type {\n",
       "        vertical-align: middle;\n",
       "    }\n",
       "\n",
       "    .dataframe tbody tr th {\n",
       "        vertical-align: top;\n",
       "    }\n",
       "\n",
       "    .dataframe thead th {\n",
       "        text-align: right;\n",
       "    }\n",
       "</style>\n",
       "<table border=\"1\" class=\"dataframe\">\n",
       "  <thead>\n",
       "    <tr style=\"text-align: right;\">\n",
       "      <th></th>\n",
       "      <th>sum</th>\n",
       "      <th>size</th>\n",
       "      <th>mean</th>\n",
       "    </tr>\n",
       "    <tr>\n",
       "      <th>test</th>\n",
       "      <th></th>\n",
       "      <th></th>\n",
       "      <th></th>\n",
       "    </tr>\n",
       "  </thead>\n",
       "  <tbody>\n",
       "    <tr>\n",
       "      <th>1.0</th>\n",
       "      <td>39774</td>\n",
       "      <td>40025</td>\n",
       "      <td>0.993729</td>\n",
       "    </tr>\n",
       "    <tr>\n",
       "      <th>0.0</th>\n",
       "      <td>30589</td>\n",
       "      <td>35346</td>\n",
       "      <td>0.865416</td>\n",
       "    </tr>\n",
       "    <tr>\n",
       "      <th>2.0</th>\n",
       "      <td>341</td>\n",
       "      <td>1066</td>\n",
       "      <td>0.319887</td>\n",
       "    </tr>\n",
       "  </tbody>\n",
       "</table>\n",
       "</div>"
      ],
      "text/plain": [
       "        sum   size      mean\n",
       "test                        \n",
       "1.0   39774  40025  0.993729\n",
       "0.0   30589  35346  0.865416\n",
       "2.0   341    1066   0.319887"
      ]
     },
     "execution_count": 77,
     "metadata": {},
     "output_type": "execute_result"
    }
   ],
   "source": [
    "rf.fit(X_train, y_train)\n",
    "get_metric(X_test, y_test, rf)"
   ]
  },
  {
   "cell_type": "code",
   "execution_count": 78,
   "metadata": {},
   "outputs": [
    {
     "data": {
      "image/png": "[encoded data removed]",
      "text/plain": [
       "<Figure size 1440x360 with 3 Axes>"
      ]
     },
     "metadata": {
      "needs_background": "light"
     },
     "output_type": "display_data"
    }
   ],
   "source": [
    "get_roc_auc(X_test, y_test, rf)"
   ]
  },
  {
   "cell_type": "code",
   "execution_count": 80,
   "metadata": {},
   "outputs": [
    {
     "name": "stdout",
     "output_type": "stream",
     "text": [
      "             precision    recall  f1-score   support\n",
      "\n",
      "        0.0       0.93      0.94      0.94     35346\n",
      "        1.0       0.95      0.95      0.95     40025\n",
      "        2.0       0.67      0.64      0.66      1066\n",
      "\n",
      "avg / total       0.94      0.94      0.94     76437\n",
      "\n",
      "0.9398328034852231\n"
     ]
    },
    {
     "data": {
      "text/html": [
       "<div>\n",
       "<style scoped>\n",
       "    .dataframe tbody tr th:only-of-type {\n",
       "        vertical-align: middle;\n",
       "    }\n",
       "\n",
       "    .dataframe tbody tr th {\n",
       "        vertical-align: top;\n",
       "    }\n",
       "\n",
       "    .dataframe thead th {\n",
       "        text-align: right;\n",
       "    }\n",
       "</style>\n",
       "<table border=\"1\" class=\"dataframe\">\n",
       "  <thead>\n",
       "    <tr style=\"text-align: right;\">\n",
       "      <th></th>\n",
       "      <th>sum</th>\n",
       "      <th>size</th>\n",
       "      <th>mean</th>\n",
       "    </tr>\n",
       "    <tr>\n",
       "      <th>test</th>\n",
       "      <th></th>\n",
       "      <th></th>\n",
       "      <th></th>\n",
       "    </tr>\n",
       "  </thead>\n",
       "  <tbody>\n",
       "    <tr>\n",
       "      <th>1.0</th>\n",
       "      <td>38046</td>\n",
       "      <td>40025</td>\n",
       "      <td>0.950556</td>\n",
       "    </tr>\n",
       "    <tr>\n",
       "      <th>0.0</th>\n",
       "      <td>33108</td>\n",
       "      <td>35346</td>\n",
       "      <td>0.936683</td>\n",
       "    </tr>\n",
       "    <tr>\n",
       "      <th>2.0</th>\n",
       "      <td>684</td>\n",
       "      <td>1066</td>\n",
       "      <td>0.641651</td>\n",
       "    </tr>\n",
       "  </tbody>\n",
       "</table>\n",
       "</div>"
      ],
      "text/plain": [
       "        sum   size      mean\n",
       "test                        \n",
       "1.0   38046  40025  0.950556\n",
       "0.0   33108  35346  0.936683\n",
       "2.0   684    1066   0.641651"
      ]
     },
     "execution_count": 80,
     "metadata": {},
     "output_type": "execute_result"
    }
   ],
   "source": [
    "clf.fit(X_train, y_train)\n",
    "get_metric(X_test, y_test, clf)"
   ]
  },
  {
   "cell_type": "code",
   "execution_count": 81,
   "metadata": {},
   "outputs": [
    {
     "data": {
      "image/png": "[encoded data removed]",
      "text/plain": [
       "<Figure size 1440x360 with 3 Axes>"
      ]
     },
     "metadata": {
      "needs_background": "light"
     },
     "output_type": "display_data"
    }
   ],
   "source": [
    "get_roc_auc(X_test, y_test, clf)"
   ]
  },
  {
   "cell_type": "markdown",
   "metadata": {},
   "source": [
    "### CatBoost\n",
    "\n",
    "Отдельная обработка, т.к. отдельно вычисляются категориальные признаки"
   ]
  },
  {
   "cell_type": "code",
   "execution_count": 28,
   "metadata": {},
   "outputs": [
    {
     "name": "stdout",
     "output_type": "stream",
     "text": [
      "ng Title\n",
      "ng OrgName\n"
     ]
    }
   ],
   "source": [
    "features = extract_features(data_head, onehot_encode=False)[0]\n",
    "features = pd.DataFrame(features)\n",
    "features.fillna(0, inplace=True)\n",
    "X_train, X_test, y_train, y_test = train_test_split(features.drop('ResultClass', axis=1).values,\n",
    "                            features.ResultClass.values,\n",
    "                            test_size=0.3,\n",
    "                            random_state=123456)"
   ]
  },
  {
   "cell_type": "code",
   "execution_count": 29,
   "metadata": {},
   "outputs": [
    {
     "data": {
      "text/html": [
       "<div>\n",
       "<style scoped>\n",
       "    .dataframe tbody tr th:only-of-type {\n",
       "        vertical-align: middle;\n",
       "    }\n",
       "\n",
       "    .dataframe tbody tr th {\n",
       "        vertical-align: top;\n",
       "    }\n",
       "\n",
       "    .dataframe thead th {\n",
       "        text-align: right;\n",
       "    }\n",
       "</style>\n",
       "<table border=\"1\" class=\"dataframe\">\n",
       "  <thead>\n",
       "    <tr style=\"text-align: right;\">\n",
       "      <th></th>\n",
       "      <th>CurrencyCode</th>\n",
       "      <th>ProcedureDisplayName</th>\n",
       "      <th>Ogrn1</th>\n",
       "    </tr>\n",
       "  </thead>\n",
       "  <tbody>\n",
       "    <tr>\n",
       "      <th>0</th>\n",
       "      <td>0</td>\n",
       "      <td>3</td>\n",
       "      <td>16</td>\n",
       "    </tr>\n",
       "    <tr>\n",
       "      <th>1</th>\n",
       "      <td>0</td>\n",
       "      <td>3</td>\n",
       "      <td>16</td>\n",
       "    </tr>\n",
       "    <tr>\n",
       "      <th>2</th>\n",
       "      <td>0</td>\n",
       "      <td>3</td>\n",
       "      <td>16</td>\n",
       "    </tr>\n",
       "    <tr>\n",
       "      <th>3</th>\n",
       "      <td>0</td>\n",
       "      <td>5</td>\n",
       "      <td>16</td>\n",
       "    </tr>\n",
       "    <tr>\n",
       "      <th>4</th>\n",
       "      <td>0</td>\n",
       "      <td>5</td>\n",
       "      <td>16</td>\n",
       "    </tr>\n",
       "  </tbody>\n",
       "</table>\n",
       "</div>"
      ],
      "text/plain": [
       "   CurrencyCode  ProcedureDisplayName  Ogrn1\n",
       "0  0             3                     16   \n",
       "1  0             3                     16   \n",
       "2  0             3                     16   \n",
       "3  0             5                     16   \n",
       "4  0             5                     16   "
      ]
     },
     "execution_count": 29,
     "metadata": {},
     "output_type": "execute_result"
    }
   ],
   "source": [
    "cat_features = ['CurrencyCode', 'ProcedureDisplayName', 'Ogrn1']\n",
    "features[cat_features].head()"
   ]
  },
  {
   "cell_type": "code",
   "execution_count": 30,
   "metadata": {},
   "outputs": [
    {
     "data": {
      "text/plain": [
       "array([4, 5, 6], dtype=int64)"
      ]
     },
     "execution_count": 30,
     "metadata": {},
     "output_type": "execute_result"
    }
   ],
   "source": [
    "cats = np.where(features.dtypes != np.float)[0]\n",
    "cats"
   ]
  },
  {
   "cell_type": "code",
   "execution_count": 31,
   "metadata": {
    "scrolled": true
   },
   "outputs": [
    {
     "data": {
      "text/plain": [
       "<catboost.core.CatBoostClassifier at 0x1a58a065550>"
      ]
     },
     "execution_count": 31,
     "metadata": {},
     "output_type": "execute_result"
    }
   ],
   "source": [
    "model = CatBoostClassifier(iterations=100, depth=10, learning_rate=.1, loss_function='MultiClass', classes_count=3,\n",
    "                           logging_level='Silent')\n",
    "model.fit(X_train, y_train, cat_features=cats)"
   ]
  },
  {
   "cell_type": "code",
   "execution_count": 32,
   "metadata": {
    "scrolled": true
   },
   "outputs": [
    {
     "name": "stdout",
     "output_type": "stream",
     "text": [
      "             precision    recall  f1-score   support\n",
      "\n",
      "        0.0       0.97      0.90      0.93     35346\n",
      "        1.0       0.92      0.99      0.95     40025\n",
      "        2.0       0.92      0.43      0.59      1066\n",
      "\n",
      "avg / total       0.94      0.94      0.94     76437\n",
      "\n",
      "0.9413373104648273\n"
     ]
    },
    {
     "data": {
      "text/html": [
       "<div>\n",
       "<style scoped>\n",
       "    .dataframe tbody tr th:only-of-type {\n",
       "        vertical-align: middle;\n",
       "    }\n",
       "\n",
       "    .dataframe tbody tr th {\n",
       "        vertical-align: top;\n",
       "    }\n",
       "\n",
       "    .dataframe thead th {\n",
       "        text-align: right;\n",
       "    }\n",
       "</style>\n",
       "<table border=\"1\" class=\"dataframe\">\n",
       "  <thead>\n",
       "    <tr style=\"text-align: right;\">\n",
       "      <th></th>\n",
       "      <th>sum</th>\n",
       "      <th>size</th>\n",
       "      <th>mean</th>\n",
       "    </tr>\n",
       "    <tr>\n",
       "      <th>test</th>\n",
       "      <th></th>\n",
       "      <th></th>\n",
       "      <th></th>\n",
       "    </tr>\n",
       "  </thead>\n",
       "  <tbody>\n",
       "    <tr>\n",
       "      <th>1.0</th>\n",
       "      <td>39537</td>\n",
       "      <td>40025</td>\n",
       "      <td>0.987808</td>\n",
       "    </tr>\n",
       "    <tr>\n",
       "      <th>0.0</th>\n",
       "      <td>31954</td>\n",
       "      <td>35346</td>\n",
       "      <td>0.904034</td>\n",
       "    </tr>\n",
       "    <tr>\n",
       "      <th>2.0</th>\n",
       "      <td>462</td>\n",
       "      <td>1066</td>\n",
       "      <td>0.433396</td>\n",
       "    </tr>\n",
       "  </tbody>\n",
       "</table>\n",
       "</div>"
      ],
      "text/plain": [
       "        sum   size      mean\n",
       "test                        \n",
       "1.0   39537  40025  0.987808\n",
       "0.0   31954  35346  0.904034\n",
       "2.0   462    1066   0.433396"
      ]
     },
     "execution_count": 32,
     "metadata": {},
     "output_type": "execute_result"
    }
   ],
   "source": [
    "get_metric(X_test, y_test, model)"
   ]
  },
  {
   "cell_type": "code",
   "execution_count": 33,
   "metadata": {},
   "outputs": [
    {
     "data": {
      "image/png": "[encoded data removed]",
      "text/plain": [
       "<Figure size 432x288 with 1 Axes>"
      ]
     },
     "metadata": {
      "needs_background": "light"
     },
     "output_type": "display_data"
    },
    {
     "data": {
      "image/png": "[encoded data removed]",
      "text/plain": [
       "<Figure size 432x288 with 1 Axes>"
      ]
     },
     "metadata": {
      "needs_background": "light"
     },
     "output_type": "display_data"
    },
    {
     "data": {
      "image/png": "[encoded data removed]",
      "text/plain": [
       "<Figure size 432x288 with 1 Axes>"
      ]
     },
     "metadata": {
      "needs_background": "light"
     },
     "output_type": "display_data"
    }
   ],
   "source": [
    "get_roc_auc(X_test, y_test, model)"
   ]
  },
  {
   "cell_type": "code",
   "execution_count": 55,
   "metadata": {},
   "outputs": [],
   "source": [
    "def cross_val(X, y, X_test, param, cat_features, n_splits=3):\n",
    "    skf = StratifiedKFold(n_splits=n_splits, shuffle=True, random_state=42)\n",
    "    \n",
    "    acc = []\n",
    "    predict = None\n",
    "    \n",
    "    for tr_ind, val_ind in skf.split(X, y):\n",
    "        X_train = X[tr_ind]\n",
    "        y_train = y[tr_ind]\n",
    "        \n",
    "        X_valid = X[val_ind]\n",
    "        y_valid = y[val_ind]\n",
    "        \n",
    "        clf = CatBoostClassifier(iterations=100, loss_function=param['loss_function'], depth=param['depth'],\n",
    "                                 eval_metric='Accuracy', leaf_estimation_iterations=10,\n",
    "                                 logging_level='Silent', learning_rate=param['learning_rate'],\n",
    "                                 classes_count=3)\n",
    "        \n",
    "        clf.fit(X_train, \n",
    "                y_train,\n",
    "                cat_features=cat_features\n",
    "        )\n",
    "        \n",
    "        y_pred = clf.predict(X_valid)\n",
    "        accuracy = accuracy_score(y_valid, y_pred)\n",
    "        acc.append(accuracy)\n",
    "    return sum(acc)/n_splits\n",
    "    \n",
    "def catboost_GridSearchCV(X, y, X_test, params, cat_features, n_splits=5):\n",
    "    ps = {'acc':0,\n",
    "          'param': []\n",
    "    }\n",
    "    \n",
    "    predict=None\n",
    "    grid = list(ParameterGrid(params))\n",
    "    l = len(grid)\n",
    "    for i, prms in enumerate(grid):\n",
    "                          \n",
    "        acc = cross_val(X, y, X_test, prms, cat_features, n_splits=5)\n",
    "        print(f'{i}/{l}')\n",
    "        if acc>ps['acc']:\n",
    "            ps['acc'] = acc\n",
    "            ps['param'] = prms\n",
    "    print('Acc: '+str(ps['acc']))\n",
    "    print('Params: '+str(ps['param']))\n",
    "    \n",
    "    return ps['param']"
   ]
  },
  {
   "cell_type": "code",
   "execution_count": 56,
   "metadata": {
    "scrolled": true
   },
   "outputs": [
    {
     "name": "stdout",
     "output_type": "stream",
     "text": [
      "0/12\n",
      "1/12\n",
      "2/12\n",
      "3/12\n",
      "4/12\n",
      "5/12\n",
      "6/12\n",
      "7/12\n",
      "8/12\n",
      "9/12\n",
      "10/12\n",
      "11/12\n",
      "Acc: 0.9462187237765359\n",
      "Params: {'depth': 11, 'learning_rate': 0.1, 'loss_function': 'MultiClass'}\n"
     ]
    },
    {
     "data": {
      "text/plain": [
       "{'depth': 11, 'learning_rate': 0.1, 'loss_function': 'MultiClass'}"
      ]
     },
     "execution_count": 56,
     "metadata": {},
     "output_type": "execute_result"
    }
   ],
   "source": [
    "params = {\n",
    "    'depth':[7, 9, 11],\n",
    "    'loss_function': ['MultiClass', 'MultiClassOneVsAll'],\n",
    "    'learning_rate': [0.1, 0.01]\n",
    "}\n",
    "    \n",
    "param = catboost_GridSearchCV(X_train, y_train, X_test, params, cats)\n",
    "param"
   ]
  },
  {
   "cell_type": "code",
   "execution_count": 57,
   "metadata": {},
   "outputs": [
    {
     "data": {
      "text/plain": [
       "<catboost.core.CatBoostClassifier at 0x1a58a1ece80>"
      ]
     },
     "execution_count": 57,
     "metadata": {},
     "output_type": "execute_result"
    }
   ],
   "source": [
    "model = CatBoostClassifier(iterations=500, depth=11, learning_rate=.1, loss_function='MultiClass', classes_count=3,\n",
    "                           logging_level='Silent', leaf_estimation_iterations=10)\n",
    "model.fit(X_train, y_train, cat_features=cats)"
   ]
  },
  {
   "cell_type": "code",
   "execution_count": 58,
   "metadata": {},
   "outputs": [
    {
     "name": "stdout",
     "output_type": "stream",
     "text": [
      "             precision    recall  f1-score   support\n",
      "\n",
      "        0.0       0.97      0.93      0.95     35346\n",
      "        1.0       0.94      0.98      0.96     40025\n",
      "        2.0       0.90      0.55      0.68      1066\n",
      "\n",
      "avg / total       0.95      0.95      0.95     76437\n",
      "\n",
      "0.9534387796485995\n"
     ]
    },
    {
     "data": {
      "text/html": [
       "<div>\n",
       "<style scoped>\n",
       "    .dataframe tbody tr th:only-of-type {\n",
       "        vertical-align: middle;\n",
       "    }\n",
       "\n",
       "    .dataframe tbody tr th {\n",
       "        vertical-align: top;\n",
       "    }\n",
       "\n",
       "    .dataframe thead th {\n",
       "        text-align: right;\n",
       "    }\n",
       "</style>\n",
       "<table border=\"1\" class=\"dataframe\">\n",
       "  <thead>\n",
       "    <tr style=\"text-align: right;\">\n",
       "      <th></th>\n",
       "      <th>sum</th>\n",
       "      <th>size</th>\n",
       "      <th>mean</th>\n",
       "    </tr>\n",
       "    <tr>\n",
       "      <th>test</th>\n",
       "      <th></th>\n",
       "      <th></th>\n",
       "      <th></th>\n",
       "    </tr>\n",
       "  </thead>\n",
       "  <tbody>\n",
       "    <tr>\n",
       "      <th>1.0</th>\n",
       "      <td>39328</td>\n",
       "      <td>40025</td>\n",
       "      <td>0.982586</td>\n",
       "    </tr>\n",
       "    <tr>\n",
       "      <th>0.0</th>\n",
       "      <td>32965</td>\n",
       "      <td>35346</td>\n",
       "      <td>0.932637</td>\n",
       "    </tr>\n",
       "    <tr>\n",
       "      <th>2.0</th>\n",
       "      <td>585</td>\n",
       "      <td>1066</td>\n",
       "      <td>0.548780</td>\n",
       "    </tr>\n",
       "  </tbody>\n",
       "</table>\n",
       "</div>"
      ],
      "text/plain": [
       "        sum   size      mean\n",
       "test                        \n",
       "1.0   39328  40025  0.982586\n",
       "0.0   32965  35346  0.932637\n",
       "2.0   585    1066   0.548780"
      ]
     },
     "execution_count": 58,
     "metadata": {},
     "output_type": "execute_result"
    }
   ],
   "source": [
    "get_metric(X_test, y_test, model)"
   ]
  },
  {
   "cell_type": "code",
   "execution_count": 59,
   "metadata": {},
   "outputs": [
    {
     "data": {
      "image/png": "[encoded data removed]",
      "text/plain": [
       "<Figure size 432x288 with 1 Axes>"
      ]
     },
     "metadata": {
      "needs_background": "light"
     },
     "output_type": "display_data"
    },
    {
     "data": {
      "image/png": "[encoded data removed]",
      "text/plain": [
       "<Figure size 432x288 with 1 Axes>"
      ]
     },
     "metadata": {
      "needs_background": "light"
     },
     "output_type": "display_data"
    },
    {
     "data": {
      "image/png": "[encoded data removed]",
      "text/plain": [
       "<Figure size 432x288 with 1 Axes>"
      ]
     },
     "metadata": {
      "needs_background": "light"
     },
     "output_type": "display_data"
    }
   ],
   "source": [
    "get_roc_auc(X_test, y_test, model)"
   ]
  },
  {
   "cell_type": "code",
   "execution_count": 82,
   "metadata": {},
   "outputs": [
    {
     "name": "stdout",
     "output_type": "stream",
     "text": [
      "             precision    recall  f1-score   support\n",
      "\n",
      "        0.0       0.96      0.94      0.95     35346\n",
      "        1.0       0.95      0.98      0.96     40025\n",
      "        2.0       0.88      0.55      0.68      1066\n",
      "\n",
      "avg / total       0.95      0.95      0.95     76437\n",
      "\n",
      "0.9531902089302301\n"
     ]
    },
    {
     "data": {
      "text/html": [
       "<div>\n",
       "<style scoped>\n",
       "    .dataframe tbody tr th:only-of-type {\n",
       "        vertical-align: middle;\n",
       "    }\n",
       "\n",
       "    .dataframe tbody tr th {\n",
       "        vertical-align: top;\n",
       "    }\n",
       "\n",
       "    .dataframe thead th {\n",
       "        text-align: right;\n",
       "    }\n",
       "</style>\n",
       "<table border=\"1\" class=\"dataframe\">\n",
       "  <thead>\n",
       "    <tr style=\"text-align: right;\">\n",
       "      <th></th>\n",
       "      <th>sum</th>\n",
       "      <th>size</th>\n",
       "      <th>mean</th>\n",
       "    </tr>\n",
       "    <tr>\n",
       "      <th>test</th>\n",
       "      <th></th>\n",
       "      <th></th>\n",
       "      <th></th>\n",
       "    </tr>\n",
       "  </thead>\n",
       "  <tbody>\n",
       "    <tr>\n",
       "      <th>1.0</th>\n",
       "      <td>39205</td>\n",
       "      <td>40025</td>\n",
       "      <td>0.979513</td>\n",
       "    </tr>\n",
       "    <tr>\n",
       "      <th>0.0</th>\n",
       "      <td>33067</td>\n",
       "      <td>35346</td>\n",
       "      <td>0.935523</td>\n",
       "    </tr>\n",
       "    <tr>\n",
       "      <th>2.0</th>\n",
       "      <td>587</td>\n",
       "      <td>1066</td>\n",
       "      <td>0.550657</td>\n",
       "    </tr>\n",
       "  </tbody>\n",
       "</table>\n",
       "</div>"
      ],
      "text/plain": [
       "        sum   size      mean\n",
       "test                        \n",
       "1.0   39205  40025  0.979513\n",
       "0.0   33067  35346  0.935523\n",
       "2.0   587    1066   0.550657"
      ]
     },
     "execution_count": 82,
     "metadata": {},
     "output_type": "execute_result"
    }
   ],
   "source": [
    "model = CatBoostClassifier(iterations=1000, depth=11, learning_rate=.1, loss_function='MultiClass', \n",
    "                           classes_count=3, logging_level='Silent', leaf_estimation_iterations=10)\n",
    "model.fit(X_train, y_train, cat_features=cats)\n",
    "get_metric(X_test, y_test, model)"
   ]
  },
  {
   "cell_type": "code",
   "execution_count": 83,
   "metadata": {},
   "outputs": [
    {
     "data": {
      "image/png": "[encoded data removed]",
      "text/plain": [
       "<Figure size 1440x360 with 3 Axes>"
      ]
     },
     "metadata": {
      "needs_background": "light"
     },
     "output_type": "display_data"
    }
   ],
   "source": [
    "get_roc_auc(X_test, y_test, model)"
   ]
  },
  {
   "cell_type": "code",
   "execution_count": 86,
   "metadata": {},
   "outputs": [
    {
     "data": {
      "text/plain": [
       "[<matplotlib.lines.Line2D at 0x1a58defab70>]"
      ]
     },
     "execution_count": 86,
     "metadata": {},
     "output_type": "execute_result"
    },
    {
     "data": {
      "image/png": "[encoded data removed]",
      "text/plain": [
       "<Figure size 432x288 with 1 Axes>"
      ]
     },
     "metadata": {
      "needs_background": "light"
     },
     "output_type": "display_data"
    }
   ],
   "source": [
    "x = ['DecisionTree', 'RandomForest', 'XGBoost', 'LightGBM', 'CatBoost']\n",
    "plt.title('Accuracy')\n",
    "y = [0.94, 0.924, 0.951, 0.946, 0.953]\n",
    "plt.plot(x, y, 'go-')"
   ]
  },
  {
   "cell_type": "code",
   "execution_count": null,
   "metadata": {},
   "outputs": [],
   "source": []
  }
 ],
 "metadata": {
  "kernelspec": {
   "display_name": "Python 3",
   "language": "python",
   "name": "python3"
  },
  "language_info": {
   "codemirror_mode": {
    "name": "ipython",
    "version": 3
   },
   "file_extension": ".py",
   "mimetype": "text/x-python",
   "name": "python",
   "nbconvert_exporter": "python",
   "pygments_lexer": "ipython3",
   "version": "3.6.8"
  }
 },
 "nbformat": 4,
 "nbformat_minor": 2
}
