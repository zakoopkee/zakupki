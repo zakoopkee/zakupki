{
 "cells": [
  {
   "cell_type": "code",
   "execution_count": 21,
   "metadata": {
    "collapsed": true
   },
   "outputs": [],
   "source": [
    "import numpy as np\n",
    "import pandas as pd\n",
    "import seaborn as sns\n",
    "import matplotlib.pyplot as plt\n",
    "\n",
    "from sklearn.dummy import DummyRegressor\n",
    "from sklearn.linear_model import LinearRegression, Lasso, Ridge\n",
    "from sklearn.model_selection import cross_val_score, GridSearchCV\n",
    "\n",
    "from data_reader import read_data\n",
    "from data_preprocessing import preprocess_data\n",
    "from feature_extractor import extract_features\n",
    "\n",
    "%matplotlib inline"
   ]
  },
  {
   "cell_type": "code",
   "execution_count": 22,
   "metadata": {
    "scrolled": true
   },
   "outputs": [
    {
     "data": {
      "text/html": [
       "<div>\n",
       "<style>\n",
       "    .dataframe thead tr:only-child th {\n",
       "        text-align: right;\n",
       "    }\n",
       "\n",
       "    .dataframe thead th {\n",
       "        text-align: left;\n",
       "    }\n",
       "\n",
       "    .dataframe tbody tr th {\n",
       "        vertical-align: top;\n",
       "    }\n",
       "</style>\n",
       "<table border=\"1\" class=\"dataframe\">\n",
       "  <thead>\n",
       "    <tr style=\"text-align: right;\">\n",
       "      <th></th>\n",
       "      <th>id</th>\n",
       "      <th>Title</th>\n",
       "      <th>Uri</th>\n",
       "      <th>PublicationDateTimeUTC</th>\n",
       "      <th>ProcedureDisplayName</th>\n",
       "      <th>Amount</th>\n",
       "      <th>RubPrice</th>\n",
       "      <th>CurrencyCode</th>\n",
       "      <th>StatusDisplayName</th>\n",
       "      <th>StatusCode</th>\n",
       "      <th>SuppliersCount</th>\n",
       "      <th>IsWinner</th>\n",
       "    </tr>\n",
       "  </thead>\n",
       "  <tbody>\n",
       "    <tr>\n",
       "      <th>0</th>\n",
       "      <td>0100600000117000001</td>\n",
       "      <td>Закупки товаров, работ, услуг в соответствии с...</td>\n",
       "      <td>https://zakupki.kontur.ru/0100600000117000001</td>\n",
       "      <td>2017-04-13</td>\n",
       "      <td>Закупка у единственного поставщика (подрядчика...</td>\n",
       "      <td>1310000.0</td>\n",
       "      <td>1310000.0</td>\n",
       "      <td>RUB</td>\n",
       "      <td>Размещение завершено</td>\n",
       "      <td>2.0</td>\n",
       "      <td>0.0</td>\n",
       "      <td>0.0</td>\n",
       "    </tr>\n",
       "    <tr>\n",
       "      <th>1</th>\n",
       "      <td>0100600000117000002</td>\n",
       "      <td>Закупки товаров, работ, услуг в соответствии с...</td>\n",
       "      <td>https://zakupki.kontur.ru/0100600000117000002</td>\n",
       "      <td>2017-04-13</td>\n",
       "      <td>Закупка у единственного поставщика (подрядчика...</td>\n",
       "      <td>249000.0</td>\n",
       "      <td>249000.0</td>\n",
       "      <td>RUB</td>\n",
       "      <td>Размещение завершено</td>\n",
       "      <td>2.0</td>\n",
       "      <td>0.0</td>\n",
       "      <td>0.0</td>\n",
       "    </tr>\n",
       "    <tr>\n",
       "      <th>2</th>\n",
       "      <td>0100600000117000003</td>\n",
       "      <td>Закупки товаров, работ, услуг в соответствии с...</td>\n",
       "      <td>https://zakupki.kontur.ru/0100600000117000003</td>\n",
       "      <td>2017-07-06</td>\n",
       "      <td>Закупка у единственного поставщика (подрядчика...</td>\n",
       "      <td>250000.0</td>\n",
       "      <td>250000.0</td>\n",
       "      <td>RUB</td>\n",
       "      <td>Размещение завершено</td>\n",
       "      <td>2.0</td>\n",
       "      <td>0.0</td>\n",
       "      <td>0.0</td>\n",
       "    </tr>\n",
       "    <tr>\n",
       "      <th>3</th>\n",
       "      <td>0100600000117000004</td>\n",
       "      <td>Выполнение работ по ремонту автомобильной доро...</td>\n",
       "      <td>https://zakupki.kontur.ru/0100600000117000004</td>\n",
       "      <td>2017-07-06</td>\n",
       "      <td>Запрос котировок</td>\n",
       "      <td>400300.0</td>\n",
       "      <td>400300.0</td>\n",
       "      <td>RUB</td>\n",
       "      <td>Размещение завершено</td>\n",
       "      <td>2.0</td>\n",
       "      <td>2.0</td>\n",
       "      <td>1.0</td>\n",
       "    </tr>\n",
       "    <tr>\n",
       "      <th>4</th>\n",
       "      <td>0100600000117000005</td>\n",
       "      <td>Приобретение и установка спортивного оборудования</td>\n",
       "      <td>https://zakupki.kontur.ru/0100600000117000005</td>\n",
       "      <td>2017-07-10</td>\n",
       "      <td>Запрос котировок</td>\n",
       "      <td>451000.0</td>\n",
       "      <td>451000.0</td>\n",
       "      <td>RUB</td>\n",
       "      <td>Размещение завершено</td>\n",
       "      <td>2.0</td>\n",
       "      <td>1.0</td>\n",
       "      <td>0.0</td>\n",
       "    </tr>\n",
       "  </tbody>\n",
       "</table>\n",
       "</div>"
      ],
      "text/plain": [
       "                    id                                              Title  \\\n",
       "0  0100600000117000001  Закупки товаров, работ, услуг в соответствии с...   \n",
       "1  0100600000117000002  Закупки товаров, работ, услуг в соответствии с...   \n",
       "2  0100600000117000003  Закупки товаров, работ, услуг в соответствии с...   \n",
       "3  0100600000117000004  Выполнение работ по ремонту автомобильной доро...   \n",
       "4  0100600000117000005  Приобретение и установка спортивного оборудования   \n",
       "\n",
       "                                             Uri PublicationDateTimeUTC  \\\n",
       "0  https://zakupki.kontur.ru/0100600000117000001             2017-04-13   \n",
       "1  https://zakupki.kontur.ru/0100600000117000002             2017-04-13   \n",
       "2  https://zakupki.kontur.ru/0100600000117000003             2017-07-06   \n",
       "3  https://zakupki.kontur.ru/0100600000117000004             2017-07-06   \n",
       "4  https://zakupki.kontur.ru/0100600000117000005             2017-07-10   \n",
       "\n",
       "                                ProcedureDisplayName     Amount   RubPrice  \\\n",
       "0  Закупка у единственного поставщика (подрядчика...  1310000.0  1310000.0   \n",
       "1  Закупка у единственного поставщика (подрядчика...   249000.0   249000.0   \n",
       "2  Закупка у единственного поставщика (подрядчика...   250000.0   250000.0   \n",
       "3                                   Запрос котировок   400300.0   400300.0   \n",
       "4                                   Запрос котировок   451000.0   451000.0   \n",
       "\n",
       "  CurrencyCode     StatusDisplayName StatusCode  SuppliersCount  IsWinner  \n",
       "0          RUB  Размещение завершено        2.0             0.0       0.0  \n",
       "1          RUB  Размещение завершено        2.0             0.0       0.0  \n",
       "2          RUB  Размещение завершено        2.0             0.0       0.0  \n",
       "3          RUB  Размещение завершено        2.0             2.0       1.0  \n",
       "4          RUB  Размещение завершено        2.0             1.0       0.0  "
      ]
     },
     "execution_count": 22,
     "metadata": {},
     "output_type": "execute_result"
    }
   ],
   "source": [
    "data = preprocess_data(read_data())\n",
    "data.head()"
   ]
  },
  {
   "cell_type": "code",
   "execution_count": 30,
   "metadata": {},
   "outputs": [
    {
     "data": {
      "text/plain": [
       "<matplotlib.collections.PathCollection at 0x2315c867630>"
      ]
     },
     "execution_count": 30,
     "metadata": {},
     "output_type": "execute_result"
    },
    {
     "data": {
      "image/png": "[encoded data removed]",
      "text/plain": [
       "<matplotlib.figure.Figure at 0x231b2f88048>"
      ]
     },
     "metadata": {},
     "output_type": "display_data"
    }
   ],
   "source": [
    "plt.scatter(data['RubPrice'], data['SuppliersCount'])"
   ]
  },
  {
   "cell_type": "code",
   "execution_count": 31,
   "metadata": {
    "scrolled": true
   },
   "outputs": [
    {
     "data": {
      "text/plain": [
       "<matplotlib.collections.PathCollection at 0x23143a86208>"
      ]
     },
     "execution_count": 31,
     "metadata": {},
     "output_type": "execute_result"
    },
    {
     "data": {
      "image/png": "[encoded data removed]",
      "text/plain": [
       "<matplotlib.figure.Figure at 0x2314981a390>"
      ]
     },
     "metadata": {},
     "output_type": "display_data"
    }
   ],
   "source": [
    "data_nn = data[(~np.isnan(data['RubPrice'])) & (~np.isnan(data['SuppliersCount']))]\n",
    "data95 = data_nn[(data_nn['RubPrice'] < np.percentile(data_nn['RubPrice'], 99.9)) &\n",
    "                 (data_nn['SuppliersCount'] < np.percentile(data_nn['SuppliersCount'], 99.9))]\n",
    "plt.scatter(data95['RubPrice'], data95['SuppliersCount'])"
   ]
  },
  {
   "cell_type": "code",
   "execution_count": 32,
   "metadata": {
    "collapsed": true
   },
   "outputs": [],
   "source": [
    "data = data.head(1000000)\n",
    "features = extract_features(data)"
   ]
  },
  {
   "cell_type": "code",
   "execution_count": 33,
   "metadata": {
    "collapsed": true
   },
   "outputs": [],
   "source": [
    "def ngrams(data, column):\n",
    "    return data.columns[data.columns.str.startswith(f'Ngrams_{column}_')].tolist()\n",
    "\n",
    "def onehots(data, column):\n",
    "    return data.columns[data.columns.str.startswith(f'OneHot_{column}_')].tolist()"
   ]
  },
  {
   "cell_type": "code",
   "execution_count": 34,
   "metadata": {
    "collapsed": true
   },
   "outputs": [],
   "source": [
    "X = features[ngrams(features, 'Title') + ['RubPrice']]\n",
    "y = data['SuppliersCount']"
   ]
  },
  {
   "cell_type": "code",
   "execution_count": 35,
   "metadata": {},
   "outputs": [
    {
     "data": {
      "text/plain": [
       "-2.8902370419471808"
      ]
     },
     "execution_count": 35,
     "metadata": {},
     "output_type": "execute_result"
    }
   ],
   "source": [
    "cross_val_score(LinearRegression(), X, y, cv=3, scoring='neg_mean_squared_error').mean()"
   ]
  },
  {
   "cell_type": "code",
   "execution_count": 36,
   "metadata": {},
   "outputs": [
    {
     "data": {
      "text/plain": [
       "-3.7368879093207781"
      ]
     },
     "execution_count": 36,
     "metadata": {},
     "output_type": "execute_result"
    }
   ],
   "source": [
    "cross_val_score(DummyRegressor(), X, y, cv=3, scoring='neg_mean_squared_error').mean()"
   ]
  },
  {
   "cell_type": "code",
   "execution_count": 37,
   "metadata": {
    "collapsed": true
   },
   "outputs": [],
   "source": [
    "# from sklearn.svm import LinearSVR\n",
    "# cross_val_score(LinearSVR(), X, y, cv=3, scoring='neg_mean_squared_error').mean()"
   ]
  },
  {
   "cell_type": "code",
   "execution_count": 38,
   "metadata": {
    "collapsed": true
   },
   "outputs": [],
   "source": [
    "# from sklearn.ensemble import RandomForestRegressor\n",
    "# cross_val_score(RandomForestRegressor(), X, y, cv=3, scoring='neg_mean_squared_error').mean()"
   ]
  },
  {
   "cell_type": "code",
   "execution_count": 39,
   "metadata": {},
   "outputs": [
    {
     "data": {
      "text/plain": [
       "-2.5711232120193181"
      ]
     },
     "execution_count": 39,
     "metadata": {},
     "output_type": "execute_result"
    }
   ],
   "source": [
    "X = features[ngrams(features, 'Title') + ngrams(features, 'ProcedureDisplayName')]\n",
    "cross_val_score(Ridge(), X, y, cv=3, scoring='neg_mean_squared_error').mean()"
   ]
  },
  {
   "cell_type": "code",
   "execution_count": 40,
   "metadata": {},
   "outputs": [
    {
     "data": {
      "text/plain": [
       "-2.5711032399419937"
      ]
     },
     "execution_count": 40,
     "metadata": {},
     "output_type": "execute_result"
    }
   ],
   "source": [
    "X = features[ngrams(features, 'Title') + onehots(features, 'ProcedureDisplayName')]\n",
    "cross_val_score(Ridge(), X, y, cv=3, scoring='neg_mean_squared_error').mean()"
   ]
  },
  {
   "cell_type": "code",
   "execution_count": 41,
   "metadata": {},
   "outputs": [
    {
     "data": {
      "text/plain": [
       "-1.0970765962487146"
      ]
     },
     "execution_count": 41,
     "metadata": {},
     "output_type": "execute_result"
    }
   ],
   "source": [
    "cross_val_score(Ridge(), X, y, cv=3, scoring='neg_mean_absolute_error').mean()"
   ]
  },
  {
   "cell_type": "code",
   "execution_count": 42,
   "metadata": {},
   "outputs": [
    {
     "data": {
      "text/plain": [
       "-3.7368879093207781"
      ]
     },
     "execution_count": 42,
     "metadata": {},
     "output_type": "execute_result"
    }
   ],
   "source": [
    "X = features[ngrams(features, 'Title') + ngrams(features, 'ProcedureDisplayName')]\n",
    "cross_val_score(Lasso(), X, y, cv=3, scoring='neg_mean_squared_error').mean()"
   ]
  },
  {
   "cell_type": "code",
   "execution_count": 43,
   "metadata": {},
   "outputs": [
    {
     "data": {
      "text/plain": [
       "-3.7368879093207781"
      ]
     },
     "execution_count": 43,
     "metadata": {},
     "output_type": "execute_result"
    }
   ],
   "source": [
    "X = features[ngrams(features, 'Title') + onehots(features, 'ProcedureDisplayName')]\n",
    "cross_val_score(Lasso(), X, y, cv=3, scoring='neg_mean_squared_error').mean()"
   ]
  },
  {
   "cell_type": "code",
   "execution_count": null,
   "metadata": {},
   "outputs": [],
   "source": [
    "# param_grid = {'alpha': [0.01, 0.05, 0.1, 0.5, 1, 5, 10]}\n",
    "# optimizer = GridSearchCV(Ridge(), param_grid, scoring='neg_mean_squared_error', cv=3)\n",
    "# optimizer.fit(X, y)\n",
    "# optimizer.best_estimator_.coef_, optimizer.best_score_"
   ]
  },
  {
   "cell_type": "code",
   "execution_count": null,
   "metadata": {},
   "outputs": [],
   "source": [
    "X = features[ngrams(features, 'Title') + onehots(features, 'ProcedureDisplayName') + ['RubPrice']]\n",
    "cross_val_score(Ridge(), X, y, cv=3, scoring='neg_mean_squared_error').mean()"
   ]
  },
  {
   "cell_type": "code",
   "execution_count": null,
   "metadata": {
    "collapsed": true
   },
   "outputs": [],
   "source": []
  }
 ],
 "metadata": {
  "kernelspec": {
   "display_name": "Python 3",
   "language": "python",
   "name": "python3"
  },
  "language_info": {
   "codemirror_mode": {
    "name": "ipython",
    "version": 3
   },
   "file_extension": ".py",
   "mimetype": "text/x-python",
   "name": "python",
   "nbconvert_exporter": "python",
   "pygments_lexer": "ipython3",
   "version": "3.6.3"
  }
 },
 "nbformat": 4,
 "nbformat_minor": 2
}
